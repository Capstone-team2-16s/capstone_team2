{
 "cells": [
  {
   "cell_type": "code",
   "execution_count": 1,
   "metadata": {},
   "outputs": [],
   "source": [
    "import re"
   ]
  },
  {
   "cell_type": "code",
   "execution_count": 2,
   "metadata": {},
   "outputs": [],
   "source": [
    "# read data from text files\n",
    "with open('twitter_get_timeline_@AnneMarie_0929.txt', 'r', encoding = \"utf-8\") as f:\n",
    "    tweets = f.read()"
   ]
  },
  {
   "cell_type": "markdown",
   "metadata": {},
   "source": [
    "## URL 제거 "
   ]
  },
  {
   "cell_type": "code",
   "execution_count": 3,
   "metadata": {},
   "outputs": [],
   "source": [
    "tweets = ' '.join(re.sub(\"(\\w+:\\/\\/\\S+)\", \"\", tweets).split())"
   ]
  },
  {
   "cell_type": "markdown",
   "metadata": {},
   "source": [
    "## id 제거 "
   ]
  },
  {
   "cell_type": "code",
   "execution_count": 4,
   "metadata": {},
   "outputs": [],
   "source": [
    "tweets = ' '.join(re.sub(\"(@[A-Za-z0-9]+)\",\"\", tweets).split())"
   ]
  },
  {
   "cell_type": "markdown",
   "metadata": {},
   "source": [
    "## punctuation 제거"
   ]
  },
  {
   "cell_type": "code",
   "execution_count": 5,
   "metadata": {},
   "outputs": [],
   "source": [
    "tweets = ' '.join(re.sub(\"[\\.\\,\\!\\?\\:\\;\\-\\=\\…\\_\\&\\~\\\"\\']\", \"\", tweets).split())"
   ]
  },
  {
   "cell_type": "code",
   "execution_count": 6,
   "metadata": {
    "scrolled": true
   },
   "outputs": [
    {
     "data": {
      "text/plain": [
       "'You are so great I’m gonna stop tweeting coz If you’re a massive fan of someone and their music can you actually acknowledge when they bring out a shit tune or Imagine if I was actually like that hahahahahaha I just can’t get over how good this song is I really outdid myself NEXT YEARS CALENDAR Let go of your story line Try something new WAHOOOOOOOOOOOOOO OI OIIIIIIIIIIII YESSSSSSSS HAHHAHAHA Brain farts I like that 🤣🤣 Do you wanna know if we listen alike Check out if we do here and let me know your scores ❤️ LISTEN A local barber in my neighbourhood was arrested for selling drugs Unbelievable I’d been his customer for years and had no idea he was a barber ❤️❤️❤️❤️❤️❤️❤️ I got fired from my job at the bank today An old lady asked me to check her balance so I pushed her over Want more jokes I asked my wife if I was the only one she’d been with She said yes all the others had been nines and tens Next joke in 10 minutes The man who invented Velcro died RIP WHAT AN INCREDIBLE WOMAN I went to a psychic and knocked on her front door She yelled “who is it” So I left Working out is like a drug to me I don’t do drugs YEAAHAHHHAHAHHAHAHAHAHAHA My boss hates it when I shorten his name to Dick Especially when his name is Steve You’ll have another one in half hour I gotta spread this out I met a girl the other night at a club who said she’d show me a good time When we got outside she ran a 40 metre dash in just 45 seconds Just got a new joke book Here we go Today I’m gonna be writing a lot of jokes for you Your life isn’t yours if you constantly care what others think OIIIIIIIIIIIIIIIIIIIII 🔥🔥🔥🔥🔥'"
      ]
     },
     "execution_count": 6,
     "metadata": {},
     "output_type": "execute_result"
    }
   ],
   "source": [
    "tweets"
   ]
  },
  {
   "cell_type": "markdown",
   "metadata": {},
   "source": [
    "## 숫자 제거"
   ]
  },
  {
   "cell_type": "code",
   "execution_count": 7,
   "metadata": {},
   "outputs": [],
   "source": [
    "tweets = ' '.join(re.sub(\"[0-9]+\", \"\", tweets).split())"
   ]
  },
  {
   "cell_type": "code",
   "execution_count": 8,
   "metadata": {},
   "outputs": [],
   "source": [
    "tweets = tweets.lower()"
   ]
  },
  {
   "cell_type": "code",
   "execution_count": 9,
   "metadata": {},
   "outputs": [
    {
     "data": {
      "text/plain": [
       "'you are so great i’m gonna stop tweeting coz if you’re a massive fan of someone and their music can you actually acknowledge when they bring out a shit tune or imagine if i was actually like that hahahahahaha i just can’t get over how good this song is i really outdid myself next years calendar let go of your story line try something new wahoooooooooooooo oi oiiiiiiiiiiii yessssssss hahhahaha brain farts i like that 🤣🤣 do you wanna know if we listen alike check out if we do here and let me know your scores ❤️ listen a local barber in my neighbourhood was arrested for selling drugs unbelievable i’d been his customer for years and had no idea he was a barber ❤️❤️❤️❤️❤️❤️❤️ i got fired from my job at the bank today an old lady asked me to check her balance so i pushed her over want more jokes i asked my wife if i was the only one she’d been with she said yes all the others had been nines and tens next joke in minutes the man who invented velcro died rip what an incredible woman i went to a psychic and knocked on her front door she yelled “who is it” so i left working out is like a drug to me i don’t do drugs yeaahahhhahahhahahahahaha my boss hates it when i shorten his name to dick especially when his name is steve you’ll have another one in half hour i gotta spread this out i met a girl the other night at a club who said she’d show me a good time when we got outside she ran a metre dash in just seconds just got a new joke book here we go today i’m gonna be writing a lot of jokes for you your life isn’t yours if you constantly care what others think oiiiiiiiiiiiiiiiiiiiii 🔥🔥🔥🔥🔥'"
      ]
     },
     "execution_count": 9,
     "metadata": {},
     "output_type": "execute_result"
    }
   ],
   "source": [
    "tweets"
   ]
  },
  {
   "cell_type": "code",
   "execution_count": 10,
   "metadata": {},
   "outputs": [],
   "source": [
    "from collections import Counter"
   ]
  },
  {
   "cell_type": "code",
   "execution_count": 11,
   "metadata": {},
   "outputs": [],
   "source": [
    "tweets = tweets.split('\\n')"
   ]
  },
  {
   "cell_type": "code",
   "execution_count": 12,
   "metadata": {},
   "outputs": [],
   "source": [
    "tweet = ' '.join(tweets)\n",
    "# create a list of words\n",
    "words = tweet.split()"
   ]
  },
  {
   "cell_type": "code",
   "execution_count": 13,
   "metadata": {},
   "outputs": [],
   "source": [
    "words_new = []\n",
    "words_news = words"
   ]
  },
  {
   "cell_type": "code",
   "execution_count": 14,
   "metadata": {
    "scrolled": true
   },
   "outputs": [
    {
     "data": {
      "text/plain": [
       "['you',\n",
       " 'are',\n",
       " 'so',\n",
       " 'great',\n",
       " 'i’m',\n",
       " 'gonna',\n",
       " 'stop',\n",
       " 'tweeting',\n",
       " 'coz',\n",
       " 'if',\n",
       " 'you’re',\n",
       " 'a',\n",
       " 'massive',\n",
       " 'fan',\n",
       " 'of',\n",
       " 'someone',\n",
       " 'and',\n",
       " 'their',\n",
       " 'music',\n",
       " 'can',\n",
       " 'you',\n",
       " 'actually',\n",
       " 'acknowledge',\n",
       " 'when',\n",
       " 'they',\n",
       " 'bring',\n",
       " 'out',\n",
       " 'a',\n",
       " 'shit',\n",
       " 'tune',\n",
       " 'or',\n",
       " 'imagine',\n",
       " 'if',\n",
       " 'i',\n",
       " 'was',\n",
       " 'actually',\n",
       " 'like',\n",
       " 'that',\n",
       " 'hahahahahaha',\n",
       " 'i',\n",
       " 'just',\n",
       " 'can’t',\n",
       " 'get',\n",
       " 'over',\n",
       " 'how',\n",
       " 'good',\n",
       " 'this',\n",
       " 'song',\n",
       " 'is',\n",
       " 'i',\n",
       " 'really',\n",
       " 'outdid',\n",
       " 'myself',\n",
       " 'next',\n",
       " 'years',\n",
       " 'calendar',\n",
       " 'let',\n",
       " 'go',\n",
       " 'of',\n",
       " 'your',\n",
       " 'story',\n",
       " 'line',\n",
       " 'try',\n",
       " 'something',\n",
       " 'new',\n",
       " 'wahoooooooooooooo',\n",
       " 'oi',\n",
       " 'oiiiiiiiiiiii',\n",
       " 'yessssssss',\n",
       " 'hahhahaha',\n",
       " 'brain',\n",
       " 'farts',\n",
       " 'i',\n",
       " 'like',\n",
       " 'that',\n",
       " '🤣🤣',\n",
       " 'do',\n",
       " 'you',\n",
       " 'wanna',\n",
       " 'know',\n",
       " 'if',\n",
       " 'we',\n",
       " 'listen',\n",
       " 'alike',\n",
       " 'check',\n",
       " 'out',\n",
       " 'if',\n",
       " 'we',\n",
       " 'do',\n",
       " 'here',\n",
       " 'and',\n",
       " 'let',\n",
       " 'me',\n",
       " 'know',\n",
       " 'your',\n",
       " 'scores',\n",
       " '❤️',\n",
       " 'listen',\n",
       " 'a',\n",
       " 'local',\n",
       " 'barber',\n",
       " 'in',\n",
       " 'my',\n",
       " 'neighbourhood',\n",
       " 'was',\n",
       " 'arrested',\n",
       " 'for',\n",
       " 'selling',\n",
       " 'drugs',\n",
       " 'unbelievable',\n",
       " 'i’d',\n",
       " 'been',\n",
       " 'his',\n",
       " 'customer',\n",
       " 'for',\n",
       " 'years',\n",
       " 'and',\n",
       " 'had',\n",
       " 'no',\n",
       " 'idea',\n",
       " 'he',\n",
       " 'was',\n",
       " 'a',\n",
       " 'barber',\n",
       " '❤️❤️❤️❤️❤️❤️❤️',\n",
       " 'i',\n",
       " 'got',\n",
       " 'fired',\n",
       " 'from',\n",
       " 'my',\n",
       " 'job',\n",
       " 'at',\n",
       " 'the',\n",
       " 'bank',\n",
       " 'today',\n",
       " 'an',\n",
       " 'old',\n",
       " 'lady',\n",
       " 'asked',\n",
       " 'me',\n",
       " 'to',\n",
       " 'check',\n",
       " 'her',\n",
       " 'balance',\n",
       " 'so',\n",
       " 'i',\n",
       " 'pushed',\n",
       " 'her',\n",
       " 'over',\n",
       " 'want',\n",
       " 'more',\n",
       " 'jokes',\n",
       " 'i',\n",
       " 'asked',\n",
       " 'my',\n",
       " 'wife',\n",
       " 'if',\n",
       " 'i',\n",
       " 'was',\n",
       " 'the',\n",
       " 'only',\n",
       " 'one',\n",
       " 'she’d',\n",
       " 'been',\n",
       " 'with',\n",
       " 'she',\n",
       " 'said',\n",
       " 'yes',\n",
       " 'all',\n",
       " 'the',\n",
       " 'others',\n",
       " 'had',\n",
       " 'been',\n",
       " 'nines',\n",
       " 'and',\n",
       " 'tens',\n",
       " 'next',\n",
       " 'joke',\n",
       " 'in',\n",
       " 'minutes',\n",
       " 'the',\n",
       " 'man',\n",
       " 'who',\n",
       " 'invented',\n",
       " 'velcro',\n",
       " 'died',\n",
       " 'rip',\n",
       " 'what',\n",
       " 'an',\n",
       " 'incredible',\n",
       " 'woman',\n",
       " 'i',\n",
       " 'went',\n",
       " 'to',\n",
       " 'a',\n",
       " 'psychic',\n",
       " 'and',\n",
       " 'knocked',\n",
       " 'on',\n",
       " 'her',\n",
       " 'front',\n",
       " 'door',\n",
       " 'she',\n",
       " 'yelled',\n",
       " '“who',\n",
       " 'is',\n",
       " 'it”',\n",
       " 'so',\n",
       " 'i',\n",
       " 'left',\n",
       " 'working',\n",
       " 'out',\n",
       " 'is',\n",
       " 'like',\n",
       " 'a',\n",
       " 'drug',\n",
       " 'to',\n",
       " 'me',\n",
       " 'i',\n",
       " 'don’t',\n",
       " 'do',\n",
       " 'drugs',\n",
       " 'yeaahahhhahahhahahahahaha',\n",
       " 'my',\n",
       " 'boss',\n",
       " 'hates',\n",
       " 'it',\n",
       " 'when',\n",
       " 'i',\n",
       " 'shorten',\n",
       " 'his',\n",
       " 'name',\n",
       " 'to',\n",
       " 'dick',\n",
       " 'especially',\n",
       " 'when',\n",
       " 'his',\n",
       " 'name',\n",
       " 'is',\n",
       " 'steve',\n",
       " 'you’ll',\n",
       " 'have',\n",
       " 'another',\n",
       " 'one',\n",
       " 'in',\n",
       " 'half',\n",
       " 'hour',\n",
       " 'i',\n",
       " 'gotta',\n",
       " 'spread',\n",
       " 'this',\n",
       " 'out',\n",
       " 'i',\n",
       " 'met',\n",
       " 'a',\n",
       " 'girl',\n",
       " 'the',\n",
       " 'other',\n",
       " 'night',\n",
       " 'at',\n",
       " 'a',\n",
       " 'club',\n",
       " 'who',\n",
       " 'said',\n",
       " 'she’d',\n",
       " 'show',\n",
       " 'me',\n",
       " 'a',\n",
       " 'good',\n",
       " 'time',\n",
       " 'when',\n",
       " 'we',\n",
       " 'got',\n",
       " 'outside',\n",
       " 'she',\n",
       " 'ran',\n",
       " 'a',\n",
       " 'metre',\n",
       " 'dash',\n",
       " 'in',\n",
       " 'just',\n",
       " 'seconds',\n",
       " 'just',\n",
       " 'got',\n",
       " 'a',\n",
       " 'new',\n",
       " 'joke',\n",
       " 'book',\n",
       " 'here',\n",
       " 'we',\n",
       " 'go',\n",
       " 'today',\n",
       " 'i’m',\n",
       " 'gonna',\n",
       " 'be',\n",
       " 'writing',\n",
       " 'a',\n",
       " 'lot',\n",
       " 'of',\n",
       " 'jokes',\n",
       " 'for',\n",
       " 'you',\n",
       " 'your',\n",
       " 'life',\n",
       " 'isn’t',\n",
       " 'yours',\n",
       " 'if',\n",
       " 'you',\n",
       " 'constantly',\n",
       " 'care',\n",
       " 'what',\n",
       " 'others',\n",
       " 'think',\n",
       " 'oiiiiiiiiiiiiiiiiiiiii',\n",
       " '🔥🔥🔥🔥🔥']"
      ]
     },
     "execution_count": 14,
     "metadata": {},
     "output_type": "execute_result"
    }
   ],
   "source": [
    "words_news"
   ]
  },
  {
   "cell_type": "code",
   "execution_count": 15,
   "metadata": {},
   "outputs": [],
   "source": [
    "# Count all the words using Counter Method\n",
    "count_words = Counter(words_news)\n",
    "total_words = len(words_news)\n",
    "sorted_words = count_words.most_common(total_words)"
   ]
  },
  {
   "cell_type": "code",
   "execution_count": 14,
   "metadata": {},
   "outputs": [
    {
     "data": {
      "text/plain": [
       "[('i', 14),\n",
       " ('a', 12),\n",
       " ('if', 6),\n",
       " ('you', 5),\n",
       " ('and', 5),\n",
       " ('the', 5),\n",
       " ('when', 4),\n",
       " ('out', 4),\n",
       " ('was', 4),\n",
       " ('is', 4),\n",
       " ('we', 4),\n",
       " ('me', 4),\n",
       " ('in', 4),\n",
       " ('my', 4),\n",
       " ('to', 4),\n",
       " ('so', 3),\n",
       " ('of', 3),\n",
       " ('like', 3),\n",
       " ('just', 3),\n",
       " ('your', 3),\n",
       " ('do', 3),\n",
       " ('for', 3),\n",
       " ('been', 3),\n",
       " ('his', 3),\n",
       " ('got', 3),\n",
       " ('her', 3),\n",
       " ('she', 3),\n",
       " ('i’m', 2),\n",
       " ('gonna', 2),\n",
       " ('actually', 2),\n",
       " ('that', 2),\n",
       " ('over', 2),\n",
       " ('good', 2),\n",
       " ('this', 2),\n",
       " ('next', 2),\n",
       " ('years', 2),\n",
       " ('let', 2),\n",
       " ('go', 2),\n",
       " ('new', 2),\n",
       " ('know', 2),\n",
       " ('listen', 2),\n",
       " ('check', 2),\n",
       " ('here', 2),\n",
       " ('barber', 2),\n",
       " ('drugs', 2),\n",
       " ('had', 2),\n",
       " ('at', 2),\n",
       " ('today', 2),\n",
       " ('an', 2),\n",
       " ('asked', 2),\n",
       " ('jokes', 2),\n",
       " ('one', 2),\n",
       " ('she’d', 2),\n",
       " ('said', 2),\n",
       " ('others', 2),\n",
       " ('joke', 2),\n",
       " ('who', 2),\n",
       " ('what', 2),\n",
       " ('it', 2),\n",
       " ('name', 2),\n",
       " ('are', 1),\n",
       " ('great', 1),\n",
       " ('stop', 1),\n",
       " ('tweeting', 1),\n",
       " ('coz', 1),\n",
       " ('you’re', 1),\n",
       " ('massive', 1),\n",
       " ('fan', 1),\n",
       " ('someone', 1),\n",
       " ('their', 1),\n",
       " ('music', 1),\n",
       " ('can', 1),\n",
       " ('acknowledge', 1),\n",
       " ('they', 1),\n",
       " ('bring', 1),\n",
       " ('shit', 1),\n",
       " ('tune', 1),\n",
       " ('or', 1),\n",
       " ('imagine', 1),\n",
       " ('hahahahahaha', 1),\n",
       " ('can’t', 1),\n",
       " ('get', 1),\n",
       " ('how', 1),\n",
       " ('song', 1),\n",
       " ('really', 1),\n",
       " ('outdid', 1),\n",
       " ('myself', 1),\n",
       " ('calendar', 1),\n",
       " ('story', 1),\n",
       " ('line', 1),\n",
       " ('try', 1),\n",
       " ('something', 1),\n",
       " ('wahoooooooooooooo', 1),\n",
       " ('oi', 1),\n",
       " ('oiiiiiiiiiiii', 1),\n",
       " ('yessssssss', 1),\n",
       " ('hahhahaha', 1),\n",
       " ('brain', 1),\n",
       " ('farts', 1),\n",
       " ('🤣🤣', 1),\n",
       " ('wanna', 1),\n",
       " ('alike', 1),\n",
       " ('scores', 1),\n",
       " ('❤️', 1),\n",
       " ('local', 1),\n",
       " ('neighbourhood', 1),\n",
       " ('arrested', 1),\n",
       " ('selling', 1),\n",
       " ('unbelievable', 1),\n",
       " ('i’d', 1),\n",
       " ('customer', 1),\n",
       " ('no', 1),\n",
       " ('idea', 1),\n",
       " ('he', 1),\n",
       " ('❤️❤️❤️❤️❤️❤️❤️', 1),\n",
       " ('fired', 1),\n",
       " ('from', 1),\n",
       " ('job', 1),\n",
       " ('bank', 1),\n",
       " ('old', 1),\n",
       " ('lady', 1),\n",
       " ('balance', 1),\n",
       " ('pushed', 1),\n",
       " ('want', 1),\n",
       " ('more', 1),\n",
       " ('wife', 1),\n",
       " ('only', 1),\n",
       " ('with', 1),\n",
       " ('yes', 1),\n",
       " ('all', 1),\n",
       " ('nines', 1),\n",
       " ('tens', 1),\n",
       " ('10', 1),\n",
       " ('minutes', 1),\n",
       " ('man', 1),\n",
       " ('invented', 1),\n",
       " ('velcro', 1),\n",
       " ('died', 1),\n",
       " ('rip', 1),\n",
       " ('incredible', 1),\n",
       " ('woman', 1),\n",
       " ('went', 1),\n",
       " ('psychic', 1),\n",
       " ('knocked', 1),\n",
       " ('on', 1),\n",
       " ('front', 1),\n",
       " ('door', 1),\n",
       " ('yelled', 1),\n",
       " ('“who', 1),\n",
       " ('”', 1),\n",
       " ('left', 1),\n",
       " ('working', 1),\n",
       " ('drug', 1),\n",
       " ('don’t', 1),\n",
       " ('yeaahahhhahahhahahahahaha', 1),\n",
       " ('boss', 1),\n",
       " ('hates', 1),\n",
       " ('shorten', 1),\n",
       " ('dick', 1),\n",
       " ('especially', 1),\n",
       " ('steve', 1),\n",
       " ('you’ll', 1),\n",
       " ('have', 1),\n",
       " ('another', 1),\n",
       " ('half', 1),\n",
       " ('hour', 1),\n",
       " ('gotta', 1),\n",
       " ('spread', 1),\n",
       " ('met', 1),\n",
       " ('girl', 1),\n",
       " ('other', 1),\n",
       " ('night', 1),\n",
       " ('club', 1),\n",
       " ('show', 1),\n",
       " ('time', 1),\n",
       " ('outside', 1),\n",
       " ('ran', 1),\n",
       " ('40', 1),\n",
       " ('metre', 1),\n",
       " ('dash', 1),\n",
       " ('4', 1),\n",
       " ('5', 1),\n",
       " ('seconds', 1),\n",
       " ('book', 1),\n",
       " ('be', 1),\n",
       " ('writing', 1),\n",
       " ('lot', 1),\n",
       " ('life', 1),\n",
       " ('isn’t', 1),\n",
       " ('yours', 1),\n",
       " ('constantly', 1),\n",
       " ('care', 1),\n",
       " ('think', 1),\n",
       " ('oiiiiiiiiiiiiiiiiiiiii', 1),\n",
       " ('🔥🔥🔥🔥🔥', 1)]"
      ]
     },
     "execution_count": 14,
     "metadata": {},
     "output_type": "execute_result"
    }
   ],
   "source": [
    "sorted_words"
   ]
  },
  {
   "cell_type": "markdown",
   "metadata": {},
   "source": [
    "#  아래부터 수정 필요"
   ]
  },
  {
   "cell_type": "markdown",
   "metadata": {},
   "source": [
    "이모티콘 2번연속 나올경우 1개로 변환\n",
    "실제 존재하는 사전에서 비교해서 단어 줄이기\n",
    "불용어 제거"
   ]
  },
  {
   "cell_type": "markdown",
   "metadata": {},
   "source": [
    "https://wikidocs.net/21707"
   ]
  },
  {
   "cell_type": "code",
   "execution_count": 9,
   "metadata": {},
   "outputs": [],
   "source": [
    "import nltk"
   ]
  },
  {
   "cell_type": "code",
   "execution_count": 10,
   "metadata": {},
   "outputs": [],
   "source": [
    "from nltk.corpus import stopwords"
   ]
  },
  {
   "cell_type": "code",
   "execution_count": 12,
   "metadata": {},
   "outputs": [
    {
     "name": "stderr",
     "output_type": "stream",
     "text": [
      "[nltk_data] Downloading package stopwords to\n",
      "[nltk_data]     C:\\Users\\chzos\\AppData\\Roaming\\nltk_data...\n",
      "[nltk_data]   Unzipping corpora\\stopwords.zip.\n"
     ]
    },
    {
     "data": {
      "text/plain": [
       "True"
      ]
     },
     "execution_count": 12,
     "metadata": {},
     "output_type": "execute_result"
    }
   ],
   "source": [
    "nltk.download('stopwords')"
   ]
  },
  {
   "cell_type": "code",
   "execution_count": 14,
   "metadata": {},
   "outputs": [],
   "source": [
    "stops = set(stopwords.words('english'))\n",
    "no_stops = [word for word in tweets if not word in stops]"
   ]
  },
  {
   "cell_type": "code",
   "execution_count": 19,
   "metadata": {},
   "outputs": [],
   "source": [
    "stemmer = nltk.stem.SnowballStemmer('english')\n",
    "stemmer_words = [stemmer.stem(word) for word in no_stops]"
   ]
  },
  {
   "cell_type": "code",
   "execution_count": null,
   "metadata": {},
   "outputs": [],
   "source": []
  },
  {
   "cell_type": "code",
   "execution_count": null,
   "metadata": {},
   "outputs": [],
   "source": []
  },
  {
   "cell_type": "code",
   "execution_count": null,
   "metadata": {},
   "outputs": [],
   "source": []
  }
 ],
 "metadata": {
  "kernelspec": {
   "display_name": "Python 3",
   "language": "python",
   "name": "python3"
  },
  "language_info": {
   "codemirror_mode": {
    "name": "ipython",
    "version": 3
   },
   "file_extension": ".py",
   "mimetype": "text/x-python",
   "name": "python",
   "nbconvert_exporter": "python",
   "pygments_lexer": "ipython3",
   "version": "3.7.9"
  }
 },
 "nbformat": 4,
 "nbformat_minor": 4
}
