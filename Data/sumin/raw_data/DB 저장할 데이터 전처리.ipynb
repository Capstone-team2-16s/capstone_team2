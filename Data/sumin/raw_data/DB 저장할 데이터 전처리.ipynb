{
 "cells": [
  {
   "cell_type": "code",
   "execution_count": 1,
   "metadata": {},
   "outputs": [],
   "source": [
    "import pandas as pd"
   ]
  },
  {
   "cell_type": "code",
   "execution_count": 2,
   "metadata": {},
   "outputs": [],
   "source": [
    "import contractions"
   ]
  },
  {
   "cell_type": "code",
   "execution_count": 3,
   "metadata": {},
   "outputs": [],
   "source": [
    "import emoji"
   ]
  },
  {
   "cell_type": "markdown",
   "metadata": {},
   "source": [
    "# Twitter ID 가져오기"
   ]
  },
  {
   "cell_type": "code",
   "execution_count": 4,
   "metadata": {},
   "outputs": [],
   "source": [
    "id = '@AnneMarie'"
   ]
  },
  {
   "cell_type": "code",
   "execution_count": 5,
   "metadata": {},
   "outputs": [],
   "source": [
    "file_name = 'twitter_'\n",
    "fileformat = '.txt'\n",
    "filename = file_name + id + fileformat"
   ]
  },
  {
   "cell_type": "markdown",
   "metadata": {},
   "source": [
    "# Read data from text files"
   ]
  },
  {
   "cell_type": "code",
   "execution_count": 6,
   "metadata": {},
   "outputs": [],
   "source": [
    "with open(filename, 'r', encoding = \"utf-8\") as f:\n",
    "    tweets = pd.read_csv(f, sep = \"\\n\", names = ['data'])\n",
    "f.close()"
   ]
  },
  {
   "cell_type": "code",
   "execution_count": 7,
   "metadata": {},
   "outputs": [],
   "source": [
    "tweets['URL'] = tweets['data'].replace(to_replace = \"(\\w+:\\/\\/\\S+)\", value = \"LINK \", regex = True)"
   ]
  },
  {
   "cell_type": "code",
   "execution_count": 8,
   "metadata": {
    "scrolled": true
   },
   "outputs": [
    {
     "data": {
      "text/plain": [
       "0                                                                                                 How I’m spending today 😍\n",
       "1                                                                                                                  7-2 wow\n",
       "2                                                                                                       HAHAHAHAHAHAHAHAHA\n",
       "3                                                                                                       Omgggfgggggggggggg\n",
       "4                                                                                                         This game is mad\n",
       "5                                                                                                                       Fs\n",
       "6                                                                                                Who’s watching the footy?\n",
       "7                                                                                                                SERIOUSLY\n",
       "8                                                                                                          Seriously Man U\n",
       "9                                                                                            I LOVE THIS AND YOU TOO!!!!!!\n",
       "10                                                                                                          ❤️❤️❤️❤️❤️❤️❤️\n",
       "11                                                                                   You achieve what you believe you can.\n",
       "12                                                                                                    🔥🔥🔥🔥🔥🔥❤️❤️❤️❤️❤️❤️❤️\n",
       "13                                                                                                    What a little legend\n",
       "14                                                            If you are wondering how my homegrown food is coming on.....\n",
       "15                                                                                                               Too soon?\n",
       "16                                                                                       But I washed them down with juice\n",
       "17                                                                                                          I ate biscuits\n",
       "18                                                                                            TOP 30 OI OIIIIIIIIIIIIIIIII\n",
       "19                                                           I’m on a juice cleanse and all I want is biscuits and crisps.\n",
       "20                                                                                        Thought this was gonna be a cake\n",
       "21                             COME OVER LIVE VIDEO OUT NOW on @YouTube @Rudimental @TIONWAYNE 🔥🔥🔥 https://t.co/8Yng1sAsPU\n",
       "22                                                                     I want this cake every day for the rest of my life.\n",
       "23                                                                                                     Happy birthday xxxx\n",
       "24                                                                                                              Hahahahaha\n",
       "25                                                     TOMORROW 😍 #comeover @Rudimental @TIONWAYNE https://lnk.to/ComeOver\n",
       "26                                                                                                       Unbelievable 🙌🙌🙌🙌\n",
       "27                                                                                           Good! Am here, hope ur ok xxx\n",
       "28                      Completely devastated for you. Sending you and your family my love. Jack will always be with you x\n",
       "29                                                                                                              HAHAHHHHAH\n",
       "30                                                                                                       You are so great.\n",
       "31                                                                                             I’m gonna stop tweeting coz\n",
       "32    If you’re a massive fan of someone and their music, can you actually acknowledge when they bring out a shit tune or?\n",
       "33                                                                        Imagine if I was actually like that hahahahahaha\n",
       "34                                                     I just can’t get over how good this song is, I really outdid myself\n",
       "35                                                                                                   NEXT YEARS CALENDAR ?\n",
       "36                                                                                              Let go of your story line.\n",
       "37                                                                                                      Try something new.\n",
       "38                                                                                                       WAHOOOOOOOOOOOOOO\n",
       "39                                                                                                 OI OIIIIIIIIIIII @BBCR1\n",
       "40                                                                                                    YESSSSSSSS HAHHAHAHA\n",
       "41                                                                                             Brain farts. I like that 🤣🤣\n",
       "42                                                                                   Do you wanna know if we listen alike?\n",
       "43                                    Check out if we do here https://t.co/BSBNLIWSAG and let me know your scores @Spotify\n",
       "44                                                                                                      ❤️ @charliemackesy\n",
       "45                                                                                                                 LISTEN!\n",
       "46                                                     A local barber in my neighbourhood was arrested for selling drugs. \n",
       "47                                                                                                           Unbelievable.\n",
       "48                                                        I’d been his customer for years and had no idea he was a barber.\n",
       "49                                                                                                          ❤️❤️❤️❤️❤️❤️❤️\n",
       "50                                                                              I got fired from my job at the bank today.\n",
       "51                                                       An old lady asked me to check her balance - so I pushed her over.\n",
       "52                                                                                                       Want more jokes ?\n",
       "53                                                                 I asked my wife if I was the only one she’d been with. \n",
       "54                                                                   She said yes, all the others had been nines and tens.\n",
       "55                                                                                                 Next joke in 10 minutes\n",
       "56                                                                                       The man who invented Velcro died.\n",
       "57                                                                                                                     RIP\n",
       "58                                                                                               WHAT AN INCREDIBLE WOMAN!\n",
       "59                                                                     I went to a psychic and knocked on her front door. \n",
       "60                                                                                               She yelled “who is it?”. \n",
       "61                                                                                                              So I left.\n",
       "62                                                                                       Working out is like a drug to me.\n",
       "63                                                                                                       I don’t do drugs.\n",
       "64                                                                                               YEAAHAHHHAHAHHAHAHAHAHAHA\n",
       "65                                                                      My boss hates it when I shorten his name to Dick. \n",
       "66                                                                                      Especially when his name is Steve.\n",
       "67                                                         You’ll have another one in half hour I gotta spread this out!!!\n",
       "68                                          I met a girl the other night at a club who said she’d show me a good time.....\n",
       "69                                                       When we got outside, she ran a 40 metre dash in just 4.5 seconds.\n",
       "70                                                                                                Just got a new joke book\n",
       "71                                                                                                              Here we go\n",
       "72                                                                       Today I’m gonna be writing a lot of jokes for you\n",
       "73                                                         Your life isn’t yours if you constantly care what others think.\n",
       "74                                                                                            OIIIIIIIIIIIIIIIIIIIII 🔥🔥🔥🔥🔥\n",
       "Name: data, dtype: object"
      ]
     },
     "execution_count": 8,
     "metadata": {},
     "output_type": "execute_result"
    }
   ],
   "source": [
    "pd.set_option('display.max_rows', None)\n",
    "pd.set_option('display.max_colwidth', None)\n",
    "tweets['data']"
   ]
  },
  {
   "cell_type": "code",
   "execution_count": 9,
   "metadata": {
    "scrolled": true
   },
   "outputs": [
    {
     "data": {
      "text/plain": [
       "0                                                                                                 How I’m spending today 😍\n",
       "1                                                                                                                  7-2 wow\n",
       "2                                                                                                       HAHAHAHAHAHAHAHAHA\n",
       "3                                                                                                       Omgggfgggggggggggg\n",
       "4                                                                                                         This game is mad\n",
       "5                                                                                                                       Fs\n",
       "6                                                                                                Who’s watching the footy?\n",
       "7                                                                                                                SERIOUSLY\n",
       "8                                                                                                          Seriously Man U\n",
       "9                                                                                            I LOVE THIS AND YOU TOO!!!!!!\n",
       "10                                                                                                          ❤️❤️❤️❤️❤️❤️❤️\n",
       "11                                                                                   You achieve what you believe you can.\n",
       "12                                                                                                    🔥🔥🔥🔥🔥🔥❤️❤️❤️❤️❤️❤️❤️\n",
       "13                                                                                                    What a little legend\n",
       "14                                                            If you are wondering how my homegrown food is coming on.....\n",
       "15                                                                                                               Too soon?\n",
       "16                                                                                       But I washed them down with juice\n",
       "17                                                                                                          I ate biscuits\n",
       "18                                                                                            TOP 30 OI OIIIIIIIIIIIIIIIII\n",
       "19                                                           I’m on a juice cleanse and all I want is biscuits and crisps.\n",
       "20                                                                                        Thought this was gonna be a cake\n",
       "21                                               COME OVER LIVE VIDEO OUT NOW on @YouTube @Rudimental @TIONWAYNE 🔥🔥🔥 LINK \n",
       "22                                                                     I want this cake every day for the rest of my life.\n",
       "23                                                                                                     Happy birthday xxxx\n",
       "24                                                                                                              Hahahahaha\n",
       "25                                                                       TOMORROW 😍 #comeover @Rudimental @TIONWAYNE LINK \n",
       "26                                                                                                       Unbelievable 🙌🙌🙌🙌\n",
       "27                                                                                           Good! Am here, hope ur ok xxx\n",
       "28                      Completely devastated for you. Sending you and your family my love. Jack will always be with you x\n",
       "29                                                                                                              HAHAHHHHAH\n",
       "30                                                                                                       You are so great.\n",
       "31                                                                                             I’m gonna stop tweeting coz\n",
       "32    If you’re a massive fan of someone and their music, can you actually acknowledge when they bring out a shit tune or?\n",
       "33                                                                        Imagine if I was actually like that hahahahahaha\n",
       "34                                                     I just can’t get over how good this song is, I really outdid myself\n",
       "35                                                                                                   NEXT YEARS CALENDAR ?\n",
       "36                                                                                              Let go of your story line.\n",
       "37                                                                                                      Try something new.\n",
       "38                                                                                                       WAHOOOOOOOOOOOOOO\n",
       "39                                                                                                 OI OIIIIIIIIIIII @BBCR1\n",
       "40                                                                                                    YESSSSSSSS HAHHAHAHA\n",
       "41                                                                                             Brain farts. I like that 🤣🤣\n",
       "42                                                                                   Do you wanna know if we listen alike?\n",
       "43                                                      Check out if we do here LINK  and let me know your scores @Spotify\n",
       "44                                                                                                      ❤️ @charliemackesy\n",
       "45                                                                                                                 LISTEN!\n",
       "46                                                     A local barber in my neighbourhood was arrested for selling drugs. \n",
       "47                                                                                                           Unbelievable.\n",
       "48                                                        I’d been his customer for years and had no idea he was a barber.\n",
       "49                                                                                                          ❤️❤️❤️❤️❤️❤️❤️\n",
       "50                                                                              I got fired from my job at the bank today.\n",
       "51                                                       An old lady asked me to check her balance - so I pushed her over.\n",
       "52                                                                                                       Want more jokes ?\n",
       "53                                                                 I asked my wife if I was the only one she’d been with. \n",
       "54                                                                   She said yes, all the others had been nines and tens.\n",
       "55                                                                                                 Next joke in 10 minutes\n",
       "56                                                                                       The man who invented Velcro died.\n",
       "57                                                                                                                     RIP\n",
       "58                                                                                               WHAT AN INCREDIBLE WOMAN!\n",
       "59                                                                     I went to a psychic and knocked on her front door. \n",
       "60                                                                                               She yelled “who is it?”. \n",
       "61                                                                                                              So I left.\n",
       "62                                                                                       Working out is like a drug to me.\n",
       "63                                                                                                       I don’t do drugs.\n",
       "64                                                                                               YEAAHAHHHAHAHHAHAHAHAHAHA\n",
       "65                                                                      My boss hates it when I shorten his name to Dick. \n",
       "66                                                                                      Especially when his name is Steve.\n",
       "67                                                         You’ll have another one in half hour I gotta spread this out!!!\n",
       "68                                          I met a girl the other night at a club who said she’d show me a good time.....\n",
       "69                                                       When we got outside, she ran a 40 metre dash in just 4.5 seconds.\n",
       "70                                                                                                Just got a new joke book\n",
       "71                                                                                                              Here we go\n",
       "72                                                                       Today I’m gonna be writing a lot of jokes for you\n",
       "73                                                         Your life isn’t yours if you constantly care what others think.\n",
       "74                                                                                            OIIIIIIIIIIIIIIIIIIIII 🔥🔥🔥🔥🔥\n",
       "Name: URL, dtype: object"
      ]
     },
     "execution_count": 9,
     "metadata": {},
     "output_type": "execute_result"
    }
   ],
   "source": [
    "tweets['URL']"
   ]
  },
  {
   "cell_type": "markdown",
   "metadata": {},
   "source": [
    "# 링크 주소 LINK로 수정 후 txt 파일 저장"
   ]
  },
  {
   "cell_type": "code",
   "execution_count": 10,
   "metadata": {},
   "outputs": [],
   "source": [
    "result_filename = 'tweets_'\n",
    "result = result_filename + id + fileformat"
   ]
  },
  {
   "cell_type": "code",
   "execution_count": 11,
   "metadata": {},
   "outputs": [],
   "source": [
    "tweets_processing = tweets['URL']"
   ]
  },
  {
   "cell_type": "code",
   "execution_count": 12,
   "metadata": {},
   "outputs": [],
   "source": [
    "twstr = ''\n",
    "\n",
    "for i in range(len(tweets_processing)):\n",
    "    twstr += str(tweets_processing[i]) + '\\n'"
   ]
  },
  {
   "cell_type": "code",
   "execution_count": 14,
   "metadata": {},
   "outputs": [],
   "source": [
    "with open(result, 'w', encoding = \"utf-8\") as f:\n",
    "    print(twstr, file = f)"
   ]
  }
 ],
 "metadata": {
  "kernelspec": {
   "display_name": "Python 3",
   "language": "python",
   "name": "python3"
  },
  "language_info": {
   "codemirror_mode": {
    "name": "ipython",
    "version": 3
   },
   "file_extension": ".py",
   "mimetype": "text/x-python",
   "name": "python",
   "nbconvert_exporter": "python",
   "pygments_lexer": "ipython3",
   "version": "3.7.9"
  }
 },
 "nbformat": 4,
 "nbformat_minor": 4
}
