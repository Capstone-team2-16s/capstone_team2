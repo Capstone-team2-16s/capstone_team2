{
 "cells": [
  {
   "cell_type": "code",
   "execution_count": 1,
   "metadata": {},
   "outputs": [],
   "source": [
    "import twitter"
   ]
  },
  {
   "cell_type": "code",
   "execution_count": 2,
   "metadata": {},
   "outputs": [],
   "source": [
    "consumer_key = \"AIa1UUfBD4DDO0pRUs914up3a\"\n",
    "consumer_secret = \"HXKShJY6ZZr1H7ab4afjqxC1SK2zhQ5nS4x0CYMwLfKgMOVcVm\"\n",
    "access_token = \"1308644309365739520-XBHsu8ndkEqH1iNaDvxG1CNFRJeWsY\"\n",
    "access_token_secret = \"6NruRVDjnNiugikIiMqZd7PlWqxNvdlMuyt5M6jIK4Aep\""
   ]
  },
  {
   "cell_type": "code",
   "execution_count": 3,
   "metadata": {},
   "outputs": [],
   "source": [
    "twitter_api = twitter.Api(consumer_key = consumer_key,\n",
    "                         consumer_secret = consumer_secret,\n",
    "                         access_token_key = access_token,\n",
    "                         access_token_secret = access_token_secret)"
   ]
  },
  {
   "cell_type": "markdown",
   "metadata": {},
   "source": [
    "1"
   ]
  },
  {
   "cell_type": "code",
   "execution_count": 4,
   "metadata": {
    "scrolled": true
   },
   "outputs": [],
   "source": [
    "account = \"@Acosta\"\n",
    "\n",
    "\n",
    "statuses = twitter_api.GetUserTimeline(screen_name = account, since_id = 1331081422178713603, count = 200, include_rts = False, exclude_replies = True)"
   ]
  },
  {
   "cell_type": "code",
   "execution_count": 5,
   "metadata": {},
   "outputs": [],
   "source": [
    "output_file_name = \"twitter_get_timeline_@Acosta_1201.txt\"\n"
   ]
  },
  {
   "cell_type": "code",
   "execution_count": 6,
   "metadata": {},
   "outputs": [],
   "source": [
    "with open(output_file_name, \"w\", encoding = \"utf-8\") as output_file :\n",
    "    for status in statuses :\n",
    "        print(status.text, file = output_file)"
   ]
  },
  {
   "cell_type": "markdown",
   "metadata": {},
   "source": [
    "2"
   ]
  },
  {
   "cell_type": "code",
   "execution_count": 7,
   "metadata": {},
   "outputs": [],
   "source": [
    "account = \"@AllyBrooke\"\n",
    "\n",
    "\n",
    "\n",
    "statuses = twitter_api.GetUserTimeline(screen_name = account, since_id = 1331081422178713603, count = 200, include_rts = False, exclude_replies = False)"
   ]
  },
  {
   "cell_type": "code",
   "execution_count": 8,
   "metadata": {},
   "outputs": [],
   "source": [
    "output_file_name = \"twitter_get_timeline_@AllyBrooke_1201.txt\""
   ]
  },
  {
   "cell_type": "code",
   "execution_count": 9,
   "metadata": {},
   "outputs": [],
   "source": [
    "with open(output_file_name, \"w\", encoding = \"utf-8\") as output_file :\n",
    "    for status in statuses :\n",
    "        print(status.text, file = output_file)"
   ]
  },
  {
   "cell_type": "markdown",
   "metadata": {},
   "source": [
    "3"
   ]
  },
  {
   "cell_type": "code",
   "execution_count": 10,
   "metadata": {},
   "outputs": [],
   "source": [
    "account = \"@altonbrown\"\n",
    "\n",
    "\n",
    "statuses = twitter_api.GetUserTimeline(screen_name = account, since_id = 1331081422178713603, count = 200, include_rts = False, exclude_replies = True)"
   ]
  },
  {
   "cell_type": "code",
   "execution_count": 11,
   "metadata": {},
   "outputs": [],
   "source": [
    "output_file_name = \"twitter_get_timeline_@altonbrown_1201.txt\""
   ]
  },
  {
   "cell_type": "code",
   "execution_count": 12,
   "metadata": {},
   "outputs": [],
   "source": [
    "with open(output_file_name, \"w\", encoding = \"utf-8\") as output_file :\n",
    "    for status in statuses :\n",
    "        print(status.text, file = output_file)"
   ]
  },
  {
   "cell_type": "markdown",
   "metadata": {},
   "source": [
    "4"
   ]
  },
  {
   "cell_type": "code",
   "execution_count": 13,
   "metadata": {},
   "outputs": [],
   "source": [
    "account = \"@Ashton5SOS\"\n",
    "\n",
    "statuses = twitter_api.GetUserTimeline(screen_name = account, since_id = 1331081422178713603, count = 200, include_rts = False, exclude_replies = False)"
   ]
  },
  {
   "cell_type": "code",
   "execution_count": 14,
   "metadata": {},
   "outputs": [],
   "source": [
    "output_file_name = \"twitter_get_timeline_@Ashton5SOS_1201.txt\""
   ]
  },
  {
   "cell_type": "code",
   "execution_count": 15,
   "metadata": {},
   "outputs": [],
   "source": [
    "with open(output_file_name, \"w\", encoding = \"utf-8\") as output_file :\n",
    "    for status in statuses :\n",
    "        print(status.text, file = output_file)"
   ]
  },
  {
   "cell_type": "markdown",
   "metadata": {},
   "source": [
    "5"
   ]
  },
  {
   "cell_type": "code",
   "execution_count": 16,
   "metadata": {},
   "outputs": [],
   "source": [
    "account = \"@barbarastarrcnn\"\n",
    "\n",
    "\n",
    "statuses = twitter_api.GetUserTimeline(screen_name = account, since_id = 1331081422178713603, count = 200, include_rts = False, exclude_replies = False)"
   ]
  },
  {
   "cell_type": "code",
   "execution_count": 17,
   "metadata": {},
   "outputs": [],
   "source": [
    "output_file_name = \"twitter_get_timeline_@barbarastarrcnn_1201.txt\""
   ]
  },
  {
   "cell_type": "code",
   "execution_count": 18,
   "metadata": {},
   "outputs": [],
   "source": [
    "with open(output_file_name, \"w\", encoding = \"utf-8\") as output_file :\n",
    "    for status in statuses :\n",
    "        print(status.text, file = output_file)"
   ]
  },
  {
   "cell_type": "markdown",
   "metadata": {},
   "source": [
    "6"
   ]
  },
  {
   "cell_type": "code",
   "execution_count": 19,
   "metadata": {},
   "outputs": [],
   "source": [
    "account = \"@BBCkatyaadler\"\n",
    "\n",
    "\n",
    "statuses = twitter_api.GetUserTimeline(screen_name = account, since_id = 1331081422178713603, count = 200, include_rts = False, exclude_replies = True)"
   ]
  },
  {
   "cell_type": "code",
   "execution_count": 20,
   "metadata": {},
   "outputs": [],
   "source": [
    "output_file_name = \"twitter_get_timeline_@BBCkatyaadler_1201.txt\""
   ]
  },
  {
   "cell_type": "code",
   "execution_count": 21,
   "metadata": {},
   "outputs": [],
   "source": [
    "with open(output_file_name, \"w\", encoding = \"utf-8\") as output_file :\n",
    "    for status in statuses :\n",
    "        print(status.text, file = output_file)"
   ]
  },
  {
   "cell_type": "markdown",
   "metadata": {},
   "source": [
    "7"
   ]
  },
  {
   "cell_type": "code",
   "execution_count": 22,
   "metadata": {},
   "outputs": [],
   "source": [
    "account = \"@BebeRexha\"\n",
    "\n",
    "\n",
    "statuses = twitter_api.GetUserTimeline(screen_name = account, since_id = 1331081422178713603, count = 200, include_rts = False, exclude_replies = False)"
   ]
  },
  {
   "cell_type": "code",
   "execution_count": 23,
   "metadata": {},
   "outputs": [],
   "source": [
    "output_file_name = \"twitter_get_timeline_@BebeRexha_1201.txt\""
   ]
  },
  {
   "cell_type": "code",
   "execution_count": 24,
   "metadata": {},
   "outputs": [],
   "source": [
    "with open(output_file_name, \"w\", encoding = \"utf-8\") as output_file :\n",
    "    for status in statuses :\n",
    "        print(status.text, file = output_file)"
   ]
  },
  {
   "cell_type": "markdown",
   "metadata": {},
   "source": [
    "8"
   ]
  },
  {
   "cell_type": "code",
   "execution_count": 25,
   "metadata": {},
   "outputs": [],
   "source": [
    "account = \"@BigSean\"\n",
    "\n",
    "\n",
    "\n",
    "statuses = twitter_api.GetUserTimeline(screen_name = account, since_id = 1331081422178713603, count = 200, include_rts = False, exclude_replies = False)"
   ]
  },
  {
   "cell_type": "code",
   "execution_count": 26,
   "metadata": {},
   "outputs": [],
   "source": [
    "output_file_name = \"twitter_get_timeline_@BigSean_1201.txt\""
   ]
  },
  {
   "cell_type": "code",
   "execution_count": 27,
   "metadata": {},
   "outputs": [],
   "source": [
    "with open(output_file_name, \"w\", encoding = \"utf-8\") as output_file :\n",
    "    for status in statuses :\n",
    "        print(status.text, file = output_file)"
   ]
  },
  {
   "cell_type": "markdown",
   "metadata": {},
   "source": [
    "9"
   ]
  },
  {
   "cell_type": "code",
   "execution_count": 28,
   "metadata": {},
   "outputs": [],
   "source": [
    "account = \"@chancetherapper\"\n",
    "\n",
    "\n",
    "\n",
    "statuses = twitter_api.GetUserTimeline(screen_name = account, since_id = 1331081422178713603, count = 200, include_rts = False, exclude_replies = True)"
   ]
  },
  {
   "cell_type": "code",
   "execution_count": 29,
   "metadata": {},
   "outputs": [],
   "source": [
    "output_file_name = \"twitter_get_timeline_@chancetherapper_1201.txt\""
   ]
  },
  {
   "cell_type": "code",
   "execution_count": 30,
   "metadata": {},
   "outputs": [],
   "source": [
    "with open(output_file_name, \"w\", encoding = \"utf-8\") as output_file :\n",
    "    for status in statuses :\n",
    "        print(status.text, file = output_file)"
   ]
  },
  {
   "cell_type": "markdown",
   "metadata": {},
   "source": [
    "10"
   ]
  },
  {
   "cell_type": "code",
   "execution_count": 31,
   "metadata": {},
   "outputs": [],
   "source": [
    "account = \"@ClintSmithIII\"\n",
    "\n",
    "\n",
    "\n",
    "\n",
    "statuses = twitter_api.GetUserTimeline(screen_name = account, since_id = 1331081422178713603, count = 200,\n",
    "                                       include_rts = False, exclude_replies = False)"
   ]
  },
  {
   "cell_type": "code",
   "execution_count": 32,
   "metadata": {},
   "outputs": [],
   "source": [
    "output_file_name = \"twitter_get_timeline_@ClintSmithIII_1201.txt\""
   ]
  },
  {
   "cell_type": "code",
   "execution_count": 33,
   "metadata": {},
   "outputs": [],
   "source": [
    "\n",
    "with open(output_file_name, \"w\", encoding = \"utf-8\") as output_file :\n",
    "    for status in statuses :\n",
    "        print(status.text, file = output_file)"
   ]
  },
  {
   "cell_type": "markdown",
   "metadata": {},
   "source": [
    "11"
   ]
  },
  {
   "cell_type": "code",
   "execution_count": 34,
   "metadata": {},
   "outputs": [],
   "source": [
    "account = \"@DamonGupton\"\n",
    "\n",
    "\n",
    "\n",
    "\n",
    "statuses = twitter_api.GetUserTimeline(screen_name = account, since_id = 1331081422178713603, count = 200,\n",
    "                                       include_rts = False, exclude_replies = True)"
   ]
  },
  {
   "cell_type": "code",
   "execution_count": 35,
   "metadata": {},
   "outputs": [],
   "source": [
    "output_file_name = \"twitter_get_timeline_@DamonGupton_1201.txt\""
   ]
  },
  {
   "cell_type": "code",
   "execution_count": 36,
   "metadata": {},
   "outputs": [],
   "source": [
    "with open(output_file_name, \"w\", encoding = \"utf-8\") as output_file :\n",
    "    for status in statuses :\n",
    "        print(status.text, file = output_file)"
   ]
  },
  {
   "cell_type": "markdown",
   "metadata": {},
   "source": [
    "12"
   ]
  },
  {
   "cell_type": "code",
   "execution_count": 37,
   "metadata": {},
   "outputs": [],
   "source": [
    "account = \"@DanRather\"\n",
    "\n",
    "\n",
    "\n",
    "statuses = twitter_api.GetUserTimeline(screen_name = account, since_id = 1331081422178713603, count = 200,\n",
    "                                       include_rts = False, exclude_replies = True)"
   ]
  },
  {
   "cell_type": "code",
   "execution_count": 38,
   "metadata": {},
   "outputs": [],
   "source": [
    "output_file_name = \"twitter_get_timeline_@DanRather_1201.txt\""
   ]
  },
  {
   "cell_type": "code",
   "execution_count": 39,
   "metadata": {},
   "outputs": [],
   "source": [
    "with open(output_file_name, \"w\", encoding = \"utf-8\") as output_file :\n",
    "    for status in statuses :\n",
    "        print(status.text, file = output_file)"
   ]
  },
  {
   "cell_type": "markdown",
   "metadata": {},
   "source": [
    "13"
   ]
  },
  {
   "cell_type": "code",
   "execution_count": 40,
   "metadata": {},
   "outputs": [],
   "source": [
    "account = \"@DUALIPA\"\n",
    "\n",
    "\n",
    "\n",
    "statuses = twitter_api.GetUserTimeline(screen_name = account, since_id = 1331081422178713603, count = 200,\n",
    "                                       include_rts = False, exclude_replies = False)"
   ]
  },
  {
   "cell_type": "code",
   "execution_count": 41,
   "metadata": {},
   "outputs": [],
   "source": [
    "output_file_name = \"twitter_get_timeline_@DUALIPA_1201.txt\""
   ]
  },
  {
   "cell_type": "code",
   "execution_count": 42,
   "metadata": {},
   "outputs": [],
   "source": [
    "with open(output_file_name, \"w\", encoding = \"utf-8\") as output_file :\n",
    "    for status in statuses :\n",
    "        print(status.text, file = output_file)"
   ]
  },
  {
   "cell_type": "markdown",
   "metadata": {},
   "source": [
    "14"
   ]
  },
  {
   "cell_type": "code",
   "execution_count": 43,
   "metadata": {},
   "outputs": [],
   "source": [
    "account = \"@GretchenCarlson\"\n",
    "\n",
    "\n",
    "\n",
    "\n",
    "statuses = twitter_api.GetUserTimeline(screen_name = account, since_id = 1331081422178713603, count = 200,\n",
    "                                       include_rts = False, exclude_replies = True)"
   ]
  },
  {
   "cell_type": "code",
   "execution_count": 44,
   "metadata": {},
   "outputs": [],
   "source": [
    "output_file_name = \"twitter_get_timeline_@GretchenCarlson_1201.txt\""
   ]
  },
  {
   "cell_type": "code",
   "execution_count": 45,
   "metadata": {},
   "outputs": [],
   "source": [
    "with open(output_file_name, \"w\", encoding = \"utf-8\") as output_file :\n",
    "    for status in statuses :\n",
    "        print(status.text, file = output_file)"
   ]
  },
  {
   "cell_type": "markdown",
   "metadata": {},
   "source": [
    "15"
   ]
  },
  {
   "cell_type": "code",
   "execution_count": 46,
   "metadata": {},
   "outputs": [],
   "source": [
    "account = \"@hitRECordJoe\"\n",
    "\n",
    "\n",
    "\n",
    "\n",
    "statuses = twitter_api.GetUserTimeline(screen_name = account, since_id = 1331081422178713603, count = 200,\n",
    "                                       include_rts = False, exclude_replies = True)"
   ]
  },
  {
   "cell_type": "code",
   "execution_count": 47,
   "metadata": {},
   "outputs": [],
   "source": [
    "output_file_name = \"twitter_get_timeline_@hitRECordJoe_1201.txt\""
   ]
  },
  {
   "cell_type": "code",
   "execution_count": 48,
   "metadata": {},
   "outputs": [],
   "source": [
    "with open(output_file_name, \"w\", encoding = \"utf-8\") as output_file :\n",
    "    for status in statuses :\n",
    "        print(status.text, file = output_file)"
   ]
  },
  {
   "cell_type": "markdown",
   "metadata": {},
   "source": [
    "16"
   ]
  },
  {
   "cell_type": "code",
   "execution_count": 49,
   "metadata": {},
   "outputs": [],
   "source": [
    "account = \"@iambeckyg\"\n",
    "\n",
    "\n",
    "\n",
    "\n",
    "statuses = twitter_api.GetUserTimeline(screen_name = account, since_id = 1331081422178713603, count = 200,\n",
    "                                       include_rts = False, exclude_replies = False)"
   ]
  },
  {
   "cell_type": "code",
   "execution_count": 50,
   "metadata": {},
   "outputs": [],
   "source": [
    "output_file_name = \"twitter_get_timeline_@iambeckyg_1201.txt\""
   ]
  },
  {
   "cell_type": "code",
   "execution_count": 51,
   "metadata": {},
   "outputs": [],
   "source": [
    "with open(output_file_name, \"w\", encoding = \"utf-8\") as output_file :\n",
    "    for status in statuses :\n",
    "        print(status.text, file = output_file)"
   ]
  },
  {
   "cell_type": "markdown",
   "metadata": {},
   "source": [
    "17"
   ]
  },
  {
   "cell_type": "code",
   "execution_count": 52,
   "metadata": {},
   "outputs": [],
   "source": [
    "account = \"@jameelajamil\"\n",
    "\n",
    "\n",
    "\n",
    "\n",
    "statuses = twitter_api.GetUserTimeline(screen_name = account, since_id = 1331081422178713603, count = 200,\n",
    "                                       include_rts = False, exclude_replies = True)"
   ]
  },
  {
   "cell_type": "code",
   "execution_count": 53,
   "metadata": {},
   "outputs": [],
   "source": [
    "output_file_name = \"twitter_get_timeline_@jameelajamil_1201.txt\""
   ]
  },
  {
   "cell_type": "code",
   "execution_count": 54,
   "metadata": {},
   "outputs": [],
   "source": [
    "with open(output_file_name, \"w\", encoding = \"utf-8\") as output_file :\n",
    "    for status in statuses :\n",
    "        print(status.text, file = output_file)"
   ]
  },
  {
   "cell_type": "markdown",
   "metadata": {},
   "source": [
    "18"
   ]
  },
  {
   "cell_type": "code",
   "execution_count": 55,
   "metadata": {},
   "outputs": [],
   "source": [
    "account = \"@jimcramer\"\n",
    "\n",
    "\n",
    "\n",
    "statuses = twitter_api.GetUserTimeline(screen_name = account, since_id = 1331081422178713603, count = 200,\n",
    "                                       include_rts = False, exclude_replies = True)"
   ]
  },
  {
   "cell_type": "code",
   "execution_count": 56,
   "metadata": {},
   "outputs": [],
   "source": [
    "output_file_name = \"twitter_get_timeline_@jimcramer_1201.txt\"\n"
   ]
  },
  {
   "cell_type": "code",
   "execution_count": 57,
   "metadata": {},
   "outputs": [],
   "source": [
    "with open(output_file_name, \"w\", encoding = \"utf-8\") as output_file :\n",
    "    for status in statuses :\n",
    "        print(status.text, file = output_file)"
   ]
  },
  {
   "cell_type": "markdown",
   "metadata": {},
   "source": [
    "19"
   ]
  },
  {
   "cell_type": "code",
   "execution_count": 58,
   "metadata": {},
   "outputs": [],
   "source": [
    "account = \"@KimKardashian\"\n",
    "\n",
    "\n",
    "\n",
    "statuses = twitter_api.GetUserTimeline(screen_name = account, since_id = 1331081422178713603, count = 200,\n",
    "                                       include_rts = False, exclude_replies = True)"
   ]
  },
  {
   "cell_type": "code",
   "execution_count": 59,
   "metadata": {},
   "outputs": [],
   "source": [
    "output_file_name = \"twitter_get_timeline_@KimKardashian_1201.txt\""
   ]
  },
  {
   "cell_type": "code",
   "execution_count": 60,
   "metadata": {},
   "outputs": [],
   "source": [
    "with open(output_file_name, \"w\", encoding = \"utf-8\") as output_file :\n",
    "    for status in statuses :\n",
    "        print(status.text, file = output_file)"
   ]
  },
  {
   "cell_type": "markdown",
   "metadata": {},
   "source": [
    "20"
   ]
  },
  {
   "cell_type": "code",
   "execution_count": 61,
   "metadata": {},
   "outputs": [],
   "source": [
    "account = \"@KingJames\"\n",
    "\n",
    "\n",
    "statuses = twitter_api.GetUserTimeline(screen_name = account, since_id = 1331081422178713603, count = 200,\n",
    "                                       include_rts = False, exclude_replies = False)"
   ]
  },
  {
   "cell_type": "code",
   "execution_count": 62,
   "metadata": {},
   "outputs": [],
   "source": [
    "output_file_name = \"twitter_get_timeline_@KingJames_1201.txt\""
   ]
  },
  {
   "cell_type": "code",
   "execution_count": 63,
   "metadata": {},
   "outputs": [],
   "source": [
    "with open(output_file_name, \"w\", encoding = \"utf-8\") as output_file :\n",
    "    for status in statuses :\n",
    "        print(status.text, file = output_file)"
   ]
  },
  {
   "cell_type": "markdown",
   "metadata": {},
   "source": [
    "21"
   ]
  },
  {
   "cell_type": "code",
   "execution_count": 64,
   "metadata": {},
   "outputs": [],
   "source": [
    "account = \"@megynkelly\"\n",
    "\n",
    "\n",
    "\n",
    "statuses = twitter_api.GetUserTimeline(screen_name = account, since_id = 1331081422178713603, count = 200,\n",
    "                                       include_rts = False, exclude_replies = True)"
   ]
  },
  {
   "cell_type": "code",
   "execution_count": 65,
   "metadata": {},
   "outputs": [],
   "source": [
    "output_file_name = \"twitter_get_timeline_@megynkelly_1201.txt\""
   ]
  },
  {
   "cell_type": "code",
   "execution_count": 66,
   "metadata": {},
   "outputs": [],
   "source": [
    "with open(output_file_name, \"w\", encoding = \"utf-8\") as output_file :\n",
    "    for status in statuses :\n",
    "        print(status.text, file = output_file)"
   ]
  },
  {
   "cell_type": "markdown",
   "metadata": {},
   "source": [
    "22"
   ]
  },
  {
   "cell_type": "code",
   "execution_count": 67,
   "metadata": {},
   "outputs": [],
   "source": [
    "account = \"@Rjeff24\"\n",
    "\n",
    "\n",
    "statuses = twitter_api.GetUserTimeline(screen_name = account, since_id = 1331081422178713603, count = 200,\n",
    "                                       include_rts = False, exclude_replies = False)"
   ]
  },
  {
   "cell_type": "code",
   "execution_count": 68,
   "metadata": {},
   "outputs": [],
   "source": [
    "output_file_name = \"twitter_get_timeline_@Rjeff24_1201.txt\""
   ]
  },
  {
   "cell_type": "code",
   "execution_count": 69,
   "metadata": {},
   "outputs": [],
   "source": [
    "with open(output_file_name, \"w\", encoding = \"utf-8\") as output_file :\n",
    "    for status in statuses :\n",
    "        print(status.text, file = output_file)"
   ]
  },
  {
   "cell_type": "markdown",
   "metadata": {},
   "source": [
    "23"
   ]
  },
  {
   "cell_type": "code",
   "execution_count": 70,
   "metadata": {},
   "outputs": [],
   "source": [
    "account = \"@StephenKing\"\n",
    "\n",
    "\n",
    "\n",
    "\n",
    "statuses = twitter_api.GetUserTimeline(screen_name = account, since_id = 1331081422178713603, count = 200,\n",
    "                                       include_rts = False, exclude_replies = False)"
   ]
  },
  {
   "cell_type": "code",
   "execution_count": 71,
   "metadata": {},
   "outputs": [],
   "source": [
    "output_file_name = \"twitter_get_timeline_@StephenKing_1201.txt\""
   ]
  },
  {
   "cell_type": "code",
   "execution_count": 72,
   "metadata": {},
   "outputs": [],
   "source": [
    "with open(output_file_name, \"w\", encoding = \"utf-8\") as output_file :\n",
    "    for status in statuses :\n",
    "        print(status.text, file = output_file)"
   ]
  }
 ],
 "metadata": {
  "kernelspec": {
   "display_name": "Python 3",
   "language": "python",
   "name": "python3"
  },
  "language_info": {
   "codemirror_mode": {
    "name": "ipython",
    "version": 3
   },
   "file_extension": ".py",
   "mimetype": "text/x-python",
   "name": "python",
   "nbconvert_exporter": "python",
   "pygments_lexer": "ipython3",
   "version": "3.7.9"
  }
 },
 "nbformat": 4,
 "nbformat_minor": 4
}
