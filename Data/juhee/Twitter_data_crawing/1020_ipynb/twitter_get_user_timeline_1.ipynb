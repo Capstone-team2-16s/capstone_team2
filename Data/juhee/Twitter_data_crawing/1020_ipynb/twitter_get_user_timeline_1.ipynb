{
 "cells": [
  {
   "cell_type": "code",
   "execution_count": 4,
   "metadata": {},
   "outputs": [],
   "source": [
    "import twitter"
   ]
  },
  {
   "cell_type": "code",
   "execution_count": 5,
   "metadata": {},
   "outputs": [],
   "source": [
    "consumer_key = \"AIa1UUfBD4DDO0pRUs914up3a\"\n",
    "consumer_secret = \"HXKShJY6ZZr1H7ab4afjqxC1SK2zhQ5nS4x0CYMwLfKgMOVcVm\"\n",
    "access_token = \"1308644309365739520-XBHsu8ndkEqH1iNaDvxG1CNFRJeWsY\"\n",
    "access_token_secret = \"6NruRVDjnNiugikIiMqZd7PlWqxNvdlMuyt5M6jIK4Aep\""
   ]
  },
  {
   "cell_type": "code",
   "execution_count": 7,
   "metadata": {},
   "outputs": [
    {
     "ename": "AttributeError",
     "evalue": "module 'twitter' has no attribute 'Api'",
     "output_type": "error",
     "traceback": [
      "\u001b[1;31m---------------------------------------------------------------------------\u001b[0m",
      "\u001b[1;31mAttributeError\u001b[0m                            Traceback (most recent call last)",
      "\u001b[1;32m<ipython-input-7-bb4d7ebe258c>\u001b[0m in \u001b[0;36m<module>\u001b[1;34m\u001b[0m\n\u001b[1;32m----> 1\u001b[1;33m twitter_api = twitter.Api(consumer_key = consumer_key,\n\u001b[0m\u001b[0;32m      2\u001b[0m                          \u001b[0mconsumer_secret\u001b[0m \u001b[1;33m=\u001b[0m \u001b[0mconsumer_secret\u001b[0m\u001b[1;33m,\u001b[0m\u001b[1;33m\u001b[0m\u001b[1;33m\u001b[0m\u001b[0m\n\u001b[0;32m      3\u001b[0m                          \u001b[0maccess_token_key\u001b[0m \u001b[1;33m=\u001b[0m \u001b[0maccess_token\u001b[0m\u001b[1;33m,\u001b[0m\u001b[1;33m\u001b[0m\u001b[1;33m\u001b[0m\u001b[0m\n\u001b[0;32m      4\u001b[0m                          access_token_secret = access_token_secret)\n",
      "\u001b[1;31mAttributeError\u001b[0m: module 'twitter' has no attribute 'Api'"
     ]
    }
   ],
   "source": [
    "twitter_api = twitter.Api(consumer_key = consumer_key,\n",
    "                         consumer_secret = consumer_secret,\n",
    "                         access_token_key = access_token,\n",
    "                         access_token_secret = access_token_secret)"
   ]
  },
  {
   "cell_type": "markdown",
   "metadata": {},
   "source": [
    "1"
   ]
  },
  {
   "cell_type": "code",
   "execution_count": null,
   "metadata": {
    "scrolled": true
   },
   "outputs": [],
   "source": [
    "account = \"@Acosta\"\n",
    "\n",
    "\n",
    "statuses = twitter_api.GetUserTimeline(screen_name = account, since_id = 1315887644958576640, count = 200, include_rts = False, exclude_replies = False)"
   ]
  },
  {
   "cell_type": "code",
   "execution_count": null,
   "metadata": {},
   "outputs": [],
   "source": [
    "output_file_name = \"twitter_get_timeline_@Acosta_1020.txt\"\n"
   ]
  },
  {
   "cell_type": "code",
   "execution_count": null,
   "metadata": {},
   "outputs": [],
   "source": [
    "with open(output_file_name, \"w\", encoding = \"utf-8\") as output_file :\n",
    "    for status in statuses :\n",
    "        print(status.text, file = output_file)"
   ]
  },
  {
   "cell_type": "markdown",
   "metadata": {},
   "source": [
    "2"
   ]
  },
  {
   "cell_type": "code",
   "execution_count": null,
   "metadata": {},
   "outputs": [],
   "source": [
    "account = \"@AllyBrooke\"\n",
    "\n",
    "\n",
    "\n",
    "statuses = twitter_api.GetUserTimeline(screen_name = account, since_id = 1315887644958576640, count = 200, include_rts = False, exclude_replies = False)"
   ]
  },
  {
   "cell_type": "code",
   "execution_count": null,
   "metadata": {},
   "outputs": [],
   "source": [
    "output_file_name = \"twitter_get_timeline_@AllyBrooke_1020.txt\""
   ]
  },
  {
   "cell_type": "code",
   "execution_count": null,
   "metadata": {},
   "outputs": [],
   "source": [
    "with open(output_file_name, \"w\", encoding = \"utf-8\") as output_file :\n",
    "    for status in statuses :\n",
    "        print(status.text, file = output_file)"
   ]
  },
  {
   "cell_type": "markdown",
   "metadata": {},
   "source": [
    "3"
   ]
  },
  {
   "cell_type": "code",
   "execution_count": null,
   "metadata": {},
   "outputs": [],
   "source": [
    "account = \"@altonbrown\"\n",
    "\n",
    "\n",
    "statuses = twitter_api.GetUserTimeline(screen_name = account, since_id = 1315887644958576640, count = 200, include_rts = False, exclude_replies = False)"
   ]
  },
  {
   "cell_type": "code",
   "execution_count": null,
   "metadata": {},
   "outputs": [],
   "source": [
    "output_file_name = \"twitter_get_timeline_@altonbrown_1020.txt\""
   ]
  },
  {
   "cell_type": "code",
   "execution_count": null,
   "metadata": {},
   "outputs": [],
   "source": [
    "with open(output_file_name, \"w\", encoding = \"utf-8\") as output_file :\n",
    "    for status in statuses :\n",
    "        print(status.text, file = output_file)"
   ]
  },
  {
   "cell_type": "markdown",
   "metadata": {},
   "source": [
    "4"
   ]
  },
  {
   "cell_type": "code",
   "execution_count": null,
   "metadata": {},
   "outputs": [],
   "source": [
    "account = \"@Ashton5SOS\"\n",
    "\n",
    "statuses = twitter_api.GetUserTimeline(screen_name = account, since_id = 1315887644958576640, count = 200, include_rts = False, exclude_replies = False)"
   ]
  },
  {
   "cell_type": "code",
   "execution_count": null,
   "metadata": {},
   "outputs": [],
   "source": [
    "output_file_name = \"twitter_get_timeline_@Ashton5SOS_1020.txt\""
   ]
  },
  {
   "cell_type": "code",
   "execution_count": null,
   "metadata": {},
   "outputs": [],
   "source": [
    "with open(output_file_name, \"w\", encoding = \"utf-8\") as output_file :\n",
    "    for status in statuses :\n",
    "        print(status.text, file = output_file)"
   ]
  },
  {
   "cell_type": "markdown",
   "metadata": {},
   "source": [
    "5"
   ]
  },
  {
   "cell_type": "code",
   "execution_count": null,
   "metadata": {},
   "outputs": [],
   "source": [
    "account = \"@barbarastarrcnn\"\n",
    "\n",
    "\n",
    "statuses = twitter_api.GetUserTimeline(screen_name = account, since_id = 1315887644958576640, count = 200, include_rts = False, exclude_replies = False)"
   ]
  },
  {
   "cell_type": "code",
   "execution_count": null,
   "metadata": {},
   "outputs": [],
   "source": [
    "output_file_name = \"twitter_get_timeline_@barbarastarrcnn_1020.txt\""
   ]
  },
  {
   "cell_type": "code",
   "execution_count": null,
   "metadata": {},
   "outputs": [],
   "source": [
    "with open(output_file_name, \"w\", encoding = \"utf-8\") as output_file :\n",
    "    for status in statuses :\n",
    "        print(status.text, file = output_file)"
   ]
  },
  {
   "cell_type": "markdown",
   "metadata": {},
   "source": [
    "6"
   ]
  },
  {
   "cell_type": "code",
   "execution_count": null,
   "metadata": {},
   "outputs": [],
   "source": [
    "account = \"@BBCJonSopel\"\n",
    "\n",
    "\n",
    "\n",
    "statuses = twitter_api.GetUserTimeline(screen_name = account, since_id = 1315887644958576640, count = 200, include_rts = False, exclude_replies = False)"
   ]
  },
  {
   "cell_type": "code",
   "execution_count": null,
   "metadata": {},
   "outputs": [],
   "source": [
    "output_file_name = \"twitter_get_timeline_@BBCJonSopel_1020.txt\""
   ]
  },
  {
   "cell_type": "code",
   "execution_count": null,
   "metadata": {},
   "outputs": [],
   "source": [
    "with open(output_file_name, \"w\", encoding = \"utf-8\") as output_file :\n",
    "    for status in statuses :\n",
    "        print(status.text, file = output_file)"
   ]
  },
  {
   "cell_type": "markdown",
   "metadata": {},
   "source": [
    "7"
   ]
  },
  {
   "cell_type": "code",
   "execution_count": null,
   "metadata": {},
   "outputs": [],
   "source": [
    "account = \"@BBCkatyaadler\"\n",
    "\n",
    "\n",
    "statuses = twitter_api.GetUserTimeline(screen_name = account, since_id = 1315887644958576640, count = 200, include_rts = False, exclude_replies = False)"
   ]
  },
  {
   "cell_type": "code",
   "execution_count": null,
   "metadata": {},
   "outputs": [],
   "source": [
    "output_file_name = \"twitter_get_timeline_@BBCkatyaadler_1020.txt\""
   ]
  },
  {
   "cell_type": "code",
   "execution_count": null,
   "metadata": {},
   "outputs": [],
   "source": [
    "with open(output_file_name, \"w\", encoding = \"utf-8\") as output_file :\n",
    "    for status in statuses :\n",
    "        print(status.text, file = output_file)"
   ]
  },
  {
   "cell_type": "markdown",
   "metadata": {},
   "source": [
    "8"
   ]
  },
  {
   "cell_type": "code",
   "execution_count": null,
   "metadata": {},
   "outputs": [],
   "source": [
    "account = \"@BebeRexha\"\n",
    "\n",
    "\n",
    "statuses = twitter_api.GetUserTimeline(screen_name = account, since_id = 1315887644958576640, count = 200, include_rts = False, exclude_replies = False)"
   ]
  },
  {
   "cell_type": "code",
   "execution_count": null,
   "metadata": {},
   "outputs": [],
   "source": [
    "output_file_name = \"twitter_get_timeline_@BebeRexha_1020.txt\""
   ]
  },
  {
   "cell_type": "code",
   "execution_count": null,
   "metadata": {},
   "outputs": [],
   "source": [
    "with open(output_file_name, \"w\", encoding = \"utf-8\") as output_file :\n",
    "    for status in statuses :\n",
    "        print(status.text, file = output_file)"
   ]
  },
  {
   "cell_type": "markdown",
   "metadata": {},
   "source": [
    "9"
   ]
  },
  {
   "cell_type": "code",
   "execution_count": null,
   "metadata": {},
   "outputs": [],
   "source": [
    "account = \"@BigSean\"\n",
    "\n",
    "\n",
    "\n",
    "statuses = twitter_api.GetUserTimeline(screen_name = account, since_id = 1315887644958576640, count = 200, include_rts = False, exclude_replies = False)"
   ]
  },
  {
   "cell_type": "code",
   "execution_count": null,
   "metadata": {},
   "outputs": [],
   "source": [
    "output_file_name = \"twitter_get_timeline_@BigSean_1020.txt\""
   ]
  },
  {
   "cell_type": "code",
   "execution_count": null,
   "metadata": {},
   "outputs": [],
   "source": [
    "with open(output_file_name, \"w\", encoding = \"utf-8\") as output_file :\n",
    "    for status in statuses :\n",
    "        print(status.text, file = output_file)"
   ]
  },
  {
   "cell_type": "markdown",
   "metadata": {},
   "source": [
    "10"
   ]
  },
  {
   "cell_type": "code",
   "execution_count": null,
   "metadata": {},
   "outputs": [],
   "source": [
    "account = \"@BillOReilly\"\n",
    "\n",
    "\n",
    "statuses = twitter_api.GetUserTimeline(screen_name = account, since_id = 1315887644958576640, count = 200, include_rts = False, exclude_replies = False)"
   ]
  },
  {
   "cell_type": "code",
   "execution_count": null,
   "metadata": {},
   "outputs": [],
   "source": [
    "output_file_name = \"twitter_get_timeline_@BillOReilly_1020.txt\""
   ]
  },
  {
   "cell_type": "code",
   "execution_count": null,
   "metadata": {},
   "outputs": [],
   "source": [
    "with open(output_file_name, \"w\", encoding = \"utf-8\") as output_file :\n",
    "    for status in statuses :\n",
    "        print(status.text, file = output_file)"
   ]
  }
 ],
 "metadata": {
  "kernelspec": {
   "display_name": "Python 3",
   "language": "python",
   "name": "python3"
  },
  "language_info": {
   "codemirror_mode": {
    "name": "ipython",
    "version": 3
   },
   "file_extension": ".py",
   "mimetype": "text/x-python",
   "name": "python",
   "nbconvert_exporter": "python",
   "pygments_lexer": "ipython3",
   "version": "3.7.9"
  }
 },
 "nbformat": 4,
 "nbformat_minor": 4
}
