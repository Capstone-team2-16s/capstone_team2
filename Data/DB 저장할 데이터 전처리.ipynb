{
 "cells": [
  {
   "cell_type": "code",
   "execution_count": 1,
   "metadata": {},
   "outputs": [],
   "source": [
    "import pandas as pd\n",
    "\n",
    "pd.set_option('display.max_rows', None)\n",
    "pd.set_option('display.max_colwidth', None)"
   ]
  },
  {
   "cell_type": "markdown",
   "metadata": {},
   "source": [
    "# Twitter ID 가져오기"
   ]
  },
  {
   "cell_type": "markdown",
   "metadata": {},
   "source": [
    "@AdinaPorter\n",
    "@aliciakeys\n",
    "@AnneMarie\n",
    "@BillGates\n",
    "@birdy\n",
    "@charlieputh\n",
    "@ChrisEvans\n",
    "@DanReynolds\n",
    "@DojaCat\n",
    "@DwyaneWade\n",
    "@elliegoulding\n",
    "@elonmusk\n",
    "@IGGYAZALEA\n",
    "@JaredDudley619\n",
    "@jason_mraz\n",
    "@jelani9\n",
    "@Kehlani\n",
    "@liamgallagher\n",
    "@LukasGraham\n",
    "@MariahCarey\n",
    "@marshmellomusic\n",
    "@NiallOfficial\n",
    "@ParisHilton\n",
    "@Pink\n",
    "@rihanna\n",
    "@RobertDowneyJr\n",
    "@robreiner\n",
    "@TheEllenShow\n",
    "@tim_cook\n",
    "@Zedd"
   ]
  },
  {
   "cell_type": "code",
   "execution_count": 2,
   "metadata": {},
   "outputs": [],
   "source": [
    "id = '@Zedd'"
   ]
  },
  {
   "cell_type": "code",
   "execution_count": 3,
   "metadata": {},
   "outputs": [],
   "source": [
    "file_name = 'twitter_'\n",
    "fileformat = '.txt'\n",
    "filename = file_name + id + fileformat"
   ]
  },
  {
   "cell_type": "markdown",
   "metadata": {},
   "source": [
    "# txt 파일 가져오기"
   ]
  },
  {
   "cell_type": "code",
   "execution_count": 4,
   "metadata": {},
   "outputs": [],
   "source": [
    "with open(filename, 'r', encoding = \"utf-8\") as f:\n",
    "    tweets = pd.read_csv(f, sep = \"\\n\", names = ['data'])\n",
    "f.close()"
   ]
  },
  {
   "cell_type": "code",
   "execution_count": 5,
   "metadata": {
    "scrolled": true
   },
   "outputs": [
    {
     "data": {
      "text/plain": [
       "0                                                                            Can we pls reduce the killjoy turret health to 50hp 🥺?\n",
       "1                                                                                                                      *Thick Fil A\n",
       "2                                                                                                        I still don’t push people.\n",
       "3                                                                                                                              Yes.\n",
       "4                                                                            Actually just talked to Joe a few days ago about it :)\n",
       "5                                                                                                          APPLE?!?!?!?!?!?!?!!?!?!\n",
       "6                                                                                                         well isn’t this ironic...\n",
       "7                                                                                                                               Wtf\n",
       "8                                                                                                             Good morning sunshine\n",
       "9                                                                                                      Come pet them anytime u wish\n",
       "10                                                                                                                   Good morning 🐣\n",
       "11                                                                         I think at 11pm pst today the patch is supposed to ship.\n",
       "12    Today on stream we were able to have a calm conversation about politics while respecting each other’s different view points. \n",
       "13                                                                                        It’s what we all need the most right now.\n",
       "14                                                                    Compassion and our best attempt at understanding each other. \n",
       "15                                                                                 The solution is usually somewhere in the middle.\n",
       "16                                                                                                                          Anytime\n",
       "17                                                                                       CLICK BELOW FOR 7 YEARS OF GOOD LUCK!!!!!!\n",
       "18                                                                                              COME COME COME !!!!!!!!!!!!!!!!!!!!\n",
       "19                                                        Got 6 baby chickens and built them a mansion to live in when they grow up\n",
       "20                                                     Is there any way to get a PS5 on release or did I miss the pre order window?\n",
       "21                                                                                                                birthday halsssss\n",
       "22                                                         ha, well, the hardest thing about cypher for me is to not fall asleep :D\n",
       "23                                                                                            I play piano, drums, guitar and jett.\n",
       "24                                                                                                                    hahahahahahha\n",
       "25                                                                         CLICK BELOW TO SEE ME LOSE EVERY GAME IN @PlayVALORANT !\n",
       "26                                                                                                   Not everything is “Fake news”.\n",
       "27                                                                                          Only the things trump doesn’t like are.\n",
       "28              The things that make him look bad, the things he fucked up, the things he lied about... just those are “fake news”.\n",
       "29                                                                               Any inconvenient truth about him is “fake news” ;)\n",
       "30                                                                                                            LEEEET’S GOOOO!!!!!!!\n",
       "31                                                                                  Time to raise some money for charity!!!! ♥️♥️♥️\n",
       "32                                                                                                                TODAY!!!! 4PM PST\n",
       "33                                                                                                                  THIS SATURDAY!!\n",
       "34                                                        I’m so excited to be playing @FallGuysGame for such an important cause ❤️\n",
       "35                                                                                                                #LetsPlayForACure\n",
       "36                                   If you can’t make it and you feel inclined, donate to the Muscular Dystrophy Association here:\n",
       "37                                                                                                                           1v4???\n",
       "38                                                                                                           WE DON’T LOSE THESE!!!\n",
       "39                                                                                                 Ok I agree this is a masterpiece\n",
       "40                                                                            A proof that AI has reached the stage of singularity.\n",
       "41                                                                                                                        HAHAHAHAH\n",
       "42                                                                                                                                ☝\n",
       "43                                                                                                             This was 1 year ago.\n",
       "44                                                                                                               I miss this a lot.\n",
       "45                                                                                                   Can’t wait to feel this again.\n",
       "Name: data, dtype: object"
      ]
     },
     "execution_count": 5,
     "metadata": {},
     "output_type": "execute_result"
    }
   ],
   "source": [
    "tweets['data']"
   ]
  },
  {
   "cell_type": "code",
   "execution_count": 6,
   "metadata": {},
   "outputs": [],
   "source": [
    "tweets['URL'] = tweets['data'].replace(to_replace = \"(\\w+:\\/\\/\\S+)\", value = \"LINK \", regex = True)"
   ]
  },
  {
   "cell_type": "code",
   "execution_count": 7,
   "metadata": {
    "scrolled": true
   },
   "outputs": [
    {
     "data": {
      "text/plain": [
       "0                                                                            Can we pls reduce the killjoy turret health to 50hp 🥺?\n",
       "1                                                                                                                      *Thick Fil A\n",
       "2                                                                                                        I still don’t push people.\n",
       "3                                                                                                                              Yes.\n",
       "4                                                                            Actually just talked to Joe a few days ago about it :)\n",
       "5                                                                                                          APPLE?!?!?!?!?!?!?!!?!?!\n",
       "6                                                                                                         well isn’t this ironic...\n",
       "7                                                                                                                               Wtf\n",
       "8                                                                                                             Good morning sunshine\n",
       "9                                                                                                      Come pet them anytime u wish\n",
       "10                                                                                                                   Good morning 🐣\n",
       "11                                                                         I think at 11pm pst today the patch is supposed to ship.\n",
       "12    Today on stream we were able to have a calm conversation about politics while respecting each other’s different view points. \n",
       "13                                                                                        It’s what we all need the most right now.\n",
       "14                                                                    Compassion and our best attempt at understanding each other. \n",
       "15                                                                                 The solution is usually somewhere in the middle.\n",
       "16                                                                                                                          Anytime\n",
       "17                                                                                       CLICK BELOW FOR 7 YEARS OF GOOD LUCK!!!!!!\n",
       "18                                                                                              COME COME COME !!!!!!!!!!!!!!!!!!!!\n",
       "19                                                        Got 6 baby chickens and built them a mansion to live in when they grow up\n",
       "20                                                     Is there any way to get a PS5 on release or did I miss the pre order window?\n",
       "21                                                                                                                birthday halsssss\n",
       "22                                                         ha, well, the hardest thing about cypher for me is to not fall asleep :D\n",
       "23                                                                                            I play piano, drums, guitar and jett.\n",
       "24                                                                                                                    hahahahahahha\n",
       "25                                                                         CLICK BELOW TO SEE ME LOSE EVERY GAME IN @PlayVALORANT !\n",
       "26                                                                                                   Not everything is “Fake news”.\n",
       "27                                                                                          Only the things trump doesn’t like are.\n",
       "28              The things that make him look bad, the things he fucked up, the things he lied about... just those are “fake news”.\n",
       "29                                                                               Any inconvenient truth about him is “fake news” ;)\n",
       "30                                                                                                            LEEEET’S GOOOO!!!!!!!\n",
       "31                                                                                  Time to raise some money for charity!!!! ♥️♥️♥️\n",
       "32                                                                                                                TODAY!!!! 4PM PST\n",
       "33                                                                                                                  THIS SATURDAY!!\n",
       "34                                                        I’m so excited to be playing @FallGuysGame for such an important cause ❤️\n",
       "35                                                                                                                #LetsPlayForACure\n",
       "36                                   If you can’t make it and you feel inclined, donate to the Muscular Dystrophy Association here:\n",
       "37                                                                                                                           1v4???\n",
       "38                                                                                                           WE DON’T LOSE THESE!!!\n",
       "39                                                                                                 Ok I agree this is a masterpiece\n",
       "40                                                                            A proof that AI has reached the stage of singularity.\n",
       "41                                                                                                                        HAHAHAHAH\n",
       "42                                                                                                                                ☝\n",
       "43                                                                                                             This was 1 year ago.\n",
       "44                                                                                                               I miss this a lot.\n",
       "45                                                                                                   Can’t wait to feel this again.\n",
       "Name: URL, dtype: object"
      ]
     },
     "execution_count": 7,
     "metadata": {},
     "output_type": "execute_result"
    }
   ],
   "source": [
    "tweets['URL']"
   ]
  },
  {
   "cell_type": "markdown",
   "metadata": {},
   "source": [
    "# 링크 주소 LINK로 수정 후 txt 파일 저장"
   ]
  },
  {
   "cell_type": "code",
   "execution_count": 8,
   "metadata": {},
   "outputs": [],
   "source": [
    "result_filename = 'tweets_'\n",
    "result = result_filename + id + fileformat"
   ]
  },
  {
   "cell_type": "code",
   "execution_count": 9,
   "metadata": {},
   "outputs": [],
   "source": [
    "tweets_processing = tweets['URL']"
   ]
  },
  {
   "cell_type": "code",
   "execution_count": 10,
   "metadata": {},
   "outputs": [],
   "source": [
    "twstr = ''\n",
    "\n",
    "for i in range(len(tweets_processing)):\n",
    "    twstr += str(tweets_processing[i]) + '\\n'"
   ]
  },
  {
   "cell_type": "code",
   "execution_count": 11,
   "metadata": {},
   "outputs": [],
   "source": [
    "with open(result, 'w', encoding = \"utf-8\") as f:\n",
    "    print(twstr, file = f)"
   ]
  }
 ],
 "metadata": {
  "kernelspec": {
   "display_name": "Python 3",
   "language": "python",
   "name": "python3"
  },
  "language_info": {
   "codemirror_mode": {
    "name": "ipython",
    "version": 3
   },
   "file_extension": ".py",
   "mimetype": "text/x-python",
   "name": "python",
   "nbconvert_exporter": "python",
   "pygments_lexer": "ipython3",
   "version": "3.7.9"
  }
 },
 "nbformat": 4,
 "nbformat_minor": 4
}
