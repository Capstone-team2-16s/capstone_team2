{
  "nbformat": 4,
  "nbformat_minor": 0,
  "metadata": {
    "colab": {
      "name": "textCNN.ipynb",
      "provenance": [],
      "collapsed_sections": []
    },
    "kernelspec": {
      "name": "python3",
      "display_name": "Python 3"
    }
  },
  "cells": [
    {
      "cell_type": "code",
      "metadata": {
        "id": "HwAE1e6HI0Ta",
        "outputId": "73264838-873a-416b-da41-b7a09304f9e3",
        "colab": {
          "base_uri": "https://localhost:8080/",
          "height": 34
        }
      },
      "source": [
        "from google.colab import drive\n",
        "drive.mount('/gdrive', force_remount = True)"
      ],
      "execution_count": 1,
      "outputs": [
        {
          "output_type": "stream",
          "text": [
            "Mounted at /gdrive\n"
          ],
          "name": "stdout"
        }
      ]
    },
    {
      "cell_type": "markdown",
      "metadata": {
        "id": "K4XmT0MkKSGd"
      },
      "source": [
        "# Import Library"
      ]
    },
    {
      "cell_type": "code",
      "metadata": {
        "id": "tRYFp-9oJleV",
        "outputId": "d2d5385f-45a9-4d4e-c7d2-4555e7daeca3",
        "colab": {
          "base_uri": "https://localhost:8080/",
          "height": 228
        }
      },
      "source": [
        "import pandas as pd\n",
        "from pandas import DataFrame as df\n",
        "\n",
        "from tensorflow.keras.preprocessing.text import Tokenizer\n",
        "from tensorflow.keras.preprocessing.sequence import pad_sequences\n",
        "\n",
        "# nltk\n",
        "import nltk\n",
        "nltk.download('stopwords')\n",
        "from nltk.corpus import stopwords\n",
        "from  nltk.stem import SnowballStemmer\n",
        "\n",
        "# Word2vec\n",
        "import gensim\n",
        "from gensim.models import Word2Vec #@\n",
        "from gensim.utils import simple_preprocess #@\n",
        "from gensim.models.keyedvectors import KeyedVectors #@\n",
        "\n",
        "#Keras\n",
        "from keras.models import Sequential\n",
        "from keras.layers import Dense, Flatten, LSTM, Conv1D, MaxPooling1D, Dropout, Activation\n",
        "from keras.layers.embeddings import Embedding\n",
        "from keras.preprocessing.sequence import pad_sequences\n",
        "from keras.models import load_model #모델 저장\n",
        "\n",
        "#sklearn\n",
        "from sklearn.model_selection import train_test_split\n",
        "from sklearn.preprocessing import LabelEncoder\n",
        "\n",
        "# Utility\n",
        "import re\n",
        "import numpy as np\n",
        "import time #수행시간 측정\n",
        "from google.colab import files #colab에 모델 save,load\n",
        "\n",
        "# emoji패키지 설치\n",
        "# 영구 설치 가능, https://sikaleo.tistory.com/m/78?category=932203\n",
        "!pip install emoji\n",
        "import emoji"
      ],
      "execution_count": 2,
      "outputs": [
        {
          "output_type": "stream",
          "text": [
            "[nltk_data] Downloading package stopwords to /root/nltk_data...\n",
            "[nltk_data]   Unzipping corpora/stopwords.zip.\n",
            "Collecting emoji\n",
            "\u001b[?25l  Downloading https://files.pythonhosted.org/packages/ff/1c/1f1457fe52d0b30cbeebfd578483cedb3e3619108d2d5a21380dfecf8ffd/emoji-0.6.0.tar.gz (51kB)\n",
            "\u001b[K     |████████████████████████████████| 51kB 1.7MB/s \n",
            "\u001b[?25hBuilding wheels for collected packages: emoji\n",
            "  Building wheel for emoji (setup.py) ... \u001b[?25l\u001b[?25hdone\n",
            "  Created wheel for emoji: filename=emoji-0.6.0-cp36-none-any.whl size=49716 sha256=3ec1cf4d2f5f5e039ada820d66f975352c9cb15c72e49f4ee67396ce3f104d25\n",
            "  Stored in directory: /root/.cache/pip/wheels/46/2c/8b/9dcf5216ca68e14e0320e283692dce8ae321cdc01e73e17796\n",
            "Successfully built emoji\n",
            "Installing collected packages: emoji\n",
            "Successfully installed emoji-0.6.0\n"
          ],
          "name": "stdout"
        }
      ]
    },
    {
      "cell_type": "code",
      "metadata": {
        "id": "D4i4PiNdJn-o"
      },
      "source": [
        "# =============== 셋팅 =============== #\n",
        "\n",
        "# DATASET\n",
        "DATASET_COLUMNS = [\"target\", \"ids\", \"date\", \"flag\", \"user\", \"text\"]\n",
        "DATASET_ENCODING = \"ISO-8859-1\"\n",
        "TRAIN_SIZE = 0.8\n",
        "\n",
        "# TEXT CLENAING\n",
        "TEXT_CLEANING_RE = \"@\\S+|https?:\\S+|http?:\\S|[^A-Za-z0-9]+\"\n",
        "\n",
        "#전처리\n",
        "stop_words = stopwords.words(\"english\")\n",
        "stemmer = SnowballStemmer(\"english\")\n",
        "\n",
        "# KERAS\n",
        "SEQUENCE_LENGTH = 300\n",
        "EPOCHS = 8\n",
        "BATCH_SIZE = 1024\n",
        "\n",
        "# SENTIMENT\n",
        "POSITIVE = \"POSITIVE\"\n",
        "NEGATIVE = \"NEGATIVE\"\n",
        "NEUTRAL = \"NEUTRAL\"\n",
        "SENTIMENT_THRESHOLDS = (0.4, 0.7)"
      ],
      "execution_count": 3,
      "outputs": []
    },
    {
      "cell_type": "markdown",
      "metadata": {
        "id": "IBNYLnKJKZkf"
      },
      "source": [
        "# Load Data"
      ]
    },
    {
      "cell_type": "code",
      "metadata": {
        "id": "xqhpE8m_Joq3"
      },
      "source": [
        "my_path = '/gdrive/My Drive/colab/'"
      ],
      "execution_count": 4,
      "outputs": []
    },
    {
      "cell_type": "code",
      "metadata": {
        "id": "Uff7dhRyJvoz",
        "outputId": "749a3e3b-8b2a-4b87-bb36-52fefc8659ef",
        "colab": {
          "base_uri": "https://localhost:8080/",
          "height": 34
        }
      },
      "source": [
        "#학습데이터 로드\n",
        "dataset=pd.read_csv(my_path+'train.csv',encoding = DATASET_ENCODING, names=DATASET_COLUMNS)\n",
        "print(dataset.shape) #1600000,6"
      ],
      "execution_count": 5,
      "outputs": [
        {
          "output_type": "stream",
          "text": [
            "(1600000, 6)\n"
          ],
          "name": "stdout"
        }
      ]
    },
    {
      "cell_type": "code",
      "metadata": {
        "id": "FRHQE15aJwMM",
        "outputId": "5ae81dd1-c148-457d-b407-6d1c118cdef3",
        "colab": {
          "base_uri": "https://localhost:8080/",
          "height": 195
        }
      },
      "source": [
        "dataset.head() # negative:0, positive:4"
      ],
      "execution_count": 6,
      "outputs": [
        {
          "output_type": "execute_result",
          "data": {
            "text/html": [
              "<div>\n",
              "<style scoped>\n",
              "    .dataframe tbody tr th:only-of-type {\n",
              "        vertical-align: middle;\n",
              "    }\n",
              "\n",
              "    .dataframe tbody tr th {\n",
              "        vertical-align: top;\n",
              "    }\n",
              "\n",
              "    .dataframe thead th {\n",
              "        text-align: right;\n",
              "    }\n",
              "</style>\n",
              "<table border=\"1\" class=\"dataframe\">\n",
              "  <thead>\n",
              "    <tr style=\"text-align: right;\">\n",
              "      <th></th>\n",
              "      <th>target</th>\n",
              "      <th>ids</th>\n",
              "      <th>date</th>\n",
              "      <th>flag</th>\n",
              "      <th>user</th>\n",
              "      <th>text</th>\n",
              "    </tr>\n",
              "  </thead>\n",
              "  <tbody>\n",
              "    <tr>\n",
              "      <th>0</th>\n",
              "      <td>0</td>\n",
              "      <td>1467810369</td>\n",
              "      <td>Mon Apr 06 22:19:45 PDT 2009</td>\n",
              "      <td>NO_QUERY</td>\n",
              "      <td>_TheSpecialOne_</td>\n",
              "      <td>@switchfoot http://twitpic.com/2y1zl - Awww, t...</td>\n",
              "    </tr>\n",
              "    <tr>\n",
              "      <th>1</th>\n",
              "      <td>0</td>\n",
              "      <td>1467810672</td>\n",
              "      <td>Mon Apr 06 22:19:49 PDT 2009</td>\n",
              "      <td>NO_QUERY</td>\n",
              "      <td>scotthamilton</td>\n",
              "      <td>is upset that he can't update his Facebook by ...</td>\n",
              "    </tr>\n",
              "    <tr>\n",
              "      <th>2</th>\n",
              "      <td>0</td>\n",
              "      <td>1467810917</td>\n",
              "      <td>Mon Apr 06 22:19:53 PDT 2009</td>\n",
              "      <td>NO_QUERY</td>\n",
              "      <td>mattycus</td>\n",
              "      <td>@Kenichan I dived many times for the ball. Man...</td>\n",
              "    </tr>\n",
              "    <tr>\n",
              "      <th>3</th>\n",
              "      <td>0</td>\n",
              "      <td>1467811184</td>\n",
              "      <td>Mon Apr 06 22:19:57 PDT 2009</td>\n",
              "      <td>NO_QUERY</td>\n",
              "      <td>ElleCTF</td>\n",
              "      <td>my whole body feels itchy and like its on fire</td>\n",
              "    </tr>\n",
              "    <tr>\n",
              "      <th>4</th>\n",
              "      <td>0</td>\n",
              "      <td>1467811193</td>\n",
              "      <td>Mon Apr 06 22:19:57 PDT 2009</td>\n",
              "      <td>NO_QUERY</td>\n",
              "      <td>Karoli</td>\n",
              "      <td>@nationwideclass no, it's not behaving at all....</td>\n",
              "    </tr>\n",
              "  </tbody>\n",
              "</table>\n",
              "</div>"
            ],
            "text/plain": [
              "   target  ...                                               text\n",
              "0       0  ...  @switchfoot http://twitpic.com/2y1zl - Awww, t...\n",
              "1       0  ...  is upset that he can't update his Facebook by ...\n",
              "2       0  ...  @Kenichan I dived many times for the ball. Man...\n",
              "3       0  ...    my whole body feels itchy and like its on fire \n",
              "4       0  ...  @nationwideclass no, it's not behaving at all....\n",
              "\n",
              "[5 rows x 6 columns]"
            ]
          },
          "metadata": {
            "tags": []
          },
          "execution_count": 6
        }
      ]
    },
    {
      "cell_type": "markdown",
      "metadata": {
        "id": "-9SNxfXNKdCU"
      },
      "source": [
        "디코더 생성"
      ]
    },
    {
      "cell_type": "code",
      "metadata": {
        "id": "SOCnMeKnJwVB"
      },
      "source": [
        "decode_map = {0: NEGATIVE, 2: NEUTRAL, 4: POSITIVE} #숫자 => 분류 문장\n",
        "def decode_sentiment(label):\n",
        "    return decode_map[int(label)]"
      ],
      "execution_count": 7,
      "outputs": []
    },
    {
      "cell_type": "code",
      "metadata": {
        "id": "LV5XX9-LJwTi",
        "outputId": "2eef546a-cf40-4dd0-dee4-b112656f2aa3",
        "colab": {
          "base_uri": "https://localhost:8080/",
          "height": 52
        }
      },
      "source": [
        "%%time\n",
        "dataset.target = dataset.target.apply(lambda x: decode_sentiment(x))"
      ],
      "execution_count": 8,
      "outputs": [
        {
          "output_type": "stream",
          "text": [
            "CPU times: user 503 ms, sys: 1.54 ms, total: 505 ms\n",
            "Wall time: 506 ms\n"
          ],
          "name": "stdout"
        }
      ]
    },
    {
      "cell_type": "markdown",
      "metadata": {
        "id": "b1QXEs1EKgzL"
      },
      "source": [
        "# Pre-Processing "
      ]
    },
    {
      "cell_type": "markdown",
      "metadata": {
        "id": "Jv0mubiMKj1S"
      },
      "source": [
        "클리닝 텍스트"
      ]
    },
    {
      "cell_type": "code",
      "metadata": {
        "id": "eul8spEbJwRp"
      },
      "source": [
        "#학습 데이터 텍스트 전처리\n",
        "def preprocess(text, stem=False):\n",
        "    # Remove link,user and special characters\n",
        "    text = re.sub(TEXT_CLEANING_RE, ' ', str(text).lower()).strip()\n",
        "    tokens = []\n",
        "    for token in text.split():\n",
        "        if token not in stop_words:\n",
        "            if stem:\n",
        "                tokens.append(stemmer.stem(token))\n",
        "            else:\n",
        "                tokens.append(token)\n",
        "    return \" \".join(tokens)"
      ],
      "execution_count": 9,
      "outputs": []
    },
    {
      "cell_type": "code",
      "metadata": {
        "id": "lxw_Hyg_J2Kc"
      },
      "source": [
        "#학습 데이터 전처리 진행\n",
        "dataset.text = dataset.text.apply(lambda x: preprocess(x)) "
      ],
      "execution_count": 10,
      "outputs": []
    },
    {
      "cell_type": "markdown",
      "metadata": {
        "id": "6FhltznMKn9Q"
      },
      "source": [
        "학습 데이터 나누기 "
      ]
    },
    {
      "cell_type": "code",
      "metadata": {
        "id": "K-HScoUAJ7hQ",
        "outputId": "da7cfc12-4a0d-4738-bc08-6611e55c2436",
        "colab": {
          "base_uri": "https://localhost:8080/",
          "height": 52
        }
      },
      "source": [
        "train, test = train_test_split(dataset, test_size=1-TRAIN_SIZE, random_state=42)\n",
        "print(\"TRAIN size:\", len(train))\n",
        "print(\"TEST size:\", len(test))"
      ],
      "execution_count": 11,
      "outputs": [
        {
          "output_type": "stream",
          "text": [
            "TRAIN size: 1280000\n",
            "TEST size: 320000\n"
          ],
          "name": "stdout"
        }
      ]
    },
    {
      "cell_type": "code",
      "metadata": {
        "id": "zr8hmoorJ7kF"
      },
      "source": [
        "documents = [_text.split() for _text in train.text] #list, 1280000*50"
      ],
      "execution_count": 12,
      "outputs": []
    },
    {
      "cell_type": "code",
      "metadata": {
        "id": "CmX1V4QGJ7my"
      },
      "source": [
        "vocab_size = 400000\n",
        "tk = Tokenizer(num_words=vocab_size)\n",
        "tk.fit_on_texts(train.text) \n",
        "x_train = tk.texts_to_sequences(train.text)\n",
        "x_test = tk.texts_to_sequences(test.text)"
      ],
      "execution_count": 13,
      "outputs": []
    },
    {
      "cell_type": "code",
      "metadata": {
        "id": "U4IGVd2hJ7pq",
        "outputId": "96e8f40f-8b0c-494b-d1a3-5c0df117b2f2",
        "colab": {
          "base_uri": "https://localhost:8080/",
          "height": 34
        }
      },
      "source": [
        "labels = train.target.unique().tolist() #POSITIVE NEUTRAL NEGATIVE\n",
        "labels.append(NEUTRAL)\n",
        "print(labels)\n",
        "\n",
        "encoder = LabelEncoder() #문장 -> 숫자 자동으로\n",
        "encoder.fit(train.target.tolist())\n",
        "\n",
        "y_train = encoder.transform(train.target.tolist())\n",
        "y_test = encoder.transform(test.target.tolist())\n",
        "\n",
        "y_train = y_train.reshape(-1,1) #1열로 자동으로 만들어줍니다.\n",
        "y_test = y_test.reshape(-1,1)"
      ],
      "execution_count": 14,
      "outputs": [
        {
          "output_type": "stream",
          "text": [
            "['POSITIVE', 'NEGATIVE', 'NEUTRAL']\n"
          ],
          "name": "stdout"
        }
      ]
    },
    {
      "cell_type": "markdown",
      "metadata": {
        "id": "hSgucG1UKtym"
      },
      "source": [
        "# Build Model"
      ]
    },
    {
      "cell_type": "code",
      "metadata": {
        "id": "x541BqwCJ7s6"
      },
      "source": [
        "max_len=max(len(l) for l in x_train) #한 문장에서 최대 단어 개수를 반환 #max_len=50"
      ],
      "execution_count": 15,
      "outputs": []
    },
    {
      "cell_type": "code",
      "metadata": {
        "id": "j2CsEtZjJ7wa",
        "outputId": "9f66c598-5f83-4a51-93ae-3eec89b9d688",
        "colab": {
          "base_uri": "https://localhost:8080/",
          "height": 34
        }
      },
      "source": [
        "X_train = np.array(pad_sequences(x_train, maxlen=max_len, padding='post')) #max_len만큼 padding 값 설정 \n",
        "print(X_train.shape, y_train.shape)"
      ],
      "execution_count": 16,
      "outputs": [
        {
          "output_type": "stream",
          "text": [
            "(1280000, 50) (1280000, 1)\n"
          ],
          "name": "stdout"
        }
      ]
    },
    {
      "cell_type": "markdown",
      "metadata": {
        "id": "rp2e91pAK1hM"
      },
      "source": [
        "text-CNN 모델 로드"
      ]
    },
    {
      "cell_type": "code",
      "metadata": {
        "id": "CJrT8hmkKyD1"
      },
      "source": [
        "model = load_model(my_path+'text-CNN.h5')"
      ],
      "execution_count": 17,
      "outputs": []
    },
    {
      "cell_type": "code",
      "metadata": {
        "id": "DNDLM8R6Kx7-"
      },
      "source": [
        "def decode_sentiment(score, include_neutral=True):\n",
        "    if include_neutral:        \n",
        "        label = NEUTRAL\n",
        "        if score <= SENTIMENT_THRESHOLDS[0]:\n",
        "            label = NEGATIVE\n",
        "        elif score >= SENTIMENT_THRESHOLDS[1]:\n",
        "            label = POSITIVE\n",
        "\n",
        "        return label\n",
        "    else:\n",
        "        return NEGATIVE if score < 0.5 else POSITIVE"
      ],
      "execution_count": 18,
      "outputs": []
    },
    {
      "cell_type": "code",
      "metadata": {
        "id": "RIEqA7RIK5DV"
      },
      "source": [
        "def predict(ex_text, include_neutral=True):\n",
        "    start_at = time.time()\n",
        "    x_encoded = tk.texts_to_sequences([ex_text])\n",
        "    res_test=np.array(pad_sequences(x_encoded, maxlen=max_len, padding='post'))\n",
        "    # Predict\n",
        "    score = model.predict([res_test])\n",
        "    # Decode sentiment\n",
        "    label = decode_sentiment(score, include_neutral=include_neutral)\n",
        "    \n",
        "    return {\"label\": label, \"score\": float(score),\n",
        "       \"elapsed_time\": time.time()-start_at}"
      ],
      "execution_count": 19,
      "outputs": []
    },
    {
      "cell_type": "code",
      "metadata": {
        "id": "UORdWEJ2K6s8",
        "outputId": "78ca8a18-32b2-4a8c-80ab-1571e7245f85",
        "colab": {
          "base_uri": "https://localhost:8080/",
          "height": 70
        }
      },
      "source": [
        "predict(\"That's so sad\")"
      ],
      "execution_count": 20,
      "outputs": [
        {
          "output_type": "execute_result",
          "data": {
            "text/plain": [
              "{'elapsed_time': 0.46875429153442383,\n",
              " 'label': 'NEGATIVE',\n",
              " 'score': 0.05291527509689331}"
            ]
          },
          "metadata": {
            "tags": []
          },
          "execution_count": 20
        }
      ]
    },
    {
      "cell_type": "markdown",
      "metadata": {
        "id": "ZI6I1UJsK7bU"
      },
      "source": [
        "# 트위터 데이터로 예측해보기"
      ]
    },
    {
      "cell_type": "code",
      "metadata": {
        "id": "KrexAVQ9J2TS"
      },
      "source": [
        "# 트윗 텍스트 전처리\n",
        "def preproc_tweets(request_id):\n",
        "    #사용자에게 분석 요청 받은 유명인 아이디\n",
        "    id = request_id\n",
        "\n",
        "    file_name = 'tweets_'\n",
        "    fileformat = '.txt'\n",
        "    filename = file_name + id + fileformat\n",
        "\n",
        "    data_path = '/gdrive/My Drive/colab/data/'\n",
        "\n",
        "    # 분석 요청된 유명인 트윗 파일 open\n",
        "    with open(data_path + filename, 'r', encoding = \"utf-8\") as f:\n",
        "        tweets = pd.read_csv(f, sep = \"\\n\", names = ['data'])\n",
        "    f.close()\n",
        "\n",
        "    #소문자 변환\n",
        "    tweets['preprocess'] = tweets['data'].str.lower()\n",
        "\n",
        "    #@,#제거\n",
        "    tweets['preprocess'] = tweets['preprocess'].replace(to_replace = \"(@|#)\", value = \" \", regex = True)\n",
        "\n",
        "    #Emoji 변환\n",
        "    tweets_raw = tweets['preprocess']\n",
        "\n",
        "    for i in range(len(tweets_raw)):\n",
        "        tweets_raw[i] = emoji.demojize(tweets_raw[i], use_aliases = True)\n",
        "\n",
        "    tweets['preprocess'] = tweets_raw\n",
        "\n",
        "    return tweets"
      ],
      "execution_count": 21,
      "outputs": []
    },
    {
      "cell_type": "markdown",
      "metadata": {
        "id": "253DJjDnJfBA"
      },
      "source": [
        "@AdinaPorter\n",
        "@aliciakeys\n",
        "@AnneMarie\n",
        "@BillGates\n",
        "@birdy\n",
        "@charlieputh\n",
        "@ChrisEvans\n",
        "@DanReynolds\n",
        "@DojaCat\n",
        "@DwyaneWade\n",
        "@elliegoulding\n",
        "@elonmusk\n",
        "@IGGYAZALEA\n",
        "@JaredDudley619\n",
        "@jason_mraz\n",
        "@jelani9\n",
        "@Kehlani\n",
        "@liamgallagher\n",
        "@LukasGraham\n",
        "@MariahCarey\n",
        "@marshmellomusic\n",
        "@NiallOfficial\n",
        "@ParisHilton\n",
        "@Pink\n",
        "@rihanna\n",
        "@RobertDowneyJr\n",
        "@robreiner\n",
        "@TheEllenShow\n",
        "@tim_cook\n",
        "@Zedd"
      ]
    },
    {
      "cell_type": "code",
      "metadata": {
        "id": "EUv-QWIOK8zN",
        "outputId": "a004bd2c-f5c5-4afa-98d7-046c1bbc6c3c",
        "colab": {
          "base_uri": "https://localhost:8080/",
          "height": 521
        }
      },
      "source": [
        "# DB에서 분석할 트위터 텍스트 파일 가져오기\n",
        "# 입력 값 ID 필요\n",
        "request_id = \"@tim_cook\"\n",
        "\n",
        "tweet_data = preproc_tweets(request_id)\n",
        "\n",
        "tweet_data\n"
      ],
      "execution_count": 22,
      "outputs": [
        {
          "output_type": "execute_result",
          "data": {
            "text/html": [
              "<div>\n",
              "<style scoped>\n",
              "    .dataframe tbody tr th:only-of-type {\n",
              "        vertical-align: middle;\n",
              "    }\n",
              "\n",
              "    .dataframe tbody tr th {\n",
              "        vertical-align: top;\n",
              "    }\n",
              "\n",
              "    .dataframe thead th {\n",
              "        text-align: right;\n",
              "    }\n",
              "</style>\n",
              "<table border=\"1\" class=\"dataframe\">\n",
              "  <thead>\n",
              "    <tr style=\"text-align: right;\">\n",
              "      <th></th>\n",
              "      <th>data</th>\n",
              "      <th>preprocess</th>\n",
              "    </tr>\n",
              "  </thead>\n",
              "  <tbody>\n",
              "    <tr>\n",
              "      <th>0</th>\n",
              "      <td>The fires across the West Coast and storms hit...</td>\n",
              "      <td>the fires across the west coast and storms hit...</td>\n",
              "    </tr>\n",
              "    <tr>\n",
              "      <th>1</th>\n",
              "      <td>Grateful to the employees who joined Apple in ...</td>\n",
              "      <td>grateful to the employees who joined apple in ...</td>\n",
              "    </tr>\n",
              "    <tr>\n",
              "      <th>2</th>\n",
              "      <td>We’re proud to celebrate the power of unity an...</td>\n",
              "      <td>we’re proud to celebrate the power of unity an...</td>\n",
              "    </tr>\n",
              "    <tr>\n",
              "      <th>3</th>\n",
              "      <td>Together we’re creating a brighter, more inclu...</td>\n",
              "      <td>together we’re creating a brighter, more inclu...</td>\n",
              "    </tr>\n",
              "    <tr>\n",
              "      <th>4</th>\n",
              "      <td>Thank you @StevieWonder and @ACBnational!</td>\n",
              "      <td>thank you  steviewonder and  acbnational!</td>\n",
              "    </tr>\n",
              "    <tr>\n",
              "      <th>5</th>\n",
              "      <td>On the 10th anniversary of the passage of the ...</td>\n",
              "      <td>on the 10th anniversary of the passage of the ...</td>\n",
              "    </tr>\n",
              "    <tr>\n",
              "      <th>6</th>\n",
              "      <td>Humanity thrives when everyone has the ability...</td>\n",
              "      <td>humanity thrives when everyone has the ability...</td>\n",
              "    </tr>\n",
              "    <tr>\n",
              "      <th>7</th>\n",
              "      <td>We created the Health app because we believe e...</td>\n",
              "      <td>we created the health app because we believe e...</td>\n",
              "    </tr>\n",
              "    <tr>\n",
              "      <th>8</th>\n",
              "      <td>Proud to work alongside institutions in the UK...</td>\n",
              "      <td>proud to work alongside institutions in the uk...</td>\n",
              "    </tr>\n",
              "    <tr>\n",
              "      <th>9</th>\n",
              "      <td>“A great soul never dies. It brings us togethe...</td>\n",
              "      <td>“a great soul never dies. it brings us togethe...</td>\n",
              "    </tr>\n",
              "    <tr>\n",
              "      <th>10</th>\n",
              "      <td>You’re always with us Steve, your memory conne...</td>\n",
              "      <td>you’re always with us steve, your memory conne...</td>\n",
              "    </tr>\n",
              "    <tr>\n",
              "      <th>11</th>\n",
              "      <td>As Grace Hopper said, “The most dangerous phra...</td>\n",
              "      <td>as grace hopper said, “the most dangerous phra...</td>\n",
              "    </tr>\n",
              "    <tr>\n",
              "      <th>12</th>\n",
              "      <td>To all the trailblazers at this year’s #vGHC f...</td>\n",
              "      <td>to all the trailblazers at this year’s  vghc f...</td>\n",
              "    </tr>\n",
              "    <tr>\n",
              "      <th>13</th>\n",
              "      <td>The time for #ClimateAction is now.</td>\n",
              "      <td>the time for  climateaction is now.</td>\n",
              "    </tr>\n",
              "    <tr>\n",
              "      <th>14</th>\n",
              "      <td>Apple is proud of our commitment to be carbon ...</td>\n",
              "      <td>apple is proud of our commitment to be carbon ...</td>\n",
              "    </tr>\n",
              "    <tr>\n",
              "      <th>15</th>\n",
              "      <td>It’s National Voter Registration Day and @Appl...</td>\n",
              "      <td>it’s national voter registration day and  appl...</td>\n",
              "    </tr>\n",
              "  </tbody>\n",
              "</table>\n",
              "</div>"
            ],
            "text/plain": [
              "                                                 data                                         preprocess\n",
              "0   The fires across the West Coast and storms hit...  the fires across the west coast and storms hit...\n",
              "1   Grateful to the employees who joined Apple in ...  grateful to the employees who joined apple in ...\n",
              "2   We’re proud to celebrate the power of unity an...  we’re proud to celebrate the power of unity an...\n",
              "3   Together we’re creating a brighter, more inclu...  together we’re creating a brighter, more inclu...\n",
              "4           Thank you @StevieWonder and @ACBnational!          thank you  steviewonder and  acbnational!\n",
              "5   On the 10th anniversary of the passage of the ...  on the 10th anniversary of the passage of the ...\n",
              "6   Humanity thrives when everyone has the ability...  humanity thrives when everyone has the ability...\n",
              "7   We created the Health app because we believe e...  we created the health app because we believe e...\n",
              "8   Proud to work alongside institutions in the UK...  proud to work alongside institutions in the uk...\n",
              "9   “A great soul never dies. It brings us togethe...  “a great soul never dies. it brings us togethe...\n",
              "10  You’re always with us Steve, your memory conne...  you’re always with us steve, your memory conne...\n",
              "11  As Grace Hopper said, “The most dangerous phra...  as grace hopper said, “the most dangerous phra...\n",
              "12  To all the trailblazers at this year’s #vGHC f...  to all the trailblazers at this year’s  vghc f...\n",
              "13                The time for #ClimateAction is now.                the time for  climateaction is now.\n",
              "14  Apple is proud of our commitment to be carbon ...  apple is proud of our commitment to be carbon ...\n",
              "15  It’s National Voter Registration Day and @Appl...  it’s national voter registration day and  appl..."
            ]
          },
          "metadata": {
            "tags": []
          },
          "execution_count": 22
        }
      ]
    },
    {
      "cell_type": "code",
      "metadata": {
        "id": "UqHieyuGK-pu"
      },
      "source": [
        "df_res = pd.DataFrame({'text':[],\n",
        "                   'label':[],\n",
        "                   'score':[],\n",
        "                  'elapsed_time':[]}) #결과 dataframe 생성"
      ],
      "execution_count": 23,
      "outputs": []
    },
    {
      "cell_type": "code",
      "metadata": {
        "id": "q-H_z1xELBIO",
        "outputId": "be856405-63fb-476c-e077-9c9ebd23708b",
        "colab": {
          "base_uri": "https://localhost:8080/",
          "height": 521
        }
      },
      "source": [
        "for col,item in tweet_data.iterrows():\n",
        "  res=predict(item[1])\n",
        "  df_res.loc[col]=[item[0], res['label'], res['score'],res['elapsed_time'] ]\n",
        "\n",
        "df_res"
      ],
      "execution_count": 24,
      "outputs": [
        {
          "output_type": "execute_result",
          "data": {
            "text/html": [
              "<div>\n",
              "<style scoped>\n",
              "    .dataframe tbody tr th:only-of-type {\n",
              "        vertical-align: middle;\n",
              "    }\n",
              "\n",
              "    .dataframe tbody tr th {\n",
              "        vertical-align: top;\n",
              "    }\n",
              "\n",
              "    .dataframe thead th {\n",
              "        text-align: right;\n",
              "    }\n",
              "</style>\n",
              "<table border=\"1\" class=\"dataframe\">\n",
              "  <thead>\n",
              "    <tr style=\"text-align: right;\">\n",
              "      <th></th>\n",
              "      <th>text</th>\n",
              "      <th>label</th>\n",
              "      <th>score</th>\n",
              "      <th>elapsed_time</th>\n",
              "    </tr>\n",
              "  </thead>\n",
              "  <tbody>\n",
              "    <tr>\n",
              "      <th>0</th>\n",
              "      <td>The fires across the West Coast and storms hit...</td>\n",
              "      <td>NEGATIVE</td>\n",
              "      <td>0.171368</td>\n",
              "      <td>0.047780</td>\n",
              "    </tr>\n",
              "    <tr>\n",
              "      <th>1</th>\n",
              "      <td>Grateful to the employees who joined Apple in ...</td>\n",
              "      <td>NEUTRAL</td>\n",
              "      <td>0.437043</td>\n",
              "      <td>0.040954</td>\n",
              "    </tr>\n",
              "    <tr>\n",
              "      <th>2</th>\n",
              "      <td>We’re proud to celebrate the power of unity an...</td>\n",
              "      <td>POSITIVE</td>\n",
              "      <td>0.939416</td>\n",
              "      <td>0.043305</td>\n",
              "    </tr>\n",
              "    <tr>\n",
              "      <th>3</th>\n",
              "      <td>Together we’re creating a brighter, more inclu...</td>\n",
              "      <td>POSITIVE</td>\n",
              "      <td>0.744879</td>\n",
              "      <td>0.042855</td>\n",
              "    </tr>\n",
              "    <tr>\n",
              "      <th>4</th>\n",
              "      <td>Thank you @StevieWonder and @ACBnational!</td>\n",
              "      <td>POSITIVE</td>\n",
              "      <td>0.920831</td>\n",
              "      <td>0.043294</td>\n",
              "    </tr>\n",
              "    <tr>\n",
              "      <th>5</th>\n",
              "      <td>On the 10th anniversary of the passage of the ...</td>\n",
              "      <td>POSITIVE</td>\n",
              "      <td>0.917318</td>\n",
              "      <td>0.037186</td>\n",
              "    </tr>\n",
              "    <tr>\n",
              "      <th>6</th>\n",
              "      <td>Humanity thrives when everyone has the ability...</td>\n",
              "      <td>NEGATIVE</td>\n",
              "      <td>0.349453</td>\n",
              "      <td>0.035052</td>\n",
              "    </tr>\n",
              "    <tr>\n",
              "      <th>7</th>\n",
              "      <td>We created the Health app because we believe e...</td>\n",
              "      <td>NEUTRAL</td>\n",
              "      <td>0.639461</td>\n",
              "      <td>0.034859</td>\n",
              "    </tr>\n",
              "    <tr>\n",
              "      <th>8</th>\n",
              "      <td>Proud to work alongside institutions in the UK...</td>\n",
              "      <td>POSITIVE</td>\n",
              "      <td>0.793581</td>\n",
              "      <td>0.039837</td>\n",
              "    </tr>\n",
              "    <tr>\n",
              "      <th>9</th>\n",
              "      <td>“A great soul never dies. It brings us togethe...</td>\n",
              "      <td>NEUTRAL</td>\n",
              "      <td>0.647015</td>\n",
              "      <td>0.035186</td>\n",
              "    </tr>\n",
              "    <tr>\n",
              "      <th>10</th>\n",
              "      <td>You’re always with us Steve, your memory conne...</td>\n",
              "      <td>POSITIVE</td>\n",
              "      <td>0.756625</td>\n",
              "      <td>0.035364</td>\n",
              "    </tr>\n",
              "    <tr>\n",
              "      <th>11</th>\n",
              "      <td>As Grace Hopper said, “The most dangerous phra...</td>\n",
              "      <td>POSITIVE</td>\n",
              "      <td>0.863006</td>\n",
              "      <td>0.044543</td>\n",
              "    </tr>\n",
              "    <tr>\n",
              "      <th>12</th>\n",
              "      <td>To all the trailblazers at this year’s #vGHC f...</td>\n",
              "      <td>POSITIVE</td>\n",
              "      <td>0.715364</td>\n",
              "      <td>0.035749</td>\n",
              "    </tr>\n",
              "    <tr>\n",
              "      <th>13</th>\n",
              "      <td>The time for #ClimateAction is now.</td>\n",
              "      <td>NEUTRAL</td>\n",
              "      <td>0.672988</td>\n",
              "      <td>0.036946</td>\n",
              "    </tr>\n",
              "    <tr>\n",
              "      <th>14</th>\n",
              "      <td>Apple is proud of our commitment to be carbon ...</td>\n",
              "      <td>POSITIVE</td>\n",
              "      <td>0.756060</td>\n",
              "      <td>0.036335</td>\n",
              "    </tr>\n",
              "    <tr>\n",
              "      <th>15</th>\n",
              "      <td>It’s National Voter Registration Day and @Appl...</td>\n",
              "      <td>NEUTRAL</td>\n",
              "      <td>0.686620</td>\n",
              "      <td>0.036361</td>\n",
              "    </tr>\n",
              "  </tbody>\n",
              "</table>\n",
              "</div>"
            ],
            "text/plain": [
              "                                                 text  ... elapsed_time\n",
              "0   The fires across the West Coast and storms hit...  ...     0.047780\n",
              "1   Grateful to the employees who joined Apple in ...  ...     0.040954\n",
              "2   We’re proud to celebrate the power of unity an...  ...     0.043305\n",
              "3   Together we’re creating a brighter, more inclu...  ...     0.042855\n",
              "4           Thank you @StevieWonder and @ACBnational!  ...     0.043294\n",
              "5   On the 10th anniversary of the passage of the ...  ...     0.037186\n",
              "6   Humanity thrives when everyone has the ability...  ...     0.035052\n",
              "7   We created the Health app because we believe e...  ...     0.034859\n",
              "8   Proud to work alongside institutions in the UK...  ...     0.039837\n",
              "9   “A great soul never dies. It brings us togethe...  ...     0.035186\n",
              "10  You’re always with us Steve, your memory conne...  ...     0.035364\n",
              "11  As Grace Hopper said, “The most dangerous phra...  ...     0.044543\n",
              "12  To all the trailblazers at this year’s #vGHC f...  ...     0.035749\n",
              "13                The time for #ClimateAction is now.  ...     0.036946\n",
              "14  Apple is proud of our commitment to be carbon ...  ...     0.036335\n",
              "15  It’s National Voter Registration Day and @Appl...  ...     0.036361\n",
              "\n",
              "[16 rows x 4 columns]"
            ]
          },
          "metadata": {
            "tags": []
          },
          "execution_count": 24
        }
      ]
    },
    {
      "cell_type": "code",
      "metadata": {
        "id": "OrX72m_1JP03",
        "outputId": "6c9a5f92-dd34-4944-b672-41f6b26a6ee6",
        "colab": {
          "base_uri": "https://localhost:8080/",
          "height": 87
        }
      },
      "source": [
        "df_res['label'].value_counts()"
      ],
      "execution_count": 27,
      "outputs": [
        {
          "output_type": "execute_result",
          "data": {
            "text/plain": [
              "POSITIVE    9\n",
              "NEUTRAL     5\n",
              "NEGATIVE    2\n",
              "Name: label, dtype: int64"
            ]
          },
          "metadata": {
            "tags": []
          },
          "execution_count": 27
        }
      ]
    },
    {
      "cell_type": "code",
      "metadata": {
        "id": "nJ3yGWFtFlDI",
        "outputId": "ef0c55fd-d929-4a33-b60d-05c4c73491d0",
        "colab": {
          "base_uri": "https://localhost:8080/",
          "height": 87
        }
      },
      "source": [
        "# 문장 비율 계산하기\n",
        "\n",
        "df_res['label'].value_counts(normalize=True).mul(100).round(2).astype(str)+'%'"
      ],
      "execution_count": 29,
      "outputs": [
        {
          "output_type": "execute_result",
          "data": {
            "text/plain": [
              "POSITIVE    56.25%\n",
              "NEUTRAL     31.25%\n",
              "NEGATIVE     12.5%\n",
              "Name: label, dtype: object"
            ]
          },
          "metadata": {
            "tags": []
          },
          "execution_count": 29
        }
      ]
    }
  ]
}