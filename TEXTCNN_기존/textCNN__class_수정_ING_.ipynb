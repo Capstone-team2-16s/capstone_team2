{
  "nbformat": 4,
  "nbformat_minor": 0,
  "metadata": {
    "colab": {
      "name": "textCNN _ class 수정 ING .ipynb",
      "provenance": [],
      "collapsed_sections": []
    },
    "kernelspec": {
      "name": "python3",
      "display_name": "Python 3"
    }
  },
  "cells": [
    {
      "cell_type": "code",
      "metadata": {
        "id": "HwAE1e6HI0Ta",
        "outputId": "cdc70bea-bc8c-4996-e1ff-89395dabb0ff",
        "colab": {
          "base_uri": "https://localhost:8080/",
          "height": 35
        }
      },
      "source": [
        "from google.colab import drive\n",
        "drive.mount('/gdrive', force_remount = True)"
      ],
      "execution_count": 1,
      "outputs": [
        {
          "output_type": "stream",
          "text": [
            "Mounted at /gdrive\n"
          ],
          "name": "stdout"
        }
      ]
    },
    {
      "cell_type": "markdown",
      "metadata": {
        "id": "K4XmT0MkKSGd"
      },
      "source": [
        "# Import Library"
      ]
    },
    {
      "cell_type": "code",
      "metadata": {
        "id": "tRYFp-9oJleV",
        "outputId": "a9bbb331-af2d-40bd-bb2e-a518f404150b",
        "colab": {
          "base_uri": "https://localhost:8080/",
          "height": 124
        }
      },
      "source": [
        "# tensorflow\n",
        "from tensorflow.keras.preprocessing.text import Tokenizer\n",
        "from tensorflow.keras.preprocessing.sequence import pad_sequences\n",
        "\n",
        "# nltk\n",
        "import nltk\n",
        "nltk.download('stopwords')\n",
        "nltk.download('punkt')\n",
        "from nltk.tokenize import word_tokenize\n",
        "from nltk.corpus import stopwords\n",
        "from nltk.stem import SnowballStemmer\n",
        "\n",
        "# Word2vec\n",
        "import gensim\n",
        "from gensim.models import Word2Vec #@\n",
        "from gensim.utils import simple_preprocess #@\n",
        "from gensim.models.keyedvectors import KeyedVectors #@\n",
        "\n",
        "# Keras\n",
        "from keras.models import Sequential\n",
        "from keras.layers import Dense, Flatten, LSTM, Conv1D, MaxPooling1D, Dropout, Activation\n",
        "from keras.layers.embeddings import Embedding\n",
        "from keras.preprocessing.sequence import pad_sequences\n",
        "from keras.models import load_model # 모델 저장\n",
        "\n",
        "# sklearn\n",
        "from sklearn.model_selection import train_test_split\n",
        "from sklearn.preprocessing import LabelEncoder\n",
        "\n",
        "# Utility\n",
        "import re\n",
        "import numpy as np\n",
        "import pandas as pd\n",
        "from pandas import DataFrame as df\n",
        "from google.colab import data_table\n",
        "%unload_ext google.colab.data_table\n",
        "import time # 수행시간 측정\n",
        "from google.colab import files # colab에 모델 save,load\n",
        "from collections import Counter\n",
        "\n",
        "\n",
        "# emoji\n",
        "!pip install emoji\n",
        "import emoji"
      ],
      "execution_count": 2,
      "outputs": [
        {
          "output_type": "stream",
          "text": [
            "[nltk_data] Downloading package stopwords to /root/nltk_data...\n",
            "[nltk_data]   Package stopwords is already up-to-date!\n",
            "[nltk_data] Downloading package punkt to /root/nltk_data...\n",
            "[nltk_data]   Package punkt is already up-to-date!\n",
            "The google.colab.data_table extension is not loaded.\n",
            "Requirement already satisfied: emoji in /usr/local/lib/python3.6/dist-packages (0.6.0)\n"
          ],
          "name": "stdout"
        }
      ]
    },
    {
      "cell_type": "code",
      "metadata": {
        "id": "D4i4PiNdJn-o"
      },
      "source": [
        "# =============== 셋팅 =============== #\n",
        "\n",
        "# DATASET\n",
        "DATASET_COLUMNS = [\"target\", \"ids\", \"date\", \"flag\", \"user\", \"text\"]\n",
        "DATASET_ENCODING = \"ISO-8859-1\"\n",
        "TRAIN_SIZE = 0.8\n",
        "\n",
        "# TEXT CLENAING\n",
        "TEXT_CLEANING_RE = \"@\\S+|https?:\\S+|http?:\\S|[^A-Za-z0-9]+\"\n",
        "\n",
        "#전처리\n",
        "stop_words = stopwords.words(\"english\")\n",
        "stemmer = SnowballStemmer(\"english\")\n",
        "\n",
        "# KERAS\n",
        "SEQUENCE_LENGTH = 300\n",
        "EPOCHS = 8\n",
        "BATCH_SIZE = 1024\n",
        "\n",
        "# SENTIMENT\n",
        "POSITIVE = \"POSITIVE\"\n",
        "NEGATIVE = \"NEGATIVE\"\n",
        "NEUTRAL = \"NEUTRAL\"\n",
        "SENTIMENT_THRESHOLDS = (0.4, 0.7)"
      ],
      "execution_count": 3,
      "outputs": []
    },
    {
      "cell_type": "markdown",
      "metadata": {
        "id": "IBNYLnKJKZkf"
      },
      "source": [
        "# Load Data"
      ]
    },
    {
      "cell_type": "code",
      "metadata": {
        "id": "xqhpE8m_Joq3"
      },
      "source": [
        "my_path = '/gdrive/My Drive/Colab Notebooks/'"
      ],
      "execution_count": 4,
      "outputs": []
    },
    {
      "cell_type": "code",
      "metadata": {
        "id": "Uff7dhRyJvoz",
        "outputId": "928f024c-3c4a-474f-8151-0e0039f66c86",
        "colab": {
          "base_uri": "https://localhost:8080/",
          "height": 35
        }
      },
      "source": [
        "#학습데이터 로드\n",
        "dataset = pd.read_csv(my_path + 'train.csv', encoding = DATASET_ENCODING, names = DATASET_COLUMNS)\n",
        "print(dataset.shape) #1600000,6"
      ],
      "execution_count": 5,
      "outputs": [
        {
          "output_type": "stream",
          "text": [
            "(1600000, 6)\n"
          ],
          "name": "stdout"
        }
      ]
    },
    {
      "cell_type": "code",
      "metadata": {
        "id": "FRHQE15aJwMM",
        "outputId": "013f4301-c5c2-439b-f222-13bf0ba8f5a6",
        "colab": {
          "base_uri": "https://localhost:8080/",
          "height": 194
        }
      },
      "source": [
        "dataset.head() # negative:0, positive:4"
      ],
      "execution_count": 6,
      "outputs": [
        {
          "output_type": "execute_result",
          "data": {
            "text/html": [
              "<div>\n",
              "<style scoped>\n",
              "    .dataframe tbody tr th:only-of-type {\n",
              "        vertical-align: middle;\n",
              "    }\n",
              "\n",
              "    .dataframe tbody tr th {\n",
              "        vertical-align: top;\n",
              "    }\n",
              "\n",
              "    .dataframe thead th {\n",
              "        text-align: right;\n",
              "    }\n",
              "</style>\n",
              "<table border=\"1\" class=\"dataframe\">\n",
              "  <thead>\n",
              "    <tr style=\"text-align: right;\">\n",
              "      <th></th>\n",
              "      <th>target</th>\n",
              "      <th>ids</th>\n",
              "      <th>date</th>\n",
              "      <th>flag</th>\n",
              "      <th>user</th>\n",
              "      <th>text</th>\n",
              "    </tr>\n",
              "  </thead>\n",
              "  <tbody>\n",
              "    <tr>\n",
              "      <th>0</th>\n",
              "      <td>0</td>\n",
              "      <td>1467810369</td>\n",
              "      <td>Mon Apr 06 22:19:45 PDT 2009</td>\n",
              "      <td>NO_QUERY</td>\n",
              "      <td>_TheSpecialOne_</td>\n",
              "      <td>@switchfoot http://twitpic.com/2y1zl - Awww, t...</td>\n",
              "    </tr>\n",
              "    <tr>\n",
              "      <th>1</th>\n",
              "      <td>0</td>\n",
              "      <td>1467810672</td>\n",
              "      <td>Mon Apr 06 22:19:49 PDT 2009</td>\n",
              "      <td>NO_QUERY</td>\n",
              "      <td>scotthamilton</td>\n",
              "      <td>is upset that he can't update his Facebook by ...</td>\n",
              "    </tr>\n",
              "    <tr>\n",
              "      <th>2</th>\n",
              "      <td>0</td>\n",
              "      <td>1467810917</td>\n",
              "      <td>Mon Apr 06 22:19:53 PDT 2009</td>\n",
              "      <td>NO_QUERY</td>\n",
              "      <td>mattycus</td>\n",
              "      <td>@Kenichan I dived many times for the ball. Man...</td>\n",
              "    </tr>\n",
              "    <tr>\n",
              "      <th>3</th>\n",
              "      <td>0</td>\n",
              "      <td>1467811184</td>\n",
              "      <td>Mon Apr 06 22:19:57 PDT 2009</td>\n",
              "      <td>NO_QUERY</td>\n",
              "      <td>ElleCTF</td>\n",
              "      <td>my whole body feels itchy and like its on fire</td>\n",
              "    </tr>\n",
              "    <tr>\n",
              "      <th>4</th>\n",
              "      <td>0</td>\n",
              "      <td>1467811193</td>\n",
              "      <td>Mon Apr 06 22:19:57 PDT 2009</td>\n",
              "      <td>NO_QUERY</td>\n",
              "      <td>Karoli</td>\n",
              "      <td>@nationwideclass no, it's not behaving at all....</td>\n",
              "    </tr>\n",
              "  </tbody>\n",
              "</table>\n",
              "</div>"
            ],
            "text/plain": [
              "   target  ...                                               text\n",
              "0       0  ...  @switchfoot http://twitpic.com/2y1zl - Awww, t...\n",
              "1       0  ...  is upset that he can't update his Facebook by ...\n",
              "2       0  ...  @Kenichan I dived many times for the ball. Man...\n",
              "3       0  ...    my whole body feels itchy and like its on fire \n",
              "4       0  ...  @nationwideclass no, it's not behaving at all....\n",
              "\n",
              "[5 rows x 6 columns]"
            ]
          },
          "metadata": {
            "tags": []
          },
          "execution_count": 6
        }
      ]
    },
    {
      "cell_type": "markdown",
      "metadata": {
        "id": "-9SNxfXNKdCU"
      },
      "source": [
        "디코더 생성"
      ]
    },
    {
      "cell_type": "code",
      "metadata": {
        "id": "SOCnMeKnJwVB"
      },
      "source": [
        "decode_map = {0: NEGATIVE, 2: NEUTRAL, 4: POSITIVE} #숫자 => 분류 문장\n",
        "def decode_sentiment(label):\n",
        "    return decode_map[int(label)]"
      ],
      "execution_count": 7,
      "outputs": []
    },
    {
      "cell_type": "code",
      "metadata": {
        "id": "LV5XX9-LJwTi",
        "outputId": "fc0a9fc3-35f7-423a-d936-3a6dabc479c2",
        "colab": {
          "base_uri": "https://localhost:8080/",
          "height": 52
        }
      },
      "source": [
        "%%time\n",
        "dataset.target = dataset.target.apply(lambda x: decode_sentiment(x))"
      ],
      "execution_count": 8,
      "outputs": [
        {
          "output_type": "stream",
          "text": [
            "CPU times: user 512 ms, sys: 3.78 ms, total: 516 ms\n",
            "Wall time: 517 ms\n"
          ],
          "name": "stdout"
        }
      ]
    },
    {
      "cell_type": "markdown",
      "metadata": {
        "id": "b1QXEs1EKgzL"
      },
      "source": [
        "# Pre-Processing "
      ]
    },
    {
      "cell_type": "markdown",
      "metadata": {
        "id": "Jv0mubiMKj1S"
      },
      "source": [
        "클리닝 텍스트"
      ]
    },
    {
      "cell_type": "code",
      "metadata": {
        "id": "eul8spEbJwRp"
      },
      "source": [
        "# 학습 데이터 텍스트 전처리\n",
        "def preprocess(text, stem=False):\n",
        "    # Remove link,user and special characters\n",
        "    text = re.sub(TEXT_CLEANING_RE, ' ', str(text).lower()).strip()\n",
        "    tokens = []\n",
        "    for token in text.split():\n",
        "        if token not in stop_words:\n",
        "            if stem:\n",
        "                tokens.append(stemmer.stem(token))\n",
        "            else:\n",
        "                tokens.append(token)\n",
        "    return \" \".join(tokens)"
      ],
      "execution_count": 9,
      "outputs": []
    },
    {
      "cell_type": "code",
      "metadata": {
        "id": "lxw_Hyg_J2Kc"
      },
      "source": [
        "# 학습 데이터 전처리 진행\n",
        "dataset.text = dataset.text.apply(lambda x: preprocess(x)) "
      ],
      "execution_count": 10,
      "outputs": []
    },
    {
      "cell_type": "markdown",
      "metadata": {
        "id": "6FhltznMKn9Q"
      },
      "source": [
        "학습 데이터 나누기 "
      ]
    },
    {
      "cell_type": "code",
      "metadata": {
        "id": "K-HScoUAJ7hQ",
        "outputId": "d787661a-d3f5-4508-b827-927b7db4e8f4",
        "colab": {
          "base_uri": "https://localhost:8080/",
          "height": 52
        }
      },
      "source": [
        "train, test = train_test_split(dataset, test_size=1-TRAIN_SIZE, random_state=42)\n",
        "print(\"TRAIN size:\", len(train))\n",
        "print(\"TEST size:\", len(test))"
      ],
      "execution_count": 11,
      "outputs": [
        {
          "output_type": "stream",
          "text": [
            "TRAIN size: 1280000\n",
            "TEST size: 320000\n"
          ],
          "name": "stdout"
        }
      ]
    },
    {
      "cell_type": "code",
      "metadata": {
        "id": "zr8hmoorJ7kF"
      },
      "source": [
        "documents = [_text.split() for _text in train.text] #list, 1280000*50"
      ],
      "execution_count": 12,
      "outputs": []
    },
    {
      "cell_type": "code",
      "metadata": {
        "id": "CmX1V4QGJ7my"
      },
      "source": [
        "vocab_size = 400000\n",
        "tk = Tokenizer(num_words=vocab_size)\n",
        "tk.fit_on_texts(train.text) \n",
        "x_train = tk.texts_to_sequences(train.text)\n",
        "x_test = tk.texts_to_sequences(test.text)"
      ],
      "execution_count": 13,
      "outputs": []
    },
    {
      "cell_type": "code",
      "metadata": {
        "id": "U4IGVd2hJ7pq",
        "outputId": "269c1d56-1f7e-454d-a126-0637191639c2",
        "colab": {
          "base_uri": "https://localhost:8080/",
          "height": 35
        }
      },
      "source": [
        "labels = train.target.unique().tolist() # POSITIVE NEUTRAL NEGATIVE\n",
        "labels.append(NEUTRAL)\n",
        "print(labels)\n",
        "\n",
        "encoder = LabelEncoder() # 문장 -> 숫자 자동으로\n",
        "encoder.fit(train.target.tolist())\n",
        "\n",
        "y_train = encoder.transform(train.target.tolist())\n",
        "y_test = encoder.transform(test.target.tolist())\n",
        "\n",
        "y_train = y_train.reshape(-1,1) # 1열로 자동으로 만들어줍니다.\n",
        "y_test = y_test.reshape(-1,1)"
      ],
      "execution_count": 14,
      "outputs": [
        {
          "output_type": "stream",
          "text": [
            "['POSITIVE', 'NEGATIVE', 'NEUTRAL']\n"
          ],
          "name": "stdout"
        }
      ]
    },
    {
      "cell_type": "markdown",
      "metadata": {
        "id": "hSgucG1UKtym"
      },
      "source": [
        "# Build Model"
      ]
    },
    {
      "cell_type": "code",
      "metadata": {
        "id": "x541BqwCJ7s6"
      },
      "source": [
        "max_len=max(len(l) for l in x_train) # 한 문장에서 최대 단어 개수를 반환 # max_len=50"
      ],
      "execution_count": 15,
      "outputs": []
    },
    {
      "cell_type": "code",
      "metadata": {
        "id": "j2CsEtZjJ7wa",
        "outputId": "54722623-efce-4324-8ccb-796ce3879e0a",
        "colab": {
          "base_uri": "https://localhost:8080/",
          "height": 35
        }
      },
      "source": [
        "X_train = np.array(pad_sequences(x_train, maxlen=max_len, padding='post')) # max_len만큼 padding 값 설정 \n",
        "print(X_train.shape, y_train.shape)"
      ],
      "execution_count": 16,
      "outputs": [
        {
          "output_type": "stream",
          "text": [
            "(1280000, 50) (1280000, 1)\n"
          ],
          "name": "stdout"
        }
      ]
    },
    {
      "cell_type": "markdown",
      "metadata": {
        "id": "rp2e91pAK1hM"
      },
      "source": [
        "text-CNN 모델 로드"
      ]
    },
    {
      "cell_type": "code",
      "metadata": {
        "id": "CJrT8hmkKyD1"
      },
      "source": [
        "model = load_model(my_path+'text-CNN.h5')"
      ],
      "execution_count": 17,
      "outputs": []
    },
    {
      "cell_type": "code",
      "metadata": {
        "id": "DNDLM8R6Kx7-"
      },
      "source": [
        "def decode_sentiment(score, include_neutral=True):\n",
        "    if include_neutral:        \n",
        "        label = NEUTRAL\n",
        "        if score <= SENTIMENT_THRESHOLDS[0]:\n",
        "            label = NEGATIVE\n",
        "        elif score >= SENTIMENT_THRESHOLDS[1]:\n",
        "            label = POSITIVE\n",
        "\n",
        "        return label\n",
        "    else:\n",
        "        return NEGATIVE if score < 0.5 else POSITIVE"
      ],
      "execution_count": 18,
      "outputs": []
    },
    {
      "cell_type": "code",
      "metadata": {
        "id": "RIEqA7RIK5DV"
      },
      "source": [
        "def predict(ex_text, include_neutral=True):\n",
        "    start_at = time.time()\n",
        "    x_encoded = tk.texts_to_sequences([ex_text])\n",
        "    res_test = np.array(pad_sequences(x_encoded, maxlen=max_len, padding='post'))\n",
        "    # Predict\n",
        "    score = model.predict([res_test])\n",
        "    # Decode sentiment\n",
        "    label = decode_sentiment(score, include_neutral=include_neutral)\n",
        "    \n",
        "    return {\"label\": label, \"score\": float(score),\n",
        "       \"elapsed_time\": time.time()-start_at}"
      ],
      "execution_count": 19,
      "outputs": []
    },
    {
      "cell_type": "code",
      "metadata": {
        "id": "UORdWEJ2K6s8",
        "outputId": "dc52d8f7-fad3-456e-c043-c7111c524d5d",
        "colab": {
          "base_uri": "https://localhost:8080/",
          "height": 70
        }
      },
      "source": [
        "predict(\"That's so sad\")"
      ],
      "execution_count": 20,
      "outputs": [
        {
          "output_type": "execute_result",
          "data": {
            "text/plain": [
              "{'elapsed_time': 0.2158803939819336,\n",
              " 'label': 'NEGATIVE',\n",
              " 'score': 0.05291527509689331}"
            ]
          },
          "metadata": {
            "tags": []
          },
          "execution_count": 20
        }
      ]
    },
    {
      "cell_type": "markdown",
      "metadata": {
        "id": "ZI6I1UJsK7bU"
      },
      "source": [
        "# 트위터 데이터로 예측해보기"
      ]
    },
    {
      "cell_type": "markdown",
      "metadata": {
        "id": "gVaGegU00kn8"
      },
      "source": [
        "트위터 문장 감정 분석 - 전처리"
      ]
    },
    {
      "cell_type": "code",
      "metadata": {
        "id": "KrexAVQ9J2TS"
      },
      "source": [
        "# 트윗 문장 전처리\n",
        "class preproc_Sentence:\n",
        "    def __init__(self):\n",
        "        pass\n",
        "\n",
        "    def readTweets(request_id):\n",
        "        id = request_id\n",
        "        file_name = 'twitter_'\n",
        "        fileformat = '.txt'\n",
        "        filename = file_name + id + fileformat\n",
        "\n",
        "        data_path = '/gdrive/My Drive/Colab Notebooks/data/'\n",
        "\n",
        "        # 분석 요청된 유명인 트윗 파일 open\n",
        "        with open(data_path + filename, 'r', encoding = \"utf-8\") as f:\n",
        "            tweets = pd.read_csv(f, sep = \"\\n\", names = ['data'])\n",
        "        f.close()\n",
        "\n",
        "        return tweets\n",
        "\n",
        "    def preprocTweets(tweets):        \n",
        "        # URL 변환\n",
        "        tweets['data'] = tweets['data'].replace(to_replace = \"((www\\.[^\\s]+)|(https?://[^\\s]+))\", value = \"URL \", regex = True)\n",
        "        # 소문자 변환\n",
        "        tweets['preprocess'] = tweets['data'].str.lower()\n",
        "        # @ 변환\n",
        "        tweets['preprocess'] = tweets['preprocess'].replace(to_replace = \"'@[^\\s]+\", value = \"USERID\", regex = True)\n",
        "        # hashtag 변환\n",
        "        tweets['preprocess'] = tweets['preprocess'].replace(to_replace = \"#([^\\s]+)\", value = \"HASHTAG\", regex = True)\n",
        "        # 이메일 변환\n",
        "        tweets['preprocess'] = tweets['preprocess'].replace(to_replace = \"([a-zA-Z0-9_.+-]@[a-zA-Z0-9-]+\\.[a-zA-Z0-9-]+)\", value = \"EMAIL\", regex = True)\n",
        "       \n",
        "        # Emoji 변환\n",
        "        tweets_raw = tweets['preprocess']\n",
        "\n",
        "        for i in range(len(tweets_raw)):\n",
        "            tweets_raw[i] = emoji.demojize(tweets_raw[i], use_aliases = True)\n",
        "\n",
        "        tweets['preprocess'] = tweets_raw\n",
        "\n",
        "        return tweets"
      ],
      "execution_count": 21,
      "outputs": []
    },
    {
      "cell_type": "markdown",
      "metadata": {
        "id": "7RzRoKEk0qFW"
      },
      "source": [
        "트위터 단어 카운트 - 전처리"
      ]
    },
    {
      "cell_type": "code",
      "metadata": {
        "id": "X0c7sXbIzzTu"
      },
      "source": [
        "class preproc_Word:\n",
        "    def __init__(self):\n",
        "        pass\n",
        "\n",
        "    def readTweet(request_id):\n",
        "        id = request_id\n",
        "        file_name = 'twitter_'\n",
        "        fileformat = '.txt'\n",
        "        filename = file_name + id + fileformat\n",
        "\n",
        "        data_path = '/gdrive/My Drive/Colab Notebooks/data/'\n",
        "\n",
        "        # 분석 요청된 유명인 트윗 파일 open\n",
        "        with open(data_path + filename, 'r', encoding = \"utf-8\") as file:\n",
        "            tweet = file.read()\n",
        "       \n",
        "        return tweet\n",
        "\n",
        "    def preprocWordTweet(tweet):\n",
        "        # 소문자 변환\n",
        "        tweet = tweet.lower()\n",
        "        # 구두점 제거\n",
        "        tweet = re.sub(r'[^\\w\\s]', '', tweet)\n",
        "        # URL 제거\n",
        "        tweet = re.sub('((www\\.[^\\s]+)|(https?://[^\\s]+))', '', tweet)\n",
        "        # 숫자 제거\n",
        "        tweet = re.sub('\\s[0-9]+', '', tweet)\n",
        "        # 아이디 제거\n",
        "        tweet = re.sub('@[A-Za-z0-9]+', '', tweet)\n",
        "        # 이메일 제거\n",
        "        tweet = re.sub('([a-zA-Z0-9_.+-]@[a-zA-Z0-9-]+\\.[a-zA-Z0-9-]+)', '', tweet)\n",
        "\n",
        "        return tweet\n",
        "    \n",
        "    def tokenizeWord(tweet):\n",
        "        # stop_words 중복 -\n",
        "        stop_words = set(stopwords.words('english')) \n",
        "        word_tokens = word_tokenize(tweet)\n",
        " \n",
        "        res = []\n",
        "        for w in word_tokens: \n",
        "            if w not in stop_words: \n",
        "                res.append(w)\n",
        "        return res\n",
        "    \n",
        "    def stemmerWord(res):\n",
        "        # stemmer 중복-\n",
        "        stemmer = SnowballStemmer('english')\n",
        "        words = [stemmer.stem(w) for w in res]\n",
        "        return words"
      ],
      "execution_count": 22,
      "outputs": []
    },
    {
      "cell_type": "markdown",
      "metadata": {
        "id": "wJ3tRqnvLjhM"
      },
      "source": [
        "단어 카운트"
      ]
    },
    {
      "cell_type": "code",
      "metadata": {
        "id": "DpM2mqDbHyu_"
      },
      "source": [
        "class word_COUNT:\n",
        "    def __init__(self):\n",
        "        pass\n",
        "\n",
        "    def countWord(request_id):\n",
        "        tweet = preproc_Word.readTweet(request_id)\n",
        "        tweet = preproc_Word.preprocWordTweet(tweet)\n",
        "        res = preproc_Word.tokenizeWord(tweet)\n",
        "        words = preproc_Word.stemmerWord(res)\n",
        "        print('자주 사용하는 단어 TOP5')\n",
        "        print(Counter(words).most_common(n=5))\n",
        "        print()"
      ],
      "execution_count": 23,
      "outputs": []
    },
    {
      "cell_type": "markdown",
      "metadata": {
        "id": "UosCzeKdU2EB"
      },
      "source": [
        "트윗 감정 분석하기"
      ]
    },
    {
      "cell_type": "code",
      "metadata": {
        "id": "yUBbd8_GPAUE"
      },
      "source": [
        "class tweet_SentimentAnalyse :\n",
        "    def __init__(self):\n",
        "        pass\n",
        "\n",
        "    def sentimentAnalyse(request_id) :\n",
        "        tweets = preproc_Sentence.readTweets(request_id)\n",
        "        tweets_data = preproc_Sentence.preprocTweets(tweets)\n",
        "\n",
        "        # 결과 dataframe 생성\n",
        "        df_res = pd.DataFrame({'text':[], 'label':[], 'score':[], 'elapsed_time':[]})\n",
        "        for col,item in tweets_data.iterrows():\n",
        "            # predict class로 수정 필요\n",
        "            res = predict(item[1])\n",
        "            df_res.loc[col] = [item[0], res['label'], res['score'],res['elapsed_time'] ]\n",
        "        return df_res\n",
        "\n",
        "    def countTypes(df_res):\n",
        "        # 전체 수 계산\n",
        "        df_res['label'].value_counts()\n",
        "        # 타입별 비율 계산\n",
        "        print('트윗 문장 감정 비율')\n",
        "        print(df_res['label'].value_counts(normalize=True).mul(100).round(2).astype(str)+'%')\n",
        "        print()"
      ],
      "execution_count": 24,
      "outputs": []
    },
    {
      "cell_type": "markdown",
      "metadata": {
        "id": "253DJjDnJfBA"
      },
      "source": [
        "@AdinaPorter\n",
        "@aliciakeys\n",
        "@AnneMarie\n",
        "@BillGates\n",
        "@birdy\n",
        "@charlieputh\n",
        "@ChrisEvans\n",
        "@DanReynolds\n",
        "@DojaCat\n",
        "@DwyaneWade\n",
        "@elliegoulding\n",
        "@elonmusk\n",
        "@IGGYAZALEA\n",
        "@JaredDudley619\n",
        "@jason_mraz\n",
        "@jelani9\n",
        "@Kehlani\n",
        "@liamgallagher\n",
        "@LukasGraham\n",
        "@MariahCarey\n",
        "@marshmellomusic\n",
        "@NiallOfficial\n",
        "@ParisHilton\n",
        "@Pink\n",
        "@rihanna\n",
        "@RobertDowneyJr\n",
        "@robreiner\n",
        "@TheEllenShow\n",
        "@tim_cook\n",
        "@Zedd"
      ]
    },
    {
      "cell_type": "markdown",
      "metadata": {
        "id": "uB3uYd0X0twn"
      },
      "source": [
        "# MAIN 함수"
      ]
    },
    {
      "cell_type": "code",
      "metadata": {
        "id": "guLIsvViz9YH",
        "outputId": "1bed9c96-0289-4797-bdf3-34ac8075b097",
        "colab": {
          "base_uri": "https://localhost:8080/",
          "height": 195
        }
      },
      "source": [
        "if __name__ == \"__main__\":\n",
        "    # 분석 아이디\n",
        "    request_id = '@aliciakeys'\n",
        "    # 문장 전처리\n",
        "    preproc_Sentence()\n",
        "    # 트위터 감정 분석\n",
        "    df_res = tweet_SentimentAnalyse.sentimentAnalyse(request_id)\n",
        "    tweet_SentimentAnalyse.countTypes(df_res)\n",
        "    print()\n",
        "    # 단어 전처리\n",
        "    preproc_Word()\n",
        "    # 단어 카운트\n",
        "    word_COUNT.countWord(request_id)"
      ],
      "execution_count": 25,
      "outputs": [
        {
          "output_type": "stream",
          "text": [
            "트윗 문장 감정 비율\n",
            "POSITIVE    59.15%\n",
            "NEUTRAL     23.24%\n",
            "NEGATIVE    17.61%\n",
            "Name: label, dtype: object\n",
            "\n",
            "\n",
            "자주 사용하는 단어 TOP5\n",
            "[('love', 18), ('alicia', 15), ('album', 12), ('im', 11), ('yall', 9)]\n",
            "\n"
          ],
          "name": "stdout"
        }
      ]
    },
    {
      "cell_type": "code",
      "metadata": {
        "id": "YnvLMIHVYrlp",
        "outputId": "cd419a84-29df-4bb8-9317-8f5bee7d8d1d",
        "colab": {
          "base_uri": "https://localhost:8080/",
          "height": 607
        }
      },
      "source": [
        "data_table.DataTable(df_res)"
      ],
      "execution_count": 26,
      "outputs": [
        {
          "output_type": "execute_result",
          "data": {
            "application/vnd.google.colaboratory.module+javascript": "\n      import \"https://ssl.gstatic.com/colaboratory/data_table/a6224c040fa35dcf/data_table.js\";\n\n      window.createDataTable({\n        data: [[{\n            'v': 0,\n            'f': \"0\",\n        },\n\"Sending you some of that GOOD Sunday love!!!\",\n\"POSITIVE\",\n{\n            'v': 0.8906217813491821,\n            'f': \"0.8906217813491821\",\n        },\n{\n            'v': 0.03235578536987305,\n            'f': \"0.03235578536987305\",\n        }],\n [{\n            'v': 1,\n            'f': \"1\",\n        },\n\"Tell me 3 things you\\u2019re grateful for.... Me first: Breath. My magic. My crazy boys. \\ud83d\\udc9c\\ud83d\\udc9c\\ud83d\\udc9c\",\n\"POSITIVE\",\n{\n            'v': 0.8792443871498108,\n            'f': \"0.8792443871498108\",\n        },\n{\n            'v': 0.03611636161804199,\n            'f': \"0.03611636161804199\",\n        }],\n [{\n            'v': 2,\n            'f': \"2\",\n        },\n\"My brother @inglewoodSiR buggin\\u2019!!!!\",\n\"NEUTRAL\",\n{\n            'v': 0.523128867149353,\n            'f': \"0.523128867149353\",\n        },\n{\n            'v': 0.03174138069152832,\n            'f': \"0.03174138069152832\",\n        }],\n [{\n            'v': 3,\n            'f': \"3\",\n        },\n\"Ask and you shall receive, our special version of 3 Hour Drive is available to stream right now!! \\u2728\\u2728\\u2728\",\n\"NEUTRAL\",\n{\n            'v': 0.5115101933479309,\n            'f': \"0.5115101933479309\",\n        },\n{\n            'v': 0.03059983253479004,\n            'f': \"0.03059983253479004\",\n        }],\n [{\n            'v': 4,\n            'f': \"4\",\n        },\n\"I feel that #ALICIA love so deeply ya\\u2019ll.\",\n\"POSITIVE\",\n{\n            'v': 0.7515761852264404,\n            'f': \"0.7515761852264404\",\n        },\n{\n            'v': 0.031120777130126953,\n            'f': \"0.031120777130126953\",\n        }],\n [{\n            'v': 5,\n            'f': \"5\",\n        },\n\"Keep dreamin\\u2019 and streamin\\u2019 \\u2600\\u2600\\u2600 URL \",\n\"POSITIVE\",\n{\n            'v': 0.7906374335289001,\n            'f': \"0.7906374335289001\",\n        },\n{\n            'v': 0.030263900756835938,\n            'f': \"0.030263900756835938\",\n        }],\n [{\n            'v': 6,\n            'f': \"6\",\n        },\n\"Sister talk vibes \\ud83c\\udf1f\\ud83c\\udf1f\\ud83c\\udf1f\",\n\"NEGATIVE\",\n{\n            'v': 0.28826606273651123,\n            'f': \"0.28826606273651123\",\n        },\n{\n            'v': 0.03042316436767578,\n            'f': \"0.03042316436767578\",\n        }],\n [{\n            'v': 7,\n            'f': \"7\",\n        },\n\"New side of Alicia to introduce you to.\",\n\"POSITIVE\",\n{\n            'v': 0.8801190853118896,\n            'f': \"0.8801190853118896\",\n        },\n{\n            'v': 0.030481576919555664,\n            'f': \"0.030481576919555664\",\n        }],\n [{\n            'v': 8,\n            'f': \"8\",\n        },\n\"Nice to meet you.\",\n\"POSITIVE\",\n{\n            'v': 0.8783272504806519,\n            'f': \"0.8783272504806519\",\n        },\n{\n            'v': 0.03684496879577637,\n            'f': \"0.03684496879577637\",\n        }],\n [{\n            'v': 9,\n            'f': \"9\",\n        },\n\"I\\u2019m ready 4 tonight at the @BBMAs at 8pm ET \\ud83d\\udc8e\\ud83d\\udc8e\\ud83d\\udc8e\",\n\"POSITIVE\",\n{\n            'v': 0.8600454330444336,\n            'f': \"0.8600454330444336\",\n        },\n{\n            'v': 0.0359499454498291,\n            'f': \"0.0359499454498291\",\n        }],\n [{\n            'v': 10,\n            'f': \"10\",\n        },\n\"I\\u2019m about to have crepes.\",\n\"POSITIVE\",\n{\n            'v': 0.7829102277755737,\n            'f': \"0.7829102277755737\",\n        },\n{\n            'v': 0.03162240982055664,\n            'f': \"0.03162240982055664\",\n        }],\n [{\n            'v': 11,\n            'f': \"11\",\n        },\n\"Do ya\\u2019ll like sweet or salty?\",\n\"POSITIVE\",\n{\n            'v': 0.7027351260185242,\n            'f': \"0.7027351260185242\",\n        },\n{\n            'v': 0.031655311584472656,\n            'f': \"0.031655311584472656\",\n        }],\n [{\n            'v': 12,\n            'f': \"12\",\n        },\n\"WOW! This one hits different.\",\n\"NEUTRAL\",\n{\n            'v': 0.6695632934570312,\n            'f': \"0.6695632934570312\",\n        },\n{\n            'v': 0.030417442321777344,\n            'f': \"0.030417442321777344\",\n        }],\n [{\n            'v': 13,\n            'f': \"13\",\n        },\n\"Some of my favorite jewels and gems that you don\\u2019t get to hear as much from my 3rd album As I am.\",\n\"NEUTRAL\",\n{\n            'v': 0.6075865030288696,\n            'f': \"0.6075865030288696\",\n        },\n{\n            'v': 0.030070781707763672,\n            'f': \"0.030070781707763672\",\n        }],\n [{\n            'v': 14,\n            'f': \"14\",\n        },\n\"Vibe with me!!!!!!!! \\ud83d\\udc9c\\ud83d\\udc9c\\ud83d\\udc9c\",\n\"POSITIVE\",\n{\n            'v': 0.8964023590087891,\n            'f': \"0.8964023590087891\",\n        },\n{\n            'v': 0.030161142349243164,\n            'f': \"0.030161142349243164\",\n        }],\n [{\n            'v': 15,\n            'f': \"15\",\n        },\n\"All of this led me to the #ALICIA music!\",\n\"POSITIVE\",\n{\n            'v': 0.83182692527771,\n            'f': \"0.83182692527771\",\n        },\n{\n            'v': 0.0303494930267334,\n            'f': \"0.0303494930267334\",\n        }],\n [{\n            'v': 16,\n            'f': \"16\",\n        },\n\"If you know my mama...You DO NOT want her comin for you, so just listen!! \\ud83e\\udd23\\ud83e\\udd23\\ud83e\\udd23\",\n\"POSITIVE\",\n{\n            'v': 0.8452038168907166,\n            'f': \"0.8452038168907166\",\n        },\n{\n            'v': 0.030201196670532227,\n            'f': \"0.030201196670532227\",\n        }],\n [{\n            'v': 17,\n            'f': \"17\",\n        },\n\"love this mama!!\",\n\"POSITIVE\",\n{\n            'v': 0.8716044425964355,\n            'f': \"0.8716044425964355\",\n        },\n{\n            'v': 0.031928062438964844,\n            'f': \"0.031928062438964844\",\n        }],\n [{\n            'v': 18,\n            'f': \"18\",\n        },\n\"Thank you for keeping us str8!! \\ud83d\\udc9c\\ud83d\\udc9c\\ud83d\\udc9c\",\n\"POSITIVE\",\n{\n            'v': 0.933696985244751,\n            'f': \"0.933696985244751\",\n        },\n{\n            'v': 0.03248763084411621,\n            'f': \"0.03248763084411621\",\n        }],\n [{\n            'v': 19,\n            'f': \"19\",\n        },\n\"That @keyssoulcare glow \\ud83c\\udf1f\\ud83c\\udf1f\\ud83c\\udf1f\",\n\"POSITIVE\",\n{\n            'v': 0.7558172941207886,\n            'f': \"0.7558172941207886\",\n        },\n{\n            'v': 0.03292441368103027,\n            'f': \"0.03292441368103027\",\n        }],\n [{\n            'v': 20,\n            'f': \"20\",\n        },\n\"Excuse me, I\\u2019m speaking.\",\n\"POSITIVE\",\n{\n            'v': 0.8536245822906494,\n            'f': \"0.8536245822906494\",\n        },\n{\n            'v': 0.03315401077270508,\n            'f': \"0.03315401077270508\",\n        }],\n [{\n            'v': 21,\n            'f': \"21\",\n        },\n\"Ya\\u2019ll are brilliant!!!\",\n\"POSITIVE\",\n{\n            'v': 0.8659461736679077,\n            'f': \"0.8659461736679077\",\n        },\n{\n            'v': 0.03428506851196289,\n            'f': \"0.03428506851196289\",\n        }],\n [{\n            'v': 22,\n            'f': \"22\",\n        },\n\"I loved being with you today!!\",\n\"POSITIVE\",\n{\n            'v': 0.8354260921478271,\n            'f': \"0.8354260921478271\",\n        },\n{\n            'v': 0.03346371650695801,\n            'f': \"0.03346371650695801\",\n        }],\n [{\n            'v': 23,\n            'f': \"23\",\n        },\n\"Keep shining!!\",\n\"POSITIVE\",\n{\n            'v': 0.8321267366409302,\n            'f': \"0.8321267366409302\",\n        },\n{\n            'v': 0.03349137306213379,\n            'f': \"0.03349137306213379\",\n        }],\n [{\n            'v': 24,\n            'f': \"24\",\n        },\n\"We have everything we need inside of us!!!\",\n\"NEGATIVE\",\n{\n            'v': 0.2559059262275696,\n            'f': \"0.2559059262275696\",\n        },\n{\n            'v': 0.03211784362792969,\n            'f': \"0.03211784362792969\",\n        }],\n [{\n            'v': 25,\n            'f': \"25\",\n        },\n\"We are lost and lonely people\",\n\"NEGATIVE\",\n{\n            'v': 0.06508335471153259,\n            'f': \"0.06508335471153259\",\n        },\n{\n            'v': 0.032735586166381836,\n            'f': \"0.032735586166381836\",\n        }],\n [{\n            'v': 26,\n            'f': \"26\",\n        },\n\"And we\\u2019re looking for a reason and it\\u2019s alright \\ud83d\\udcab\",\n\"NEGATIVE\",\n{\n            'v': 0.2266685664653778,\n            'f': \"0.2266685664653778\",\n        },\n{\n            'v': 0.030847549438476562,\n            'f': \"0.030847549438476562\",\n        }],\n [{\n            'v': 27,\n            'f': \"27\",\n        },\n\"\\ud83d\\udca5\\ud83d\\udca5\\ud83d\\udca5\\ud83d\\udca5\\ud83d\\udca5\\ud83d\\udca5\\ud83d\\udca5\\ud83d\\udca5\\ud83d\\udca5\\ud83d\\udca5\\ud83d\\udca5\\ud83d\\udca5\\ud83d\\udca5\\ud83d\\udca5\\ud83d\\udca5\\ud83d\\udca5\\ud83d\\udca5\\ud83d\\udca5\\ud83d\\udca5\\ud83d\\udca5\\ud83d\\udca5\\ud83d\\udca5\\ud83d\\udca5\\ud83d\\udca5\",\n\"POSITIVE\",\n{\n            'v': 0.9116249084472656,\n            'f': \"0.9116249084472656\",\n        },\n{\n            'v': 0.030640840530395508,\n            'f': \"0.030640840530395508\",\n        }],\n [{\n            'v': 28,\n            'f': \"28\",\n        },\n\"+1 (917) 970-2001 \\ud83d\\ude02\\ud83d\\ude02\\ud83d\\ude02\\ud83d\\udc40\\ud83d\\udc40\\ud83d\\udc40\",\n\"NEUTRAL\",\n{\n            'v': 0.5759050250053406,\n            'f': \"0.5759050250053406\",\n        },\n{\n            'v': 0.030673742294311523,\n            'f': \"0.030673742294311523\",\n        }],\n [{\n            'v': 29,\n            'f': \"29\",\n        },\n\"\\ud83d\\udc9c\\ud83d\\udc9c\\ud83d\\udc9c\\ud83d\\udc51\\ud83d\\udc51\\ud83d\\udc51\",\n\"POSITIVE\",\n{\n            'v': 0.7788230776786804,\n            'f': \"0.7788230776786804\",\n        },\n{\n            'v': 0.03176593780517578,\n            'f': \"0.03176593780517578\",\n        }],\n [{\n            'v': 30,\n            'f': \"30\",\n        },\n\"\\ud83d\\udc9c\\ud83d\\udc9c\\ud83d\\udc9c\\ud83d\\udc4f\\ud83c\\udffd\\ud83d\\udc4f\\ud83c\\udffd\\ud83d\\udc4f\\ud83c\\udffd\",\n\"POSITIVE\",\n{\n            'v': 0.8245717287063599,\n            'f': \"0.8245717287063599\",\n        },\n{\n            'v': 0.0307466983795166,\n            'f': \"0.0307466983795166\",\n        }],\n [{\n            'v': 31,\n            'f': \"31\",\n        },\n\"Something for all of us to remember \\ud83d\\ude18\\ud83d\\ude18\\ud83d\\ude18\",\n\"POSITIVE\",\n{\n            'v': 0.8434963226318359,\n            'f': \"0.8434963226318359\",\n        },\n{\n            'v': 0.030637264251708984,\n            'f': \"0.030637264251708984\",\n        }],\n [{\n            'v': 32,\n            'f': \"32\",\n        },\n\"\\ud83c\\udfb6 3 hour drive hits different! \\ud83c\\udfb6\\u2063\",\n\"NEUTRAL\",\n{\n            'v': 0.42300090193748474,\n            'f': \"0.42300090193748474\",\n        },\n{\n            'v': 0.031177997589111328,\n            'f': \"0.031177997589111328\",\n        }],\n [{\n            'v': 33,\n            'f': \"33\",\n        },\n\"\\u2063The @SongExploder episode on 3 hour drive on @netflix is sooooooo gooood! Man!!\",\n\"NEUTRAL\",\n{\n            'v': 0.5619423389434814,\n            'f': \"0.5619423389434814\",\n        },\n{\n            'v': 0.030948162078857422,\n            'f': \"0.030948162078857422\",\n        }],\n [{\n            'v': 34,\n            'f': \"34\",\n        },\n\"One of the most beautiful depictions of creating a song!\",\n\"POSITIVE\",\n{\n            'v': 0.8736488819122314,\n            'f': \"0.8736488819122314\",\n        },\n{\n            'v': 0.03220939636230469,\n            'f': \"0.03220939636230469\",\n        }],\n [{\n            'v': 35,\n            'f': \"35\",\n        },\n\"It\\u2019s my song and I was about to cry \\ud83d\\ude2d\\ud83d\\ude2d\",\n\"NEGATIVE\",\n{\n            'v': 0.05584216117858887,\n            'f': \"0.05584216117858887\",\n        },\n{\n            'v': 0.03239321708679199,\n            'f': \"0.03239321708679199\",\n        }],\n [{\n            'v': 36,\n            'f': \"36\",\n        },\n\"\\u2063 Did u watch yet? #ALICIA\",\n\"POSITIVE\",\n{\n            'v': 0.7031644582748413,\n            'f': \"0.7031644582748413\",\n        },\n{\n            'v': 0.037279367446899414,\n            'f': \"0.037279367446899414\",\n        }],\n [{\n            'v': 37,\n            'f': \"37\",\n        },\n\"Come on y\\u2019all!! lil mama is crazy!! \\ud83d\\udc40\\ud83d\\udc40\\ud83d\\udc40 repost asap!!!\",\n\"POSITIVE\",\n{\n            'v': 0.7280714511871338,\n            'f': \"0.7280714511871338\",\n        },\n{\n            'v': 0.0330352783203125,\n            'f': \"0.0330352783203125\",\n        }],\n [{\n            'v': 38,\n            'f': \"38\",\n        },\n\"Let\\u2019s always express our joy!! #ALICIA #CivicJoy\",\n\"POSITIVE\",\n{\n            'v': 0.8562805652618408,\n            'f': \"0.8562805652618408\",\n        },\n{\n            'v': 0.03219342231750488,\n            'f': \"0.03219342231750488\",\n        }],\n [{\n            'v': 39,\n            'f': \"39\",\n        },\n\"Full video here: URL \",\n\"NEUTRAL\",\n{\n            'v': 0.553387463092804,\n            'f': \"0.553387463092804\",\n        },\n{\n            'v': 0.03260946273803711,\n            'f': \"0.03260946273803711\",\n        }],\n [{\n            'v': 40,\n            'f': \"40\",\n        },\n\"Our vibes are outrageous!!!!\",\n\"NEGATIVE\",\n{\n            'v': 0.3412257134914398,\n            'f': \"0.3412257134914398\",\n        },\n{\n            'v': 0.03289461135864258,\n            'f': \"0.03289461135864258\",\n        }],\n [{\n            'v': 41,\n            'f': \"41\",\n        },\n\"Your love is so powerful!!\",\n\"POSITIVE\",\n{\n            'v': 0.908111035823822,\n            'f': \"0.908111035823822\",\n        },\n{\n            'v': 0.03312993049621582,\n            'f': \"0.03312993049621582\",\n        }],\n [{\n            'v': 42,\n            'f': \"42\",\n        },\n\"What song should come next?!? \\ud83c\\udf89\\ud83c\\udf89\\ud83c\\udf89\",\n\"POSITIVE\",\n{\n            'v': 0.8593475818634033,\n            'f': \"0.8593475818634033\",\n        },\n{\n            'v': 0.033258914947509766,\n            'f': \"0.033258914947509766\",\n        }],\n [{\n            'v': 43,\n            'f': \"43\",\n        },\n\"\\ud83d\\udeb4\\ud83c\\udffd\\u200d\\ud83d\\udeb4\\ud83c\\udffd\\ud83d\\udeb4\\ud83c\\udffd\\ud83e\\uddd8\\ud83c\\udffd\\ud83e\\uddd8\\ud83c\\udffd\\ud83e\\uddd8\\ud83c\\udffd\\u200d\",\n\"NEUTRAL\",\n{\n            'v': 0.5048197507858276,\n            'f': \"0.5048197507858276\",\n        },\n{\n            'v': 0.0319521427154541,\n            'f': \"0.0319521427154541\",\n        }],\n [{\n            'v': 44,\n            'f': \"44\",\n        },\n\"Songwriting is so mysterious.\",\n\"POSITIVE\",\n{\n            'v': 0.8100013732910156,\n            'f': \"0.8100013732910156\",\n        },\n{\n            'v': 0.03177833557128906,\n            'f': \"0.03177833557128906\",\n        }],\n [{\n            'v': 45,\n            'f': \"45\",\n        },\n\"You really never know how it\\u2019s going to go.\",\n\"NEGATIVE\",\n{\n            'v': 0.3180474638938904,\n            'f': \"0.3180474638938904\",\n        },\n{\n            'v': 0.03243756294250488,\n            'f': \"0.03243756294250488\",\n        }],\n [{\n            'v': 46,\n            'f': \"46\",\n        },\n\"My favorite part about writing 3 hour drive with @sampha was the way our perspectives made this song so emotional.\",\n\"NEUTRAL\",\n{\n            'v': 0.6622726917266846,\n            'f': \"0.6622726917266846\",\n        },\n{\n            'v': 0.03337359428405762,\n            'f': \"0.03337359428405762\",\n        }],\n [{\n            'v': 47,\n            'f': \"47\",\n        },\n\"Check #SongExploder to see how it came to life \\ud83d\\udcab\\ud83d\\udcab\\ud83d\\udcab\",\n\"NEGATIVE\",\n{\n            'v': 0.23652192950248718,\n            'f': \"0.23652192950248718\",\n        },\n{\n            'v': 0.03227424621582031,\n            'f': \"0.03227424621582031\",\n        }],\n [{\n            'v': 48,\n            'f': \"48\",\n        },\n\"Vibe with us on @Netflix\",\n\"POSITIVE\",\n{\n            'v': 0.7800040245056152,\n            'f': \"0.7800040245056152\",\n        },\n{\n            'v': 0.03145718574523926,\n            'f': \"0.03145718574523926\",\n        }],\n [{\n            'v': 49,\n            'f': \"49\",\n        },\n\"30 minutes!!!\",\n\"NEGATIVE\",\n{\n            'v': 0.37998345494270325,\n            'f': \"0.37998345494270325\",\n        },\n{\n            'v': 0.032648563385009766,\n            'f': \"0.032648563385009766\",\n        }],\n [{\n            'v': 50,\n            'f': \"50\",\n        },\n\"My brother @Miguel and my sis @missjillscott will be joining me\\u2728\\u2728\\u2728\",\n\"POSITIVE\",\n{\n            'v': 0.7206712961196899,\n            'f': \"0.7206712961196899\",\n        },\n{\n            'v': 0.03284907341003418,\n            'f': \"0.03284907341003418\",\n        }],\n [{\n            'v': 51,\n            'f': \"51\",\n        },\n\"That debate gave me a headache.\",\n\"NEGATIVE\",\n{\n            'v': 0.1148175597190857,\n            'f': \"0.1148175597190857\",\n        },\n{\n            'v': 0.0325322151184082,\n            'f': \"0.0325322151184082\",\n        }],\n [{\n            'v': 52,\n            'f': \"52\",\n        },\n\"Going on IG live tmrw at 10:30am PT/1:30pm ET \\ud83d\\ude18\\ud83d\\ude18\\ud83d\\ude18\",\n\"POSITIVE\",\n{\n            'v': 0.7770972847938538,\n            'f': \"0.7770972847938538\",\n        },\n{\n            'v': 0.03271603584289551,\n            'f': \"0.03271603584289551\",\n        }],\n [{\n            'v': 53,\n            'f': \"53\",\n        },\n\"Having some special guests join me!\",\n\"POSITIVE\",\n{\n            'v': 0.8722491264343262,\n            'f': \"0.8722491264343262\",\n        },\n{\n            'v': 0.03174138069152832,\n            'f': \"0.03174138069152832\",\n        }],\n [{\n            'v': 54,\n            'f': \"54\",\n        },\n\"See y\\u2019all soon \\ud83d\\udc9c\\ud83d\\udc9c\\ud83d\\udc9c\",\n\"POSITIVE\",\n{\n            'v': 0.8759502172470093,\n            'f': \"0.8759502172470093\",\n        },\n{\n            'v': 0.03094959259033203,\n            'f': \"0.03094959259033203\",\n        }],\n [{\n            'v': 55,\n            'f': \"55\",\n        },\n\"I\\u2019m so grateful for the way you ride with me on the #ALICIA album and in every way!\",\n\"POSITIVE\",\n{\n            'v': 0.9206463098526001,\n            'f': \"0.9206463098526001\",\n        },\n{\n            'v': 0.03151249885559082,\n            'f': \"0.03151249885559082\",\n        }],\n [{\n            'v': 56,\n            'f': \"56\",\n        },\n\"Celebrating this moment with all my friends, family and YOU my FAM is so special to me \\ud83c\\udf89\\ud83c\\udf89\\ud83c\\udf89\",\n\"POSITIVE\",\n{\n            'v': 0.8608944416046143,\n            'f': \"0.8608944416046143\",\n        },\n{\n            'v': 0.03315901756286621,\n            'f': \"0.03315901756286621\",\n        }],\n [{\n            'v': 57,\n            'f': \"57\",\n        },\n\"Here\\u2019s to many more years of making magic and sharing it with each other!!\",\n\"POSITIVE\",\n{\n            'v': 0.789753794670105,\n            'f': \"0.789753794670105\",\n        },\n{\n            'v': 0.0324549674987793,\n            'f': \"0.0324549674987793\",\n        }],\n [{\n            'v': 58,\n            'f': \"58\",\n        },\n\"I love uuuu!!!!\\ud83d\\ude0d\\ud83d\\udca5\\ud83d\\udc51\",\n\"POSITIVE\",\n{\n            'v': 0.8538211584091187,\n            'f': \"0.8538211584091187\",\n        },\n{\n            'v': 0.03203630447387695,\n            'f': \"0.03203630447387695\",\n        }],\n [{\n            'v': 59,\n            'f': \"59\",\n        },\n\"Thank you for all this good love you\\u2019ve given me!\",\n\"POSITIVE\",\n{\n            'v': 0.9312912225723267,\n            'f': \"0.9312912225723267\",\n        },\n{\n            'v': 0.0318605899810791,\n            'f': \"0.0318605899810791\",\n        }],\n [{\n            'v': 60,\n            'f': \"60\",\n        },\n\"\\u2063*8th #1 on Billboard\\u2019s top R&amp;B album\\u2063\",\n\"POSITIVE\",\n{\n            'v': 0.80314040184021,\n            'f': \"0.80314040184021\",\n        },\n{\n            'v': 0.03167247772216797,\n            'f': \"0.03167247772216797\",\n        }],\n [{\n            'v': 61,\n            'f': \"61\",\n        },\n\"\\u2063*8th album in the top 5 on Billboard\\u2019s 200\\u2063\",\n\"POSITIVE\",\n{\n            'v': 0.7675739526748657,\n            'f': \"0.7675739526748657\",\n        },\n{\n            'v': 0.0320284366607666,\n            'f': \"0.0320284366607666\",\n        }],\n [{\n            'v': 62,\n            'f': \"62\",\n        },\n\"\\u2063*Biggest 1st week sales for a female R&B artist of 2020 \\u2063\",\n\"POSITIVE\",\n{\n            'v': 0.7633852362632751,\n            'f': \"0.7633852362632751\",\n        },\n{\n            'v': 0.03198075294494629,\n            'f': \"0.03198075294494629\",\n        }],\n [{\n            'v': 63,\n            'f': \"63\",\n        },\n\"\\u2063*2 gold singles on ALICIA \\u2063\",\n\"POSITIVE\",\n{\n            'v': 0.7321237325668335,\n            'f': \"0.7321237325668335\",\n        },\n{\n            'v': 0.039197683334350586,\n            'f': \"0.039197683334350586\",\n        }],\n [{\n            'v': 64,\n            'f': \"64\",\n        },\n\"\\u2063*Highest selling debut album of the week\",\n\"POSITIVE\",\n{\n            'v': 0.8255264759063721,\n            'f': \"0.8255264759063721\",\n        },\n{\n            'v': 0.03259730339050293,\n            'f': \"0.03259730339050293\",\n        }],\n [{\n            'v': 65,\n            'f': \"65\",\n        },\n\"YASS!!! to all of this sis \\ud83e\\udde1\",\n\"POSITIVE\",\n{\n            'v': 0.7549961805343628,\n            'f': \"0.7549961805343628\",\n        },\n{\n            'v': 0.031462907791137695,\n            'f': \"0.031462907791137695\",\n        }],\n [{\n            'v': 66,\n            'f': \"66\",\n        },\n\"Vibe with us at URL  live today!\",\n\"NEUTRAL\",\n{\n            'v': 0.6689717769622803,\n            'f': \"0.6689717769622803\",\n        },\n{\n            'v': 0.03202962875366211,\n            'f': \"0.03202962875366211\",\n        }],\n [{\n            'v': 67,\n            'f': \"67\",\n        },\n\"One week left \\ud83d\\udc47\\ud83c\\udffd\\ud83d\\udc47\\ud83c\\udffd\\ud83d\\udc47\\ud83c\\udffd\",\n\"NEGATIVE\",\n{\n            'v': 0.35557112097740173,\n            'f': \"0.35557112097740173\",\n        },\n{\n            'v': 0.031028032302856445,\n            'f': \"0.031028032302856445\",\n        }],\n [{\n            'v': 68,\n            'f': \"68\",\n        },\n\"Big love to @BritishGQ for this very insightful and powerful story about #ALICIA the album and my journey to get here\",\n\"POSITIVE\",\n{\n            'v': 0.8694996237754822,\n            'f': \"0.8694996237754822\",\n        },\n{\n            'v': 0.031219482421875,\n            'f': \"0.031219482421875\",\n        }],\n [{\n            'v': 69,\n            'f': \"69\",\n        },\n\"Let\\u2019s keep breaking the expectation and never stop fighting!! \\ud83d\\udc51\\ud83d\\udc51\\ud83d\\udc51\",\n\"NEGATIVE\",\n{\n            'v': 0.20263412594795227,\n            'f': \"0.20263412594795227\",\n        },\n{\n            'v': 0.031145811080932617,\n            'f': \"0.031145811080932617\",\n        }],\n [{\n            'v': 70,\n            'f': \"70\",\n        },\n\"Loved this performance of So Done!\",\n\"POSITIVE\",\n{\n            'v': 0.8377484083175659,\n            'f': \"0.8377484083175659\",\n        },\n{\n            'v': 0.031244993209838867,\n            'f': \"0.031244993209838867\",\n        }],\n [{\n            'v': 71,\n            'f': \"71\",\n        },\n\"The shadows, the colors the Viiibbbbeeezzzzz!!!!!\",\n\"NEUTRAL\",\n{\n            'v': 0.6655318737030029,\n            'f': \"0.6655318737030029\",\n        },\n{\n            'v': 0.03131985664367676,\n            'f': \"0.03131985664367676\",\n        }],\n [{\n            'v': 72,\n            'f': \"72\",\n        },\n\"Thank you for loving it too!! \\ud83d\\ude0d\\ud83d\\ude0d\\ud83d\\ude0d\",\n\"POSITIVE\",\n{\n            'v': 0.8701748847961426,\n            'f': \"0.8701748847961426\",\n        },\n{\n            'v': 0.03521108627319336,\n            'f': \"0.03521108627319336\",\n        }],\n [{\n            'v': 73,\n            'f': \"73\",\n        },\n\"Tune in tonight if you missed it on @TheCW at 8/7C \\u2728\\u2728\\u2728 #iHeartOnCW\",\n\"NEUTRAL\",\n{\n            'v': 0.4828973412513733,\n            'f': \"0.4828973412513733\",\n        },\n{\n            'v': 0.03521251678466797,\n            'f': \"0.03521251678466797\",\n        }],\n [{\n            'v': 74,\n            'f': \"74\",\n        },\n\"All Black Errrythang \\ud83d\\udda4\\ud83d\\udda4\\ud83d\\udda4\",\n\"NEGATIVE\",\n{\n            'v': 0.27477091550827026,\n            'f': \"0.27477091550827026\",\n        },\n{\n            'v': 0.03265190124511719,\n            'f': \"0.03265190124511719\",\n        }],\n [{\n            'v': 75,\n            'f': \"75\",\n        },\n\"I\\u2019m hungry.\",\n\"NEGATIVE\",\n{\n            'v': 0.17609867453575134,\n            'f': \"0.17609867453575134\",\n        },\n{\n            'v': 0.032683610916137695,\n            'f': \"0.032683610916137695\",\n        }],\n [{\n            'v': 76,\n            'f': \"76\",\n        },\n\"About to have bubble eggs on a bed of spinach and vegan gouda cheese.\",\n\"POSITIVE\",\n{\n            'v': 0.834171712398529,\n            'f': \"0.834171712398529\",\n        },\n{\n            'v': 0.032486915588378906,\n            'f': \"0.032486915588378906\",\n        }],\n [{\n            'v': 77,\n            'f': \"77\",\n        },\n\"Don\\u2019t hate congratulate \\ud83d\\ude02\\ud83d\\ude02\\ud83d\\ude02\\ud83c\\udf73\\ud83c\\udf73\\ud83c\\udf73\",\n\"NEUTRAL\",\n{\n            'v': 0.4348144233226776,\n            'f': \"0.4348144233226776\",\n        },\n{\n            'v': 0.03146481513977051,\n            'f': \"0.03146481513977051\",\n        }],\n [{\n            'v': 78,\n            'f': \"78\",\n        },\n\"Hey beautiful you!\",\n\"POSITIVE\",\n{\n            'v': 0.9097756743431091,\n            'f': \"0.9097756743431091\",\n        },\n{\n            'v': 0.031346797943115234,\n            'f': \"0.031346797943115234\",\n        }],\n [{\n            'v': 79,\n            'f': \"79\",\n        },\n\"If you need a reminder that you are a masterpiece\",\n\"NEUTRAL\",\n{\n            'v': 0.4268452227115631,\n            'f': \"0.4268452227115631\",\n        },\n{\n            'v': 0.030794858932495117,\n            'f': \"0.030794858932495117\",\n        }],\n [{\n            'v': 80,\n            'f': \"80\",\n        },\n\"That you are incredibly special\",\n\"POSITIVE\",\n{\n            'v': 0.8432481288909912,\n            'f': \"0.8432481288909912\",\n        },\n{\n            'v': 0.030324697494506836,\n            'f': \"0.030324697494506836\",\n        }],\n [{\n            'v': 81,\n            'f': \"81\",\n        },\n\"And so uniquely brilliant\",\n\"POSITIVE\",\n{\n            'v': 0.8641661405563354,\n            'f': \"0.8641661405563354\",\n        },\n{\n            'v': 0.03056049346923828,\n            'f': \"0.03056049346923828\",\n        }],\n [{\n            'v': 82,\n            'f': \"82\",\n        },\n\"Meet me at @keyssoulcare\",\n\"POSITIVE\",\n{\n            'v': 0.73781418800354,\n            'f': \"0.73781418800354\",\n        },\n{\n            'v': 0.031071901321411133,\n            'f': \"0.031071901321411133\",\n        }],\n [{\n            'v': 83,\n            'f': \"83\",\n        },\n\"BIG love to one of my most important musical collaborators & my right hand @AnntasticLV \\ud83d\\udc9c\",\n\"POSITIVE\",\n{\n            'v': 0.8754414916038513,\n            'f': \"0.8754414916038513\",\n        },\n{\n            'v': 0.030886411666870117,\n            'f': \"0.030886411666870117\",\n        }],\n [{\n            'v': 84,\n            'f': \"84\",\n        },\n\"She has been on this musical journey w/ me for a min!\",\n\"NEUTRAL\",\n{\n            'v': 0.6169321537017822,\n            'f': \"0.6169321537017822\",\n        },\n{\n            'v': 0.030707359313964844,\n            'f': \"0.030707359313964844\",\n        }],\n [{\n            'v': 85,\n            'f': \"85\",\n        },\n\"The magic we\\u2019ve made with the #ALICIA album and music over the years is so special.\",\n\"POSITIVE\",\n{\n            'v': 0.8899886012077332,\n            'f': \"0.8899886012077332\",\n        },\n{\n            'v': 0.031562089920043945,\n            'f': \"0.031562089920043945\",\n        }],\n [{\n            'v': 86,\n            'f': \"86\",\n        },\n\"Check us out on @tidal\\u2019s Credit Due.\",\n\"NEUTRAL\",\n{\n            'v': 0.5301041007041931,\n            'f': \"0.5301041007041931\",\n        },\n{\n            'v': 0.03125762939453125,\n            'f': \"0.03125762939453125\",\n        }],\n [{\n            'v': 87,\n            'f': \"87\",\n        },\n\"We go deep!\\ud83d\\udca5\",\n\"POSITIVE\",\n{\n            'v': 0.8512377142906189,\n            'f': \"0.8512377142906189\",\n        },\n{\n            'v': 0.030420541763305664,\n            'f': \"0.030420541763305664\",\n        }],\n [{\n            'v': 88,\n            'f': \"88\",\n        },\n\"\\ud83d\\ude02\\ud83d\\ude02\\ud83d\\ude02\\ud83c\\udfa4\\ud83c\\udfa4\\ud83c\\udfa4\",\n\"NEUTRAL\",\n{\n            'v': 0.6731287240982056,\n            'f': \"0.6731287240982056\",\n        },\n{\n            'v': 0.03082561492919922,\n            'f': \"0.03082561492919922\",\n        }],\n [{\n            'v': 89,\n            'f': \"89\",\n        },\n\"I don\\u2019t go anywhere without my crystal bra \\ud83e\\udd23\\ud83e\\udd23\\ud83e\\udd23\",\n\"POSITIVE\",\n{\n            'v': 0.8213721513748169,\n            'f': \"0.8213721513748169\",\n        },\n{\n            'v': 0.031280517578125,\n            'f': \"0.031280517578125\",\n        }],\n [{\n            'v': 90,\n            'f': \"90\",\n        },\n\"Kudos to you if you can tell me where else you\\u2019ve seen it \\u2728\\u2728\\u2728\",\n\"NEUTRAL\",\n{\n            'v': 0.6880826354026794,\n            'f': \"0.6880826354026794\",\n        },\n{\n            'v': 0.031838178634643555,\n            'f': \"0.031838178634643555\",\n        }],\n [{\n            'v': 91,\n            'f': \"91\",\n        },\n\"How many of you experience this with your babies!? \\ud83d\\ude0d\\ud83d\\ude0d\",\n\"NEUTRAL\",\n{\n            'v': 0.5712571740150452,\n            'f': \"0.5712571740150452\",\n        },\n{\n            'v': 0.037851572036743164,\n            'f': \"0.037851572036743164\",\n        }],\n [{\n            'v': 92,\n            'f': \"92\",\n        },\n\"Genesis wants me to know that my love looks better on HIM!\",\n\"NEUTRAL\",\n{\n            'v': 0.6595155000686646,\n            'f': \"0.6595155000686646\",\n        },\n{\n            'v': 0.032492637634277344,\n            'f': \"0.032492637634277344\",\n        }],\n [{\n            'v': 93,\n            'f': \"93\",\n        },\n\"Here\\u2019s our reminder to press pause and make sure you\\u2019re not getting lost in the chaos!\\u2063 URL \",\n\"NEUTRAL\",\n{\n            'v': 0.4116182327270508,\n            'f': \"0.4116182327270508\",\n        },\n{\n            'v': 0.03212714195251465,\n            'f': \"0.03212714195251465\",\n        }],\n [{\n            'v': 94,\n            'f': \"94\",\n        },\n\"\\u2063#ALICIA Album out now\\ud83d\\udcab\",\n\"NEGATIVE\",\n{\n            'v': 0.22373837232589722,\n            'f': \"0.22373837232589722\",\n        },\n{\n            'v': 0.03184914588928223,\n            'f': \"0.03184914588928223\",\n        }],\n [{\n            'v': 95,\n            'f': \"95\",\n        },\n\"Shared some behind the scenes footage from the #LoveLooksBetter shoot.\",\n\"POSITIVE\",\n{\n            'v': 0.7330789566040039,\n            'f': \"0.7330789566040039\",\n        },\n{\n            'v': 0.0316462516784668,\n            'f': \"0.0316462516784668\",\n        }],\n [{\n            'v': 96,\n            'f': \"96\",\n        },\n\"Head to my Facebook to watch.\",\n\"NEUTRAL\",\n{\n            'v': 0.5599828362464905,\n            'f': \"0.5599828362464905\",\n        },\n{\n            'v': 0.030417442321777344,\n            'f': \"0.030417442321777344\",\n        }],\n [{\n            'v': 97,\n            'f': \"97\",\n        },\n\"I\\u2019m jumping on now and ready to chat in the comments \\u2728 URL \",\n\"POSITIVE\",\n{\n            'v': 0.8009827136993408,\n            'f': \"0.8009827136993408\",\n        },\n{\n            'v': 0.029841184616088867,\n            'f': \"0.029841184616088867\",\n        }],\n [{\n            'v': 98,\n            'f': \"98\",\n        },\n\"My love looks better on you \\ud83d\\udc9c\\ud83d\\udc9c\\ud83d\\udc9c\",\n\"POSITIVE\",\n{\n            'v': 0.8844084739685059,\n            'f': \"0.8844084739685059\",\n        },\n{\n            'v': 0.031229496002197266,\n            'f': \"0.031229496002197266\",\n        }],\n [{\n            'v': 99,\n            'f': \"99\",\n        },\n\"Sending love to all the collaborators and musical minds that joined me to make this beautiful work that I\\u2019m so proud of!\",\n\"POSITIVE\",\n{\n            'v': 0.9174864292144775,\n            'f': \"0.9174864292144775\",\n        },\n{\n            'v': 0.030989408493041992,\n            'f': \"0.030989408493041992\",\n        }],\n [{\n            'v': 100,\n            'f': \"100\",\n        },\n\"I adore u!! \\ud83d\\udc9c\\ud83d\\udc9c\\ud83d\\udc9c\\u2728\\u2728\\u2728\\ud83c\\udf89\\ud83c\\udf89\\ud83c\\udf89 URL \",\n\"POSITIVE\",\n{\n            'v': 0.8673118352890015,\n            'f': \"0.8673118352890015\",\n        },\n{\n            'v': 0.03239703178405762,\n            'f': \"0.03239703178405762\",\n        }],\n [{\n            'v': 101,\n            'f': \"101\",\n        },\n\"Had my sis @BebeRexha join me last night for a special performance of #GramercyPark from my new album ALICIA.\",\n\"POSITIVE\",\n{\n            'v': 0.8768013715744019,\n            'f': \"0.8768013715744019\",\n        },\n{\n            'v': 0.03267955780029297,\n            'f': \"0.03267955780029297\",\n        }],\n [{\n            'v': 102,\n            'f': \"102\",\n        },\n\"Magic \\u2728\\u2728\\u2728\",\n\"NEUTRAL\",\n{\n            'v': 0.6694833040237427,\n            'f': \"0.6694833040237427\",\n        },\n{\n            'v': 0.03128671646118164,\n            'f': \"0.03128671646118164\",\n        }],\n [{\n            'v': 103,\n            'f': \"103\",\n        },\n\"Hold on tight to you! \\ud83d\\udc9c\\ud83d\\udc9c\\ud83d\\udc9c\\u2063\",\n\"POSITIVE\",\n{\n            'v': 0.8767982721328735,\n            'f': \"0.8767982721328735\",\n        },\n{\n            'v': 0.03156304359436035,\n            'f': \"0.03156304359436035\",\n        }],\n [{\n            'v': 104,\n            'f': \"104\",\n        },\n\"Sending love and ultimate light!\",\n\"POSITIVE\",\n{\n            'v': 0.8790791630744934,\n            'f': \"0.8790791630744934\",\n        },\n{\n            'v': 0.0322878360748291,\n            'f': \"0.0322878360748291\",\n        }],\n [{\n            'v': 105,\n            'f': \"105\",\n        },\n\"Plan your vote. Everything you need!! SUPER easy... \\ud83d\\uddf3\\ud83d\\uddf3\\ud83d\\uddf3\",\n\"NEUTRAL\",\n{\n            'v': 0.6094290018081665,\n            'f': \"0.6094290018081665\",\n        },\n{\n            'v': 0.03293037414550781,\n            'f': \"0.03293037414550781\",\n        }],\n [{\n            'v': 106,\n            'f': \"106\",\n        },\n\"My love looks better on you!!\",\n\"POSITIVE\",\n{\n            'v': 0.8401354551315308,\n            'f': \"0.8401354551315308\",\n        },\n{\n            'v': 0.03151273727416992,\n            'f': \"0.03151273727416992\",\n        }],\n [{\n            'v': 107,\n            'f': \"107\",\n        },\n\"Bringing you some good energy!\",\n\"POSITIVE\",\n{\n            'v': 0.8297587037086487,\n            'f': \"0.8297587037086487\",\n        },\n{\n            'v': 0.03268718719482422,\n            'f': \"0.03268718719482422\",\n        }],\n [{\n            'v': 108,\n            'f': \"108\",\n        },\n\"Watch the full video. #ALICIA Album out now \\u2728\\u2728\\u2728 URL \",\n\"POSITIVE\",\n{\n            'v': 0.7596638202667236,\n            'f': \"0.7596638202667236\",\n        },\n{\n            'v': 0.03143310546875,\n            'f': \"0.03143310546875\",\n        }],\n [{\n            'v': 109,\n            'f': \"109\",\n        },\n\"This is is a PRIME example of Rotten to the CORE!!! UnJust!!!! Disrespectful and BLATANT DISREGARD!!!! Infuriated!!!!!!\",\n\"NEGATIVE\",\n{\n            'v': 0.3120078444480896,\n            'f': \"0.3120078444480896\",\n        },\n{\n            'v': 0.03183174133300781,\n            'f': \"0.03183174133300781\",\n        }],\n [{\n            'v': 110,\n            'f': \"110\",\n        },\n\"I'm on now watching the new #LoveLooksBetter video on my Facebook page!!\",\n\"POSITIVE\",\n{\n            'v': 0.9039621353149414,\n            'f': \"0.9039621353149414\",\n        },\n{\n            'v': 0.03179454803466797,\n            'f': \"0.03179454803466797\",\n        }],\n [{\n            'v': 111,\n            'f': \"111\",\n        },\n\"What do ya'll think??\",\n\"NEUTRAL\",\n{\n            'v': 0.5703005194664001,\n            'f': \"0.5703005194664001\",\n        },\n{\n            'v': 0.03171420097351074,\n            'f': \"0.03171420097351074\",\n        }],\n [{\n            'v': 112,\n            'f': \"112\",\n        },\n\"I'm gonna hop on live after.\",\n\"POSITIVE\",\n{\n            'v': 0.8141810894012451,\n            'f': \"0.8141810894012451\",\n        },\n{\n            'v': 0.03102898597717285,\n            'f': \"0.03102898597717285\",\n        }],\n [{\n            'v': 113,\n            'f': \"113\",\n        },\n\"30 minutes!!!!\",\n\"NEGATIVE\",\n{\n            'v': 0.37998345494270325,\n            'f': \"0.37998345494270325\",\n        },\n{\n            'v': 0.03152275085449219,\n            'f': \"0.03152275085449219\",\n        }],\n [{\n            'v': 114,\n            'f': \"114\",\n        },\n\"I\\u2019m premiering the  #LoveLooksBetter music video TODAY at 12 ET on my Facebook page \\ud83d\\udcab\\ud83d\\udcab\\ud83d\\udcab\",\n\"NEGATIVE\",\n{\n            'v': 0.22919052839279175,\n            'f': \"0.22919052839279175\",\n        },\n{\n            'v': 0.031050443649291992,\n            'f': \"0.031050443649291992\",\n        }],\n [{\n            'v': 115,\n            'f': \"115\",\n        },\n\"About last night.... @thegreatkhalid and I on the @latelateshow \\u26a1\\ufe0f\\u26a1\\ufe0f\\u26a1\\ufe0f\",\n\"NEGATIVE\",\n{\n            'v': 0.23064376413822174,\n            'f': \"0.23064376413822174\",\n        },\n{\n            'v': 0.03199625015258789,\n            'f': \"0.03199625015258789\",\n        }],\n [{\n            'v': 116,\n            'f': \"116\",\n        },\n\"Performing #SoDone off the #ALICIA album \\ud83d\\udc9c\\ud83d\\udc9c\\ud83d\\udc9c\",\n\"POSITIVE\",\n{\n            'v': 0.8912818431854248,\n            'f': \"0.8912818431854248\",\n        },\n{\n            'v': 0.03156089782714844,\n            'f': \"0.03156089782714844\",\n        }],\n [{\n            'v': 117,\n            'f': \"117\",\n        },\n\"\\ud83d\\ude02\\ud83d\\ude02\\ud83d\\ude02\\ud83d\\ude02\",\n\"NEUTRAL\",\n{\n            'v': 0.6291716694831848,\n            'f': \"0.6291716694831848\",\n        },\n{\n            'v': 0.031051158905029297,\n            'f': \"0.031051158905029297\",\n        }],\n [{\n            'v': 118,\n            'f': \"118\",\n        },\n\"I see ya\\u2019ll asking for more!! \\ud83e\\udd29\\ud83e\\udd29\\ud83e\\udd29\",\n\"NEUTRAL\",\n{\n            'v': 0.5320531725883484,\n            'f': \"0.5320531725883484\",\n        },\n{\n            'v': 0.03225517272949219,\n            'f': \"0.03225517272949219\",\n        }],\n [{\n            'v': 119,\n            'f': \"119\",\n        },\n\"Tomorrow at 12 ET I\\u2019m premiering the Love Looks Better music video on my Facebook page.\",\n\"POSITIVE\",\n{\n            'v': 0.8251339197158813,\n            'f': \"0.8251339197158813\",\n        },\n{\n            'v': 0.03722953796386719,\n            'f': \"0.03722953796386719\",\n        }],\n [{\n            'v': 120,\n            'f': \"120\",\n        },\n\"What video from the #ALICIA album should be next??\",\n\"POSITIVE\",\n{\n            'v': 0.8382147550582886,\n            'f': \"0.8382147550582886\",\n        },\n{\n            'v': 0.0318303108215332,\n            'f': \"0.0318303108215332\",\n        }],\n [{\n            'v': 121,\n            'f': \"121\",\n        },\n\"Y\\u2019all are gonna love this \\ud83d\\udc9c\\ud83d\\udc9c\\ud83d\\udc9c\",\n\"POSITIVE\",\n{\n            'v': 0.920351505279541,\n            'f': \"0.920351505279541\",\n        },\n{\n            'v': 0.03253650665283203,\n            'f': \"0.03253650665283203\",\n        }],\n [{\n            'v': 122,\n            'f': \"122\",\n        },\n\"About my fit last night on @latelateshow \\u26a1\\ufe0f\\u26a1\\ufe0f\\u26a1\\ufe0f URL \",\n\"NEGATIVE\",\n{\n            'v': 0.2182036191225052,\n            'f': \"0.2182036191225052\",\n        },\n{\n            'v': 0.031820058822631836,\n            'f': \"0.031820058822631836\",\n        }],\n [{\n            'v': 123,\n            'f': \"123\",\n        },\n\"\\ud83d\\udc47\\ud83c\\udffd\\ud83d\\udc47\\ud83c\\udffd\\ud83d\\udc47\\ud83c\\udffd\\ud83d\\udc47\\ud83c\\udffd\\ud83d\\udc47\\ud83c\\udffd\",\n\"NEGATIVE\",\n{\n            'v': 0.3665066659450531,\n            'f': \"0.3665066659450531\",\n        },\n{\n            'v': 0.03780412673950195,\n            'f': \"0.03780412673950195\",\n        }],\n [{\n            'v': 124,\n            'f': \"124\",\n        },\n\"My brother @inglewoodSiR and I went in on this version of 3 Hour Drive \\ud83d\\udcab\\ud83d\\udc9c\\ud83d\\udcab on @colorsxstudios\",\n\"NEGATIVE\",\n{\n            'v': 0.1596459448337555,\n            'f': \"0.1596459448337555\",\n        },\n{\n            'v': 0.0319368839263916,\n            'f': \"0.0319368839263916\",\n        }],\n [{\n            'v': 125,\n            'f': \"125\",\n        },\n\"#ALICIA Album out now!!\\ud83e\\udd42\\ud83e\\udd42\\ud83e\\udd42 URL \",\n\"NEUTRAL\",\n{\n            'v': 0.5314138531684875,\n            'f': \"0.5314138531684875\",\n        },\n{\n            'v': 0.03205227851867676,\n            'f': \"0.03205227851867676\",\n        }],\n [{\n            'v': 126,\n            'f': \"126\",\n        },\n\"I\\u2019ve been dying to share something really special with you.\",\n\"NEUTRAL\",\n{\n            'v': 0.608871579170227,\n            'f': \"0.608871579170227\",\n        },\n{\n            'v': 0.03175926208496094,\n            'f': \"0.03175926208496094\",\n        }],\n [{\n            'v': 127,\n            'f': \"127\",\n        },\n\"A place where we can have real conversations about who we are and who we want to be.\",\n\"NEUTRAL\",\n{\n            'v': 0.5924711227416992,\n            'f': \"0.5924711227416992\",\n        },\n{\n            'v': 0.03322768211364746,\n            'f': \"0.03322768211364746\",\n        }],\n [{\n            'v': 128,\n            'f': \"128\",\n        },\n\"It\\u2019s called @keyssoulcare\",\n\"NEGATIVE\",\n{\n            'v': 0.27621084451675415,\n            'f': \"0.27621084451675415\",\n        },\n{\n            'v': 0.03478717803955078,\n            'f': \"0.03478717803955078\",\n        }],\n [{\n            'v': 129,\n            'f': \"129\",\n        },\n\"\\u2063Keys open doors.\",\n\"NEUTRAL\",\n{\n            'v': 0.5500137209892273,\n            'f': \"0.5500137209892273\",\n        },\n{\n            'v': 0.03287339210510254,\n            'f': \"0.03287339210510254\",\n        }],\n [{\n            'v': 130,\n            'f': \"130\",\n        },\n\"Let\\u2019s open this beautiful door.\",\n\"POSITIVE\",\n{\n            'v': 0.8172919750213623,\n            'f': \"0.8172919750213623\",\n        },\n{\n            'v': 0.03320026397705078,\n            'f': \"0.03320026397705078\",\n        }],\n [{\n            'v': 131,\n            'f': \"131\",\n        },\n\"Join me at @KeysSoulcare and URL \",\n\"POSITIVE\",\n{\n            'v': 0.8302758932113647,\n            'f': \"0.8302758932113647\",\n        },\n{\n            'v': 0.03319120407104492,\n            'f': \"0.03319120407104492\",\n        }],\n [{\n            'v': 132,\n            'f': \"132\",\n        },\n\"I\\u2019ve been thinking about soulcare.\",\n\"NEUTRAL\",\n{\n            'v': 0.5383793115615845,\n            'f': \"0.5383793115615845\",\n        },\n{\n            'v': 0.03366398811340332,\n            'f': \"0.03366398811340332\",\n        }],\n [{\n            'v': 133,\n            'f': \"133\",\n        },\n\"About what it means to take care of YOU!\",\n\"POSITIVE\",\n{\n            'v': 0.7117593288421631,\n            'f': \"0.7117593288421631\",\n        },\n{\n            'v': 0.0326695442199707,\n            'f': \"0.0326695442199707\",\n        }],\n [{\n            'v': 134,\n            'f': \"134\",\n        },\n\"Guilt free!\",\n\"POSITIVE\",\n{\n            'v': 0.7616288065910339,\n            'f': \"0.7616288065910339\",\n        },\n{\n            'v': 0.03303408622741699,\n            'f': \"0.03303408622741699\",\n        }],\n [{\n            'v': 135,\n            'f': \"135\",\n        },\n\"To embrace our inner power and know that we are enough.\",\n\"POSITIVE\",\n{\n            'v': 0.7823633551597595,\n            'f': \"0.7823633551597595\",\n        },\n{\n            'v': 0.0326845645904541,\n            'f': \"0.0326845645904541\",\n        }],\n [{\n            'v': 136,\n            'f': \"136\",\n        },\n\"About what it takes to become more ourselves \\u2014 body, mind and spirit \\u2014 every day.\",\n\"POSITIVE\",\n{\n            'v': 0.8466569185256958,\n            'f': \"0.8466569185256958\",\n        },\n{\n            'v': 0.032520294189453125,\n            'f': \"0.032520294189453125\",\n        }],\n [{\n            'v': 137,\n            'f': \"137\",\n        },\n\"What does soulcare mean to you?\",\n\"NEGATIVE\",\n{\n            'v': 0.25206637382507324,\n            'f': \"0.25206637382507324\",\n        },\n{\n            'v': 0.03279852867126465,\n            'f': \"0.03279852867126465\",\n        }],\n [{\n            'v': 138,\n            'f': \"138\",\n        },\n\"\\ud83d\\udcab\\ud83d\\udcab\\ud83d\\udcab\",\n\"NEGATIVE\",\n{\n            'v': 0.09494146704673767,\n            'f': \"0.09494146704673767\",\n        },\n{\n            'v': 0.03255772590637207,\n            'f': \"0.03255772590637207\",\n        }],\n [{\n            'v': 139,\n            'f': \"139\",\n        },\n\"\\u2615\\ufe0f\\u2615\\ufe0f\\u2615\\ufe0f\\ud83d\\ude09\\ud83d\\ude09\\ud83d\\ude09\",\n\"POSITIVE\",\n{\n            'v': 0.888255774974823,\n            'f': \"0.888255774974823\",\n        },\n{\n            'v': 0.032392263412475586,\n            'f': \"0.032392263412475586\",\n        }],\n [{\n            'v': 140,\n            'f': \"140\",\n        },\n\"\\ud83d\\udca5\\ud83d\\udca5\\ud83d\\udca5\\ud83d\\udca5\\ud83d\\udca5\\ud83d\\udca5\",\n\"POSITIVE\",\n{\n            'v': 0.9157861471176147,\n            'f': \"0.9157861471176147\",\n        },\n{\n            'v': 0.03229784965515137,\n            'f': \"0.03229784965515137\",\n        }],\n [{\n            'v': 141,\n            'f': \"141\",\n        },\n\"Told y\\u2019all I was a sneaker head at heart \\ud83d\\udc9c\\ud83d\\udc9c\\ud83d\\udc9c\\ud83d\\udc5f\\ud83d\\udc5f\\ud83d\\udc5f\",\n\"POSITIVE\",\n{\n            'v': 0.8087540864944458,\n            'f': \"0.8087540864944458\",\n        },\n{\n            'v': 0.03225088119506836,\n            'f': \"0.03225088119506836\",\n        }]],\n        columns: [[\"number\", \"index\"], [\"string\", \"text\"], [\"string\", \"label\"], [\"number\", \"score\"], [\"number\", \"elapsed_time\"]],\n        columnOptions: [{\"width\": \"1px\", \"className\": \"index_column\"}],\n        rowsPerPage: 25,\n        helpUrl: \"https://colab.research.google.com/notebooks/data_table.ipynb\",\n        suppressOutputScrolling: true,\n        minimumWidth: undefined,\n      });\n    ",
            "text/plain": [
              "<google.colab.data_table.DataTable object>"
            ],
            "text/html": [
              "<div>\n",
              "<style scoped>\n",
              "    .dataframe tbody tr th:only-of-type {\n",
              "        vertical-align: middle;\n",
              "    }\n",
              "\n",
              "    .dataframe tbody tr th {\n",
              "        vertical-align: top;\n",
              "    }\n",
              "\n",
              "    .dataframe thead th {\n",
              "        text-align: right;\n",
              "    }\n",
              "</style>\n",
              "<table border=\"1\" class=\"dataframe\">\n",
              "  <thead>\n",
              "    <tr style=\"text-align: right;\">\n",
              "      <th></th>\n",
              "      <th>text</th>\n",
              "      <th>label</th>\n",
              "      <th>score</th>\n",
              "      <th>elapsed_time</th>\n",
              "    </tr>\n",
              "  </thead>\n",
              "  <tbody>\n",
              "    <tr>\n",
              "      <th>0</th>\n",
              "      <td>Sending you some of that GOOD Sunday love!!!</td>\n",
              "      <td>POSITIVE</td>\n",
              "      <td>0.890622</td>\n",
              "      <td>0.032356</td>\n",
              "    </tr>\n",
              "    <tr>\n",
              "      <th>1</th>\n",
              "      <td>Tell me 3 things you’re grateful for.... Me fi...</td>\n",
              "      <td>POSITIVE</td>\n",
              "      <td>0.879244</td>\n",
              "      <td>0.036116</td>\n",
              "    </tr>\n",
              "    <tr>\n",
              "      <th>2</th>\n",
              "      <td>My brother @inglewoodSiR buggin’!!!!</td>\n",
              "      <td>NEUTRAL</td>\n",
              "      <td>0.523129</td>\n",
              "      <td>0.031741</td>\n",
              "    </tr>\n",
              "    <tr>\n",
              "      <th>3</th>\n",
              "      <td>Ask and you shall receive, our special version...</td>\n",
              "      <td>NEUTRAL</td>\n",
              "      <td>0.511510</td>\n",
              "      <td>0.030600</td>\n",
              "    </tr>\n",
              "    <tr>\n",
              "      <th>4</th>\n",
              "      <td>I feel that #ALICIA love so deeply ya’ll.</td>\n",
              "      <td>POSITIVE</td>\n",
              "      <td>0.751576</td>\n",
              "      <td>0.031121</td>\n",
              "    </tr>\n",
              "    <tr>\n",
              "      <th>...</th>\n",
              "      <td>...</td>\n",
              "      <td>...</td>\n",
              "      <td>...</td>\n",
              "      <td>...</td>\n",
              "    </tr>\n",
              "    <tr>\n",
              "      <th>137</th>\n",
              "      <td>What does soulcare mean to you?</td>\n",
              "      <td>NEGATIVE</td>\n",
              "      <td>0.252066</td>\n",
              "      <td>0.032799</td>\n",
              "    </tr>\n",
              "    <tr>\n",
              "      <th>138</th>\n",
              "      <td>💫💫💫</td>\n",
              "      <td>NEGATIVE</td>\n",
              "      <td>0.094941</td>\n",
              "      <td>0.032558</td>\n",
              "    </tr>\n",
              "    <tr>\n",
              "      <th>139</th>\n",
              "      <td>☕️☕️☕️😉😉😉</td>\n",
              "      <td>POSITIVE</td>\n",
              "      <td>0.888256</td>\n",
              "      <td>0.032392</td>\n",
              "    </tr>\n",
              "    <tr>\n",
              "      <th>140</th>\n",
              "      <td>💥💥💥💥💥💥</td>\n",
              "      <td>POSITIVE</td>\n",
              "      <td>0.915786</td>\n",
              "      <td>0.032298</td>\n",
              "    </tr>\n",
              "    <tr>\n",
              "      <th>141</th>\n",
              "      <td>Told y’all I was a sneaker head at heart 💜💜💜👟👟👟</td>\n",
              "      <td>POSITIVE</td>\n",
              "      <td>0.808754</td>\n",
              "      <td>0.032251</td>\n",
              "    </tr>\n",
              "  </tbody>\n",
              "</table>\n",
              "<p>142 rows × 4 columns</p>\n",
              "</div>"
            ]
          },
          "metadata": {
            "tags": []
          },
          "execution_count": 26
        }
      ]
    }
  ]
}