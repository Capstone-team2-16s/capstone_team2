{
  "nbformat": 4,
  "nbformat_minor": 0,
  "metadata": {
    "colab": {
      "name": "class_wordCount.ipynb",
      "provenance": [],
      "private_outputs": true,
      "collapsed_sections": []
    },
    "kernelspec": {
      "name": "python3",
      "display_name": "Python 3"
    }
  },
  "cells": [
    {
      "cell_type": "code",
      "metadata": {
        "id": "tz-6KE4M1iyi"
      },
      "source": [
        "from google.colab import drive\n",
        "drive.mount('/gdrive', force_remount = True)"
      ],
      "execution_count": null,
      "outputs": []
    },
    {
      "cell_type": "code",
      "metadata": {
        "id": "CZad7NvV1kH0"
      },
      "source": [
        "# nltk\n",
        "import string\n",
        "import nltk\n",
        "nltk.download('stopwords')\n",
        "nltk.download('punkt')\n",
        "from nltk.tokenize import word_tokenize\n",
        "from nltk.corpus import stopwords\n",
        "from nltk.stem import SnowballStemmer\n",
        "\n",
        "#utility\n",
        "import re\n",
        "import numpy as np \n",
        "import pandas as pd\n",
        "from collections import Counter\n",
        "\n",
        "#emoji\n",
        "!pip install emoji\n",
        "import emoji"
      ],
      "execution_count": null,
      "outputs": []
    },
    {
      "cell_type": "code",
      "metadata": {
        "id": "2L6rw-Xw1kKi"
      },
      "source": [
        "class preproc_Word:\n",
        "    def __init__(self):\n",
        "        pass\n",
        "\n",
        "    def readTweet(request_id):\n",
        "        id = request_id\n",
        "        file_name = 'twitter_'\n",
        "        fileformat = '.txt'\n",
        "        filename = file_name + id + fileformat\n",
        "\n",
        "        data_path = '/gdrive/My Drive/colab/data/'\n",
        "\n",
        "        # 분석 요청된 유명인 트윗 파일 open\n",
        "        with open(data_path + filename, 'r', encoding = \"utf-8\") as file:\n",
        "            tweet = file.read()\n",
        "       \n",
        "        return tweet\n",
        "\n",
        "    def preprocWordTweet(tweet):\n",
        "        # 소문자 변환\n",
        "        tweet = tweet.lower()\n",
        "        # 구두점 제거\n",
        "        tweet = re.sub(r'[^\\w\\s]', '', tweet)\n",
        "        # URL 제거\n",
        "        tweet = re.sub('((www\\.[^\\s]+)|(https?://[^\\s]+))', '', tweet)\n",
        "        # 숫자 제거\n",
        "        tweet = re.sub('\\s[0-9]+', '', tweet)\n",
        "        # 아이디 제거\n",
        "        tweet = re.sub('@[A-Za-z0-9]+', '', tweet)\n",
        "        # 이메일 제거\n",
        "        tweet = re.sub('([a-zA-Z0-9_.+-]@[a-zA-Z0-9-]+\\.[a-zA-Z0-9-]+)', '', tweet)\n",
        "\n",
        "        return tweet\n",
        "    \n",
        "    def tokenizeWord(tweet):\n",
        "        stop_words = set(stopwords.words('english')) \n",
        "        word_tokens = word_tokenize(tweet)\n",
        " \n",
        "        res = []\n",
        "        for w in word_tokens: \n",
        "            if w not in stop_words: \n",
        "                res.append(w)\n",
        "        return res\n",
        "    \n",
        "    def stemmerWord(res):\n",
        "        stemmer = SnowballStemmer('english')\n",
        "        words = [stemmer.stem(w) for w in res]\n",
        "        return words"
      ],
      "execution_count": null,
      "outputs": []
    },
    {
      "cell_type": "code",
      "metadata": {
        "id": "wKNSri0z1kNa"
      },
      "source": [
        "class word_COUNT:\n",
        "    def __init__(self):\n",
        "        pass\n",
        "\n",
        "    def countWord(request_id):\n",
        "        tweet = preproc_Word.readTweet(request_id)\n",
        "        tweet = preproc_Word.preprocWordTweet(tweet)\n",
        "        res = preproc_Word.tokenizeWord(tweet)\n",
        "        words = preproc_Word.stemmerWord(res)\n",
        "        print(Counter(words).most_common(n=5))"
      ],
      "execution_count": null,
      "outputs": []
    },
    {
      "cell_type": "code",
      "metadata": {
        "id": "yFuBpKcD1kRE"
      },
      "source": [
        "if __name__ == \"__main__\":\n",
        "    # 분석 아이디\n",
        "    request_id = '@AdinaPorter'\n",
        "    # 단어 전처리\n",
        "    preproc_word = preproc_Word()\n",
        "    # 단어 카운트\n",
        "    word_COUNT.countWord(request_id)"
      ],
      "execution_count": null,
      "outputs": []
    }
  ]
}