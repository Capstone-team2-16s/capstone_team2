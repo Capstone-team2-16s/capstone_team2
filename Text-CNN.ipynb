{
  "nbformat": 4,
  "nbformat_minor": 0,
  "metadata": {
    "colab": {
      "name": "text-CNN.ipynb",
      "provenance": [],
      "collapsed_sections": [],
      "authorship_tag": "ABX9TyMdPpmNyLSYznx83OFj4rAs",
      "include_colab_link": true
    },
    "kernelspec": {
      "name": "python3",
      "display_name": "Python 3"
    }
  },
  "cells": [
    {
      "cell_type": "markdown",
      "metadata": {
        "id": "view-in-github",
        "colab_type": "text"
      },
      "source": [
        "<a href=\"https://colab.research.google.com/github/uknowsj/Capstone_team2/blob/master/text_CNN.ipynb\" target=\"_parent\"><img src=\"https://colab.research.google.com/assets/colab-badge.svg\" alt=\"Open In Colab\"/></a>"
      ]
    },
    {
      "cell_type": "markdown",
      "metadata": {
        "id": "oVtGh-4bDpIn"
      },
      "source": [
        "# Import Library"
      ]
    },
    {
      "cell_type": "code",
      "metadata": {
        "id": "v0AJaVyPCRys",
        "outputId": "bc0eb2a8-13f0-446f-8c04-b387d7976a6d",
        "colab": {
          "base_uri": "https://localhost:8080/",
          "height": 53
        }
      },
      "source": [
        "import pandas as pd\n",
        "from pandas import DataFrame as df\n",
        "\n",
        "from tensorflow.keras.preprocessing.text import Tokenizer\n",
        "from tensorflow.keras.preprocessing.sequence import pad_sequences\n",
        "\n",
        "# nltk\n",
        "import nltk\n",
        "nltk.download('stopwords')\n",
        "from nltk.corpus import stopwords\n",
        "from  nltk.stem import SnowballStemmer\n",
        "\n",
        "# Word2vec\n",
        "import gensim\n",
        "from gensim.models import Word2Vec #@\n",
        "from gensim.utils import simple_preprocess #@\n",
        "from gensim.models.keyedvectors import KeyedVectors #@\n",
        "\n",
        "#Keras\n",
        "from keras.models import Sequential\n",
        "from keras.layers import Dense, Flatten, LSTM, Conv1D, MaxPooling1D, Dropout, Activation\n",
        "from keras.layers.embeddings import Embedding\n",
        "from keras.preprocessing.sequence import pad_sequences\n",
        "from keras.models import load_model #모델 저장\n",
        "\n",
        "#sklearn\n",
        "from sklearn.model_selection import train_test_split\n",
        "from sklearn.preprocessing import LabelEncoder\n",
        "\n",
        "# Utility\n",
        "import re\n",
        "import numpy as np\n",
        "import time #수행시간 측정\n",
        "from google.colab import files #colab에 모델 save,load"
      ],
      "execution_count": null,
      "outputs": [
        {
          "output_type": "stream",
          "text": [
            "[nltk_data] Downloading package stopwords to /root/nltk_data...\n",
            "[nltk_data]   Unzipping corpora/stopwords.zip.\n"
          ],
          "name": "stdout"
        }
      ]
    },
    {
      "cell_type": "code",
      "metadata": {
        "id": "2iooLul4Db5c"
      },
      "source": [
        "# =============== 셋팅 =============== #\n",
        "\n",
        "# DATASET\n",
        "DATASET_COLUMNS = [\"target\", \"ids\", \"date\", \"flag\", \"user\", \"text\"]\n",
        "DATASET_ENCODING = \"ISO-8859-1\"\n",
        "TRAIN_SIZE = 0.8\n",
        "\n",
        "# TEXT CLENAING\n",
        "TEXT_CLEANING_RE = \"@\\S+|https?:\\S+|http?:\\S|[^A-Za-z0-9]+\"\n",
        "\n",
        "#전처리\n",
        "stop_words = stopwords.words(\"english\")\n",
        "stemmer = SnowballStemmer(\"english\")\n",
        "\n",
        "# KERAS\n",
        "SEQUENCE_LENGTH = 300\n",
        "EPOCHS = 8\n",
        "BATCH_SIZE = 1024\n",
        "\n",
        "# SENTIMENT\n",
        "POSITIVE = \"POSITIVE\"\n",
        "NEGATIVE = \"NEGATIVE\"\n",
        "NEUTRAL = \"NEUTRAL\"\n",
        "SENTIMENT_THRESHOLDS = (0.4, 0.7)"
      ],
      "execution_count": null,
      "outputs": []
    },
    {
      "cell_type": "code",
      "metadata": {
        "id": "52gAw7EyDfYe",
        "outputId": "8331835c-14be-47f9-c350-c98046eaa728",
        "colab": {
          "base_uri": "https://localhost:8080/",
          "height": 35
        }
      },
      "source": [
        "#Colab에 연결해서 사용하기\n",
        "from google.colab import drive\n",
        "drive.mount('/content/gdrive') #,force_remount=True\n",
        "my_path='/content/gdrive/My Drive/Colab Notebooks/'"
      ],
      "execution_count": null,
      "outputs": [
        {
          "output_type": "stream",
          "text": [
            "Mounted at /content/gdrive\n"
          ],
          "name": "stdout"
        }
      ]
    },
    {
      "cell_type": "markdown",
      "metadata": {
        "id": "JK6hPwoBDnPh"
      },
      "source": [
        "# Load Data"
      ]
    },
    {
      "cell_type": "code",
      "metadata": {
        "id": "Lni-Xv--DlvX",
        "outputId": "82079731-311a-400c-c120-1ad3b5b6101d",
        "colab": {
          "base_uri": "https://localhost:8080/",
          "height": 35
        }
      },
      "source": [
        "#학습데이터 로드\n",
        "dataset=pd.read_csv(my_path+'train.csv',encoding = DATASET_ENCODING, names=DATASET_COLUMNS)\n",
        "print(dataset.shape) #1600000,6"
      ],
      "execution_count": null,
      "outputs": [
        {
          "output_type": "stream",
          "text": [
            "(1600000, 6)\n"
          ],
          "name": "stdout"
        }
      ]
    },
    {
      "cell_type": "code",
      "metadata": {
        "id": "Gh5Mzm8MD63V",
        "outputId": "193a799e-0cf9-45bd-94a5-b6106bb7d8e4",
        "colab": {
          "base_uri": "https://localhost:8080/",
          "height": 204
        }
      },
      "source": [
        "dataset.head() # negative:0, positive:4"
      ],
      "execution_count": null,
      "outputs": [
        {
          "output_type": "execute_result",
          "data": {
            "text/html": [
              "<div>\n",
              "<style scoped>\n",
              "    .dataframe tbody tr th:only-of-type {\n",
              "        vertical-align: middle;\n",
              "    }\n",
              "\n",
              "    .dataframe tbody tr th {\n",
              "        vertical-align: top;\n",
              "    }\n",
              "\n",
              "    .dataframe thead th {\n",
              "        text-align: right;\n",
              "    }\n",
              "</style>\n",
              "<table border=\"1\" class=\"dataframe\">\n",
              "  <thead>\n",
              "    <tr style=\"text-align: right;\">\n",
              "      <th></th>\n",
              "      <th>target</th>\n",
              "      <th>ids</th>\n",
              "      <th>date</th>\n",
              "      <th>flag</th>\n",
              "      <th>user</th>\n",
              "      <th>text</th>\n",
              "    </tr>\n",
              "  </thead>\n",
              "  <tbody>\n",
              "    <tr>\n",
              "      <th>0</th>\n",
              "      <td>0</td>\n",
              "      <td>1467810369</td>\n",
              "      <td>Mon Apr 06 22:19:45 PDT 2009</td>\n",
              "      <td>NO_QUERY</td>\n",
              "      <td>_TheSpecialOne_</td>\n",
              "      <td>@switchfoot http://twitpic.com/2y1zl - Awww, t...</td>\n",
              "    </tr>\n",
              "    <tr>\n",
              "      <th>1</th>\n",
              "      <td>0</td>\n",
              "      <td>1467810672</td>\n",
              "      <td>Mon Apr 06 22:19:49 PDT 2009</td>\n",
              "      <td>NO_QUERY</td>\n",
              "      <td>scotthamilton</td>\n",
              "      <td>is upset that he can't update his Facebook by ...</td>\n",
              "    </tr>\n",
              "    <tr>\n",
              "      <th>2</th>\n",
              "      <td>0</td>\n",
              "      <td>1467810917</td>\n",
              "      <td>Mon Apr 06 22:19:53 PDT 2009</td>\n",
              "      <td>NO_QUERY</td>\n",
              "      <td>mattycus</td>\n",
              "      <td>@Kenichan I dived many times for the ball. Man...</td>\n",
              "    </tr>\n",
              "    <tr>\n",
              "      <th>3</th>\n",
              "      <td>0</td>\n",
              "      <td>1467811184</td>\n",
              "      <td>Mon Apr 06 22:19:57 PDT 2009</td>\n",
              "      <td>NO_QUERY</td>\n",
              "      <td>ElleCTF</td>\n",
              "      <td>my whole body feels itchy and like its on fire</td>\n",
              "    </tr>\n",
              "    <tr>\n",
              "      <th>4</th>\n",
              "      <td>0</td>\n",
              "      <td>1467811193</td>\n",
              "      <td>Mon Apr 06 22:19:57 PDT 2009</td>\n",
              "      <td>NO_QUERY</td>\n",
              "      <td>Karoli</td>\n",
              "      <td>@nationwideclass no, it's not behaving at all....</td>\n",
              "    </tr>\n",
              "  </tbody>\n",
              "</table>\n",
              "</div>"
            ],
            "text/plain": [
              "   target  ...                                               text\n",
              "0       0  ...  @switchfoot http://twitpic.com/2y1zl - Awww, t...\n",
              "1       0  ...  is upset that he can't update his Facebook by ...\n",
              "2       0  ...  @Kenichan I dived many times for the ball. Man...\n",
              "3       0  ...    my whole body feels itchy and like its on fire \n",
              "4       0  ...  @nationwideclass no, it's not behaving at all....\n",
              "\n",
              "[5 rows x 6 columns]"
            ]
          },
          "metadata": {
            "tags": []
          },
          "execution_count": 5
        }
      ]
    },
    {
      "cell_type": "markdown",
      "metadata": {
        "id": "he__CcCXEey1"
      },
      "source": [
        "디코더 생성"
      ]
    },
    {
      "cell_type": "code",
      "metadata": {
        "id": "8QHE3iODEF3G"
      },
      "source": [
        "decode_map = {0: NEGATIVE, 2: NEUTRAL, 4: POSITIVE} #숫자 => 분류 문장\n",
        "def decode_sentiment(label):\n",
        "    return decode_map[int(label)]"
      ],
      "execution_count": null,
      "outputs": []
    },
    {
      "cell_type": "code",
      "metadata": {
        "id": "RRpwwlNKEHIl",
        "outputId": "6e31032b-7da1-4603-d8d5-1120519003be",
        "colab": {
          "base_uri": "https://localhost:8080/",
          "height": 53
        }
      },
      "source": [
        "%%time\n",
        "dataset.target = dataset.target.apply(lambda x: decode_sentiment(x))"
      ],
      "execution_count": null,
      "outputs": [
        {
          "output_type": "stream",
          "text": [
            "CPU times: user 501 ms, sys: 1.2 ms, total: 502 ms\n",
            "Wall time: 504 ms\n"
          ],
          "name": "stdout"
        }
      ]
    },
    {
      "cell_type": "markdown",
      "metadata": {
        "id": "QqtawW_BETlh"
      },
      "source": [
        "# Pre-Processing "
      ]
    },
    {
      "cell_type": "markdown",
      "metadata": {
        "id": "8Qf3QxwhEoPe"
      },
      "source": [
        "클리닝 텍스트 ***이 부분 수민님 코드로 수정해주시면 됩니다.***"
      ]
    },
    {
      "cell_type": "code",
      "metadata": {
        "id": "dhlDfCgKEgoe"
      },
      "source": [
        "#학습 데이터 텍스트 전처리\n",
        "def preprocess(text, stem=False):\n",
        "    # Remove link,user and special characters\n",
        "    text = re.sub(TEXT_CLEANING_RE, ' ', str(text).lower()).strip()\n",
        "    tokens = []\n",
        "    for token in text.split():\n",
        "        if token not in stop_words:\n",
        "            if stem:\n",
        "                tokens.append(stemmer.stem(token))\n",
        "            else:\n",
        "                tokens.append(token)\n",
        "    return \" \".join(tokens)"
      ],
      "execution_count": null,
      "outputs": []
    },
    {
      "cell_type": "code",
      "metadata": {
        "id": "1AzW9V9zESDN"
      },
      "source": [
        "dataset.text = dataset.text.apply(lambda x: preprocess(x)) #전처리 진행"
      ],
      "execution_count": null,
      "outputs": []
    },
    {
      "cell_type": "markdown",
      "metadata": {
        "id": "5SJbxU4_E0_-"
      },
      "source": [
        "학습 데이터 나누기 "
      ]
    },
    {
      "cell_type": "code",
      "metadata": {
        "id": "w6p1j_FYEwmu",
        "outputId": "629fb81e-4511-43a5-85a7-b0cdee12fb47",
        "colab": {
          "base_uri": "https://localhost:8080/",
          "height": 53
        }
      },
      "source": [
        "train, test = train_test_split(dataset, test_size=1-TRAIN_SIZE, random_state=42)\n",
        "print(\"TRAIN size:\", len(train))\n",
        "print(\"TEST size:\", len(test))"
      ],
      "execution_count": null,
      "outputs": [
        {
          "output_type": "stream",
          "text": [
            "TRAIN size: 1280000\n",
            "TEST size: 320000\n"
          ],
          "name": "stdout"
        }
      ]
    },
    {
      "cell_type": "code",
      "metadata": {
        "id": "2rUn2oroE5nW"
      },
      "source": [
        "documents = [_text.split() for _text in train.text] #list, 1280000*50"
      ],
      "execution_count": null,
      "outputs": []
    },
    {
      "cell_type": "code",
      "metadata": {
        "id": "Fm_4qfssE99e"
      },
      "source": [
        "vocab_size = 400000\n",
        "tk = Tokenizer(num_words=vocab_size)\n",
        "tk.fit_on_texts(train.text) \n",
        "x_train = tk.texts_to_sequences(train.text)\n",
        "x_test = tk.texts_to_sequences(test.text)"
      ],
      "execution_count": null,
      "outputs": []
    },
    {
      "cell_type": "code",
      "metadata": {
        "id": "TiY0WCuSFDpd",
        "outputId": "c4801606-a015-4a48-c69b-59a10a720ca3",
        "colab": {
          "base_uri": "https://localhost:8080/",
          "height": 35
        }
      },
      "source": [
        "labels = train.target.unique().tolist() #POSITIVE NEUTRAL NEGATIVE\n",
        "labels.append(NEUTRAL)\n",
        "print(labels)\n",
        "\n",
        "encoder = LabelEncoder() #문장 -> 숫자 자동으로\n",
        "encoder.fit(train.target.tolist())\n",
        "\n",
        "y_train = encoder.transform(train.target.tolist())\n",
        "y_test = encoder.transform(test.target.tolist())\n",
        "\n",
        "y_train = y_train.reshape(-1,1) #1열로 자동으로 만들어줍니다.\n",
        "y_test = y_test.reshape(-1,1)"
      ],
      "execution_count": null,
      "outputs": [
        {
          "output_type": "stream",
          "text": [
            "['POSITIVE', 'NEGATIVE', 'NEUTRAL']\n"
          ],
          "name": "stdout"
        }
      ]
    },
    {
      "cell_type": "markdown",
      "metadata": {
        "id": "E59tnUScFqpN"
      },
      "source": [
        "# Build Model"
      ]
    },
    {
      "cell_type": "code",
      "metadata": {
        "id": "Ya4z4LS8FfQ9",
        "outputId": "0eb86f3c-ae85-4bdd-a932-8d2dccd350dd",
        "colab": {
          "base_uri": "https://localhost:8080/",
          "height": 35
        }
      },
      "source": [
        "max_len=max(len(l) for l in x_train) #한 문장에서 최대 단어 개수를 반환 #max_len=50"
      ],
      "execution_count": null,
      "outputs": [
        {
          "output_type": "stream",
          "text": [
            "50\n"
          ],
          "name": "stdout"
        }
      ]
    },
    {
      "cell_type": "code",
      "metadata": {
        "id": "P0XIqKeIFlS3",
        "outputId": "8fd1b939-e680-4665-d6b8-589522b32cb3",
        "colab": {
          "base_uri": "https://localhost:8080/",
          "height": 35
        }
      },
      "source": [
        "X_train = np.array(pad_sequences(x_train, maxlen=max_len, padding='post')) #max_len만큼 padding 값 설정 \n",
        "print(X_train.shape, y_train.shape)"
      ],
      "execution_count": null,
      "outputs": [
        {
          "output_type": "stream",
          "text": [
            "(1280000, 50) (1280000, 1)\n"
          ],
          "name": "stdout"
        }
      ]
    },
    {
      "cell_type": "markdown",
      "metadata": {
        "id": "LtsqvPceHTPn"
      },
      "source": [
        "text-CNN 모델 빌드 ***3시간 정도 걸립니다. 결과만 보려면 아래에서 로드해서 보세요***"
      ]
    },
    {
      "cell_type": "code",
      "metadata": {
        "id": "BlaQMTDiHS1C"
      },
      "source": [
        "#Make Model\n",
        "model = Sequential()\n",
        "\n",
        "model.add(Embedding(vocab_size, 32, input_length=max_len))\n",
        "model.add(Conv1D(filters=128, kernel_size=5, padding='same', activation='relu'))\n",
        "model.add(MaxPooling1D(pool_size=2))\n",
        "model.add(Dropout(0.2))\n",
        "model.add(Conv1D(filters=64, kernel_size=6, padding='same', activation='relu'))\n",
        "model.add(MaxPooling1D(pool_size=2))\n",
        "model.add(Dropout(0.2))\n",
        "model.add(Conv1D(filters=32, kernel_size=7, padding='same', activation='relu'))\n",
        "model.add(MaxPooling1D(pool_size=2))\n",
        "model.add(Dropout(0.2))\n",
        "model.add(Conv1D(filters=32, kernel_size=8, padding='same', activation='relu'))\n",
        "model.add(MaxPooling1D(pool_size=2))\n",
        "model.add(Dropout(0.2))\n",
        "model.add(Flatten())\n",
        "model.add(Dense(1, input_shape=(1,)))\n",
        "model.compile('SGD','mse',metrics=['accuracy'])\n",
        "model.summary()\n",
        "\n",
        "model.fit(X, y, epochs=10, verbose=1)\n",
        "model.save('model.h5')"
      ],
      "execution_count": null,
      "outputs": []
    },
    {
      "cell_type": "markdown",
      "metadata": {
        "id": "EVLNnwaQGcqY"
      },
      "source": [
        "text-CNN 모델 로드"
      ]
    },
    {
      "cell_type": "code",
      "metadata": {
        "id": "QMtBkljkFhK2"
      },
      "source": [
        "model = load_model(my_path+'text-CNN.h5')"
      ],
      "execution_count": null,
      "outputs": []
    },
    {
      "cell_type": "code",
      "metadata": {
        "id": "OcNH3SqYIwRB"
      },
      "source": [
        "def decode_sentiment(score, include_neutral=True):\n",
        "    if include_neutral:        \n",
        "        label = NEUTRAL\n",
        "        if score <= SENTIMENT_THRESHOLDS[0]:\n",
        "            label = NEGATIVE\n",
        "        elif score >= SENTIMENT_THRESHOLDS[1]:\n",
        "            label = POSITIVE\n",
        "\n",
        "        return label\n",
        "    else:\n",
        "        return NEGATIVE if score < 0.5 else POSITIVE"
      ],
      "execution_count": null,
      "outputs": []
    },
    {
      "cell_type": "code",
      "metadata": {
        "id": "XLC_MSjVHq--"
      },
      "source": [
        "def predict(ex_text, include_neutral=True):\n",
        "    start_at = time.time()\n",
        "    x_encoded = tk.texts_to_sequences([ex_text])\n",
        "    res_test=np.array(pad_sequences(x_encoded, maxlen=max_len, padding='post'))\n",
        "    # Predict\n",
        "    score = model.predict([res_test])\n",
        "    # Decode sentiment\n",
        "    label = decode_sentiment(score, include_neutral=include_neutral)\n",
        "    \n",
        "    return {\"label\": label, \"score\": float(score),\n",
        "       \"elapsed_time\": time.time()-start_at}"
      ],
      "execution_count": null,
      "outputs": []
    },
    {
      "cell_type": "code",
      "metadata": {
        "id": "nm2nRzjnHuh_",
        "outputId": "85ee97e0-a1b7-40ed-da28-0dcd4b3f3ff0",
        "colab": {
          "base_uri": "https://localhost:8080/",
          "height": 71
        }
      },
      "source": [
        "predict(\"That's so sad\")"
      ],
      "execution_count": null,
      "outputs": [
        {
          "output_type": "execute_result",
          "data": {
            "text/plain": [
              "{'elapsed_time': 0.042258501052856445,\n",
              " 'label': 'NEGATIVE',\n",
              " 'score': 0.05291527509689331}"
            ]
          },
          "metadata": {
            "tags": []
          },
          "execution_count": 25
        }
      ]
    },
    {
      "cell_type": "markdown",
      "metadata": {
        "id": "XeTF_kX6JVqH"
      },
      "source": [
        "# 트위터 데이터로 예측해보기"
      ]
    },
    {
      "cell_type": "code",
      "metadata": {
        "id": "4igM5EJLJa7f"
      },
      "source": [
        "#트위터 샘플문장\n",
        "samples=pd.read_csv(my_path+'/sample.txt', sep = \"\\n\",encoding = \"utf8\",header=None)"
      ],
      "execution_count": null,
      "outputs": []
    },
    {
      "cell_type": "code",
      "metadata": {
        "id": "MRqLKZzeMZW8"
      },
      "source": [
        "df_res = pd.DataFrame({'text':[],\n",
        "                   'label':[],\n",
        "                   'score':[],\n",
        "                  'elapsed_time':[]}) #결과 dataframe 생성"
      ],
      "execution_count": null,
      "outputs": []
    },
    {
      "cell_type": "code",
      "metadata": {
        "id": "frWmvuIwNY-_",
        "outputId": "d828193a-9e58-4fa9-dacf-e33f028f4ec6",
        "colab": {
          "base_uri": "https://localhost:8080/",
          "height": 1000
        }
      },
      "source": [
        "for col,item in samples.iterrows():\n",
        "  res=predict(item[0])\n",
        "  df_res.loc[col]=[ item[0], res['label'], res['score'],res['elapsed_time'] ]\n",
        "\n",
        "df_res"
      ],
      "execution_count": null,
      "outputs": [
        {
          "output_type": "execute_result",
          "data": {
            "text/html": [
              "<div>\n",
              "<style scoped>\n",
              "    .dataframe tbody tr th:only-of-type {\n",
              "        vertical-align: middle;\n",
              "    }\n",
              "\n",
              "    .dataframe tbody tr th {\n",
              "        vertical-align: top;\n",
              "    }\n",
              "\n",
              "    .dataframe thead th {\n",
              "        text-align: right;\n",
              "    }\n",
              "</style>\n",
              "<table border=\"1\" class=\"dataframe\">\n",
              "  <thead>\n",
              "    <tr style=\"text-align: right;\">\n",
              "      <th></th>\n",
              "      <th>text</th>\n",
              "      <th>label</th>\n",
              "      <th>score</th>\n",
              "      <th>elapsed_time</th>\n",
              "    </tr>\n",
              "  </thead>\n",
              "  <tbody>\n",
              "    <tr>\n",
              "      <th>0</th>\n",
              "      <td>You are so great.</td>\n",
              "      <td>POSITIVE</td>\n",
              "      <td>0.848741</td>\n",
              "      <td>0.044803</td>\n",
              "    </tr>\n",
              "    <tr>\n",
              "      <th>1</th>\n",
              "      <td>I’m gonna stop tweeting coz</td>\n",
              "      <td>NEUTRAL</td>\n",
              "      <td>0.489361</td>\n",
              "      <td>0.029485</td>\n",
              "    </tr>\n",
              "    <tr>\n",
              "      <th>2</th>\n",
              "      <td>If you’re a massive fan of someone and their m...</td>\n",
              "      <td>POSITIVE</td>\n",
              "      <td>0.774252</td>\n",
              "      <td>0.031400</td>\n",
              "    </tr>\n",
              "    <tr>\n",
              "      <th>3</th>\n",
              "      <td>Imagine if I was actually like that hahahahahaha</td>\n",
              "      <td>POSITIVE</td>\n",
              "      <td>0.849568</td>\n",
              "      <td>0.030909</td>\n",
              "    </tr>\n",
              "    <tr>\n",
              "      <th>4</th>\n",
              "      <td>I just can’t get over how good this song is, I...</td>\n",
              "      <td>NEUTRAL</td>\n",
              "      <td>0.685502</td>\n",
              "      <td>0.028803</td>\n",
              "    </tr>\n",
              "    <tr>\n",
              "      <th>5</th>\n",
              "      <td>NEXT YEARS CALENDAR ? https://t.co/eW8jPaP8C1</td>\n",
              "      <td>POSITIVE</td>\n",
              "      <td>0.810429</td>\n",
              "      <td>0.037615</td>\n",
              "    </tr>\n",
              "    <tr>\n",
              "      <th>6</th>\n",
              "      <td>Let go of your story line. Try something new.</td>\n",
              "      <td>POSITIVE</td>\n",
              "      <td>0.761244</td>\n",
              "      <td>0.032903</td>\n",
              "    </tr>\n",
              "    <tr>\n",
              "      <th>7</th>\n",
              "      <td>WAHOOOOOOOOOOOOOO https://t.co/JvkXq5aYUF</td>\n",
              "      <td>POSITIVE</td>\n",
              "      <td>0.738181</td>\n",
              "      <td>0.031280</td>\n",
              "    </tr>\n",
              "    <tr>\n",
              "      <th>8</th>\n",
              "      <td>OI OIIIIIIIIIIII @BBCR1 https://t.co/5gvIFGyDUm</td>\n",
              "      <td>NEUTRAL</td>\n",
              "      <td>0.662776</td>\n",
              "      <td>0.029776</td>\n",
              "    </tr>\n",
              "    <tr>\n",
              "      <th>9</th>\n",
              "      <td>YESSSSSSSS HAHHAHAHA https://t.co/zqwDrCBTkN</td>\n",
              "      <td>POSITIVE</td>\n",
              "      <td>0.826386</td>\n",
              "      <td>0.027991</td>\n",
              "    </tr>\n",
              "    <tr>\n",
              "      <th>10</th>\n",
              "      <td>Brain farts. I like that 🤣🤣 https://t.co/mSXwF...</td>\n",
              "      <td>NEGATIVE</td>\n",
              "      <td>0.335431</td>\n",
              "      <td>0.027249</td>\n",
              "    </tr>\n",
              "    <tr>\n",
              "      <th>11</th>\n",
              "      <td>Do you wanna know if we listen alike? Check ou...</td>\n",
              "      <td>POSITIVE</td>\n",
              "      <td>0.743572</td>\n",
              "      <td>0.027699</td>\n",
              "    </tr>\n",
              "    <tr>\n",
              "      <th>12</th>\n",
              "      <td>❤️ @charliemackesy https://t.co/iLqJOGdtU8</td>\n",
              "      <td>POSITIVE</td>\n",
              "      <td>0.738181</td>\n",
              "      <td>0.027815</td>\n",
              "    </tr>\n",
              "    <tr>\n",
              "      <th>13</th>\n",
              "      <td>LISTEN! https://t.co/RDi2srZYIY</td>\n",
              "      <td>POSITIVE</td>\n",
              "      <td>0.807752</td>\n",
              "      <td>0.026790</td>\n",
              "    </tr>\n",
              "    <tr>\n",
              "      <th>14</th>\n",
              "      <td>A local barber in my neighbourhood was arreste...</td>\n",
              "      <td>NEGATIVE</td>\n",
              "      <td>0.234356</td>\n",
              "      <td>0.027299</td>\n",
              "    </tr>\n",
              "    <tr>\n",
              "      <th>15</th>\n",
              "      <td>Unbelievable. I’d been his customer for years ...</td>\n",
              "      <td>NEUTRAL</td>\n",
              "      <td>0.567308</td>\n",
              "      <td>0.036803</td>\n",
              "    </tr>\n",
              "    <tr>\n",
              "      <th>16</th>\n",
              "      <td>❤️❤️❤️❤️❤️❤️❤️ https://t.co/saSp789Xk0</td>\n",
              "      <td>POSITIVE</td>\n",
              "      <td>0.738181</td>\n",
              "      <td>0.027840</td>\n",
              "    </tr>\n",
              "    <tr>\n",
              "      <th>17</th>\n",
              "      <td>I got fired from my job at the bank today.</td>\n",
              "      <td>NEGATIVE</td>\n",
              "      <td>0.170351</td>\n",
              "      <td>0.029817</td>\n",
              "    </tr>\n",
              "    <tr>\n",
              "      <th>18</th>\n",
              "      <td>An old lady asked me to check her balance - so...</td>\n",
              "      <td>NEUTRAL</td>\n",
              "      <td>0.440291</td>\n",
              "      <td>0.028376</td>\n",
              "    </tr>\n",
              "    <tr>\n",
              "      <th>19</th>\n",
              "      <td>Want more jokes ?</td>\n",
              "      <td>NEGATIVE</td>\n",
              "      <td>0.186067</td>\n",
              "      <td>0.028289</td>\n",
              "    </tr>\n",
              "    <tr>\n",
              "      <th>20</th>\n",
              "      <td>I asked my wife if I was the only one she’d be...</td>\n",
              "      <td>NEUTRAL</td>\n",
              "      <td>0.694302</td>\n",
              "      <td>0.028438</td>\n",
              "    </tr>\n",
              "    <tr>\n",
              "      <th>21</th>\n",
              "      <td>She said yes, all the others had been nines an...</td>\n",
              "      <td>POSITIVE</td>\n",
              "      <td>0.719758</td>\n",
              "      <td>0.026146</td>\n",
              "    </tr>\n",
              "    <tr>\n",
              "      <th>22</th>\n",
              "      <td>Next joke in 10 minutes</td>\n",
              "      <td>NEUTRAL</td>\n",
              "      <td>0.498560</td>\n",
              "      <td>0.030542</td>\n",
              "    </tr>\n",
              "    <tr>\n",
              "      <th>23</th>\n",
              "      <td>The man who invented Velcro died.</td>\n",
              "      <td>NEGATIVE</td>\n",
              "      <td>0.081074</td>\n",
              "      <td>0.031896</td>\n",
              "    </tr>\n",
              "    <tr>\n",
              "      <th>24</th>\n",
              "      <td>RIP</td>\n",
              "      <td>NEGATIVE</td>\n",
              "      <td>0.053629</td>\n",
              "      <td>0.033132</td>\n",
              "    </tr>\n",
              "    <tr>\n",
              "      <th>25</th>\n",
              "      <td>WHAT AN INCREDIBLE WOMAN! https://t.co/yfkUytMViT</td>\n",
              "      <td>POSITIVE</td>\n",
              "      <td>0.871753</td>\n",
              "      <td>0.026812</td>\n",
              "    </tr>\n",
              "    <tr>\n",
              "      <th>26</th>\n",
              "      <td>I went to a psychic and knocked on her front d...</td>\n",
              "      <td>NEUTRAL</td>\n",
              "      <td>0.487977</td>\n",
              "      <td>0.028353</td>\n",
              "    </tr>\n",
              "    <tr>\n",
              "      <th>27</th>\n",
              "      <td>She yelled “who is it?”.</td>\n",
              "      <td>NEGATIVE</td>\n",
              "      <td>0.128017</td>\n",
              "      <td>0.027632</td>\n",
              "    </tr>\n",
              "    <tr>\n",
              "      <th>28</th>\n",
              "      <td>So I left.</td>\n",
              "      <td>NEGATIVE</td>\n",
              "      <td>0.168176</td>\n",
              "      <td>0.026584</td>\n",
              "    </tr>\n",
              "    <tr>\n",
              "      <th>29</th>\n",
              "      <td>Working out is like a drug to me.</td>\n",
              "      <td>NEUTRAL</td>\n",
              "      <td>0.456073</td>\n",
              "      <td>0.028726</td>\n",
              "    </tr>\n",
              "    <tr>\n",
              "      <th>30</th>\n",
              "      <td>I don’t do drugs.</td>\n",
              "      <td>NEUTRAL</td>\n",
              "      <td>0.523887</td>\n",
              "      <td>0.027112</td>\n",
              "    </tr>\n",
              "    <tr>\n",
              "      <th>31</th>\n",
              "      <td>YEAAHAHHHAHAHHAHAHAHAHAHA https://t.co/Dsm0EOeZXU</td>\n",
              "      <td>POSITIVE</td>\n",
              "      <td>0.738181</td>\n",
              "      <td>0.026658</td>\n",
              "    </tr>\n",
              "    <tr>\n",
              "      <th>32</th>\n",
              "      <td>My boss hates it when I shorten his name to Di...</td>\n",
              "      <td>NEGATIVE</td>\n",
              "      <td>0.233983</td>\n",
              "      <td>0.028718</td>\n",
              "    </tr>\n",
              "    <tr>\n",
              "      <th>33</th>\n",
              "      <td>Especially when his name is Steve.</td>\n",
              "      <td>POSITIVE</td>\n",
              "      <td>0.823495</td>\n",
              "      <td>0.033662</td>\n",
              "    </tr>\n",
              "    <tr>\n",
              "      <th>34</th>\n",
              "      <td>You’ll have another one in half hour I gotta s...</td>\n",
              "      <td>NEUTRAL</td>\n",
              "      <td>0.464853</td>\n",
              "      <td>0.028848</td>\n",
              "    </tr>\n",
              "    <tr>\n",
              "      <th>35</th>\n",
              "      <td>I met a girl the other night at a club who sai...</td>\n",
              "      <td>POSITIVE</td>\n",
              "      <td>0.833642</td>\n",
              "      <td>0.028915</td>\n",
              "    </tr>\n",
              "    <tr>\n",
              "      <th>36</th>\n",
              "      <td>When we got outside, she ran a 40 metre dash i...</td>\n",
              "      <td>NEUTRAL</td>\n",
              "      <td>0.403169</td>\n",
              "      <td>0.029468</td>\n",
              "    </tr>\n",
              "    <tr>\n",
              "      <th>37</th>\n",
              "      <td>Just got a new joke book</td>\n",
              "      <td>POSITIVE</td>\n",
              "      <td>0.846957</td>\n",
              "      <td>0.031748</td>\n",
              "    </tr>\n",
              "    <tr>\n",
              "      <th>38</th>\n",
              "      <td>Here we go</td>\n",
              "      <td>NEUTRAL</td>\n",
              "      <td>0.522426</td>\n",
              "      <td>0.030749</td>\n",
              "    </tr>\n",
              "    <tr>\n",
              "      <th>39</th>\n",
              "      <td>Today I’m gonna be writing a lot of jokes for you</td>\n",
              "      <td>POSITIVE</td>\n",
              "      <td>0.835386</td>\n",
              "      <td>0.030822</td>\n",
              "    </tr>\n",
              "    <tr>\n",
              "      <th>40</th>\n",
              "      <td>Your life isn’t yours if you constantly care w...</td>\n",
              "      <td>POSITIVE</td>\n",
              "      <td>0.721658</td>\n",
              "      <td>0.032947</td>\n",
              "    </tr>\n",
              "    <tr>\n",
              "      <th>41</th>\n",
              "      <td>OIIIIIIIIIIIIIIIIIIIII 🔥🔥🔥🔥🔥 https://t.co/ecsQ...</td>\n",
              "      <td>POSITIVE</td>\n",
              "      <td>0.738181</td>\n",
              "      <td>0.029698</td>\n",
              "    </tr>\n",
              "  </tbody>\n",
              "</table>\n",
              "</div>"
            ],
            "text/plain": [
              "                                                 text  ... elapsed_time\n",
              "0                                   You are so great.  ...     0.044803\n",
              "1                         I’m gonna stop tweeting coz  ...     0.029485\n",
              "2   If you’re a massive fan of someone and their m...  ...     0.031400\n",
              "3    Imagine if I was actually like that hahahahahaha  ...     0.030909\n",
              "4   I just can’t get over how good this song is, I...  ...     0.028803\n",
              "5       NEXT YEARS CALENDAR ? https://t.co/eW8jPaP8C1  ...     0.037615\n",
              "6       Let go of your story line. Try something new.  ...     0.032903\n",
              "7           WAHOOOOOOOOOOOOOO https://t.co/JvkXq5aYUF  ...     0.031280\n",
              "8     OI OIIIIIIIIIIII @BBCR1 https://t.co/5gvIFGyDUm  ...     0.029776\n",
              "9        YESSSSSSSS HAHHAHAHA https://t.co/zqwDrCBTkN  ...     0.027991\n",
              "10  Brain farts. I like that 🤣🤣 https://t.co/mSXwF...  ...     0.027249\n",
              "11  Do you wanna know if we listen alike? Check ou...  ...     0.027699\n",
              "12         ❤️ @charliemackesy https://t.co/iLqJOGdtU8  ...     0.027815\n",
              "13                    LISTEN! https://t.co/RDi2srZYIY  ...     0.026790\n",
              "14  A local barber in my neighbourhood was arreste...  ...     0.027299\n",
              "15  Unbelievable. I’d been his customer for years ...  ...     0.036803\n",
              "16             ❤️❤️❤️❤️❤️❤️❤️ https://t.co/saSp789Xk0  ...     0.027840\n",
              "17         I got fired from my job at the bank today.  ...     0.029817\n",
              "18  An old lady asked me to check her balance - so...  ...     0.028376\n",
              "19                                  Want more jokes ?  ...     0.028289\n",
              "20  I asked my wife if I was the only one she’d be...  ...     0.028438\n",
              "21  She said yes, all the others had been nines an...  ...     0.026146\n",
              "22                            Next joke in 10 minutes  ...     0.030542\n",
              "23                  The man who invented Velcro died.  ...     0.031896\n",
              "24                                                RIP  ...     0.033132\n",
              "25  WHAT AN INCREDIBLE WOMAN! https://t.co/yfkUytMViT  ...     0.026812\n",
              "26  I went to a psychic and knocked on her front d...  ...     0.028353\n",
              "27                          She yelled “who is it?”.   ...     0.027632\n",
              "28                                         So I left.  ...     0.026584\n",
              "29                  Working out is like a drug to me.  ...     0.028726\n",
              "30                                  I don’t do drugs.  ...     0.027112\n",
              "31  YEAAHAHHHAHAHHAHAHAHAHAHA https://t.co/Dsm0EOeZXU  ...     0.026658\n",
              "32  My boss hates it when I shorten his name to Di...  ...     0.028718\n",
              "33                 Especially when his name is Steve.  ...     0.033662\n",
              "34  You’ll have another one in half hour I gotta s...  ...     0.028848\n",
              "35  I met a girl the other night at a club who sai...  ...     0.028915\n",
              "36  When we got outside, she ran a 40 metre dash i...  ...     0.029468\n",
              "37                           Just got a new joke book  ...     0.031748\n",
              "38                                         Here we go  ...     0.030749\n",
              "39  Today I’m gonna be writing a lot of jokes for you  ...     0.030822\n",
              "40  Your life isn’t yours if you constantly care w...  ...     0.032947\n",
              "41  OIIIIIIIIIIIIIIIIIIIII 🔥🔥🔥🔥🔥 https://t.co/ecsQ...  ...     0.029698\n",
              "\n",
              "[42 rows x 4 columns]"
            ]
          },
          "metadata": {
            "tags": []
          },
          "execution_count": 107
        }
      ]
    }
  ]
}
